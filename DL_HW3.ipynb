{
  "nbformat": 4,
  "nbformat_minor": 0,
  "metadata": {
    "colab": {
      "name": "DL-HW3.ipynb",
      "provenance": [],
      "collapsed_sections": [],
      "machine_shape": "hm"
    },
    "kernelspec": {
      "name": "python3",
      "display_name": "Python 3"
    },
    "language_info": {
      "name": "python"
    }
  },
  "cells": [
    {
      "cell_type": "markdown",
      "source": [
        "# Installations & Imports"
      ],
      "metadata": {
        "id": "s7uLDgLasI3R"
      }
    },
    {
      "cell_type": "code",
      "source": [
        "! pip install pretty_midi\n",
        "! pip install contractions"
      ],
      "metadata": {
        "id": "VV6S8Q6g6Lzf",
        "colab": {
          "base_uri": "https://localhost:8080/"
        },
        "outputId": "8af8bece-1bfa-412d-de60-f914f661fe92"
      },
      "execution_count": null,
      "outputs": [
        {
          "output_type": "stream",
          "name": "stdout",
          "text": [
            "Looking in indexes: https://pypi.org/simple, https://us-python.pkg.dev/colab-wheels/public/simple/\n",
            "Collecting pretty_midi\n",
            "  Downloading pretty_midi-0.2.9.tar.gz (5.6 MB)\n",
            "\u001b[K     |████████████████████████████████| 5.6 MB 4.7 MB/s \n",
            "\u001b[?25hRequirement already satisfied: numpy>=1.7.0 in /usr/local/lib/python3.7/dist-packages (from pretty_midi) (1.21.6)\n",
            "Collecting mido>=1.1.16\n",
            "  Downloading mido-1.2.10-py2.py3-none-any.whl (51 kB)\n",
            "\u001b[K     |████████████████████████████████| 51 kB 7.7 MB/s \n",
            "\u001b[?25hRequirement already satisfied: six in /usr/local/lib/python3.7/dist-packages (from pretty_midi) (1.15.0)\n",
            "Building wheels for collected packages: pretty-midi\n",
            "  Building wheel for pretty-midi (setup.py) ... \u001b[?25l\u001b[?25hdone\n",
            "  Created wheel for pretty-midi: filename=pretty_midi-0.2.9-py3-none-any.whl size=5591955 sha256=a0a0367447696aad78dcd57496d7552b2dd233a2625559f6494504ee2ea60ffa\n",
            "  Stored in directory: /root/.cache/pip/wheels/ad/74/7c/a06473ca8dcb63efb98c1e67667ce39d52100f837835ea18fa\n",
            "Successfully built pretty-midi\n",
            "Installing collected packages: mido, pretty-midi\n",
            "Successfully installed mido-1.2.10 pretty-midi-0.2.9\n",
            "Looking in indexes: https://pypi.org/simple, https://us-python.pkg.dev/colab-wheels/public/simple/\n",
            "Collecting contractions\n",
            "  Downloading contractions-0.1.72-py2.py3-none-any.whl (8.3 kB)\n",
            "Collecting textsearch>=0.0.21\n",
            "  Downloading textsearch-0.0.21-py2.py3-none-any.whl (7.5 kB)\n",
            "Collecting pyahocorasick\n",
            "  Downloading pyahocorasick-1.4.4-cp37-cp37m-manylinux_2_17_x86_64.manylinux2014_x86_64.whl (106 kB)\n",
            "\u001b[K     |████████████████████████████████| 106 kB 5.2 MB/s \n",
            "\u001b[?25hCollecting anyascii\n",
            "  Downloading anyascii-0.3.1-py3-none-any.whl (287 kB)\n",
            "\u001b[K     |████████████████████████████████| 287 kB 37.8 MB/s \n",
            "\u001b[?25hInstalling collected packages: pyahocorasick, anyascii, textsearch, contractions\n",
            "Successfully installed anyascii-0.3.1 contractions-0.1.72 pyahocorasick-1.4.4 textsearch-0.0.21\n"
          ]
        }
      ]
    },
    {
      "cell_type": "code",
      "execution_count": null,
      "metadata": {
        "id": "UV25QKoh5s7j",
        "colab": {
          "base_uri": "https://localhost:8080/"
        },
        "outputId": "431a19eb-6d68-4652-e997-b544630bf945"
      },
      "outputs": [
        {
          "output_type": "stream",
          "name": "stdout",
          "text": [
            "[nltk_data] Downloading package punkt to /root/nltk_data...\n",
            "[nltk_data]   Package punkt is already up-to-date!\n"
          ]
        }
      ],
      "source": [
        "# general imports\n",
        "import pretty_midi\n",
        "import pandas as pd\n",
        "import os\n",
        "import numpy as np\n",
        "from collections import Counter\n",
        "import joblib\n",
        "from statistics import mean\n",
        "import matplotlib.pyplot as plt\n",
        "import seaborn as sns\n",
        "import gc\n",
        "\n",
        "# NLP imports\n",
        "import nltk\n",
        "import contractions\n",
        "import string\n",
        "from gensim.models import Word2Vec\n",
        "from nltk.tokenize import word_tokenize\n",
        "nltk.download('punkt')\n",
        "punctuation = list(string.punctuation)\n",
        "punctuation.remove('&')\n",
        "\n",
        "# tensorflow\n",
        "import tensorflow as tf\n",
        "from tensorflow.keras.layers import Input, LSTM, Embedding, Concatenate, Dropout, Dense\n",
        "from tensorflow.keras.callbacks import ModelCheckpoint, EarlyStopping, ReduceLROnPlateau\n",
        "from tensorflow.keras.models import Model\n",
        "from tensorflow.keras.optimizers import Adam\n",
        "from tensorflow.keras.utils import plot_model \n",
        "\n",
        "\n",
        "# sklearn"
      ]
    },
    {
      "cell_type": "code",
      "source": [
        "# params\n",
        "VALIDATION_FRAC = 0.2\n",
        "w2v_size = 300\n",
        "fs = 5\n",
        "\n",
        "# paths\n",
        "midis_path = '/content/MyDrive/Shareddrives/DL-HW3/midi_files/'\n",
        "train_csv_lyrics_path = '/content/MyDrive/Shareddrives/DL-HW3/lyrics_train_set.csv'\n",
        "test_csv_lyrics_path = '/content/MyDrive/Shareddrives/DL-HW3/lyrics_test_set.csv'"
      ],
      "metadata": {
        "id": "BqGhPwzry1_m"
      },
      "execution_count": null,
      "outputs": []
    },
    {
      "cell_type": "code",
      "source": [
        "from google.colab import drive\n",
        "drive.mount('/content/MyDrive')"
      ],
      "metadata": {
        "colab": {
          "base_uri": "https://localhost:8080/"
        },
        "id": "ypC2Qnh_r8vy",
        "outputId": "6fbc1782-6f76-4a24-83aa-34b0b087fc2e"
      },
      "execution_count": null,
      "outputs": [
        {
          "output_type": "stream",
          "name": "stdout",
          "text": [
            "Mounted at /content/MyDrive\n"
          ]
        }
      ]
    },
    {
      "cell_type": "markdown",
      "source": [
        "# Load the data"
      ],
      "metadata": {
        "id": "lOI6ACOxsOvu"
      }
    },
    {
      "cell_type": "code",
      "source": [
        "cols = ['Singer', 'Song Name', 'Lyrics']\n",
        "\n",
        "train_set = pd.read_csv(train_csv_lyrics_path)\n",
        "test_set = pd.read_csv(test_csv_lyrics_path, names=cols)\n",
        "\n",
        "fixed_train_set = train_set.dropna(axis=1)\n",
        "fixed_train_set.columns=cols\n",
        "\n",
        "fixed_train_set"
      ],
      "metadata": {
        "colab": {
          "base_uri": "https://localhost:8080/",
          "height": 424
        },
        "id": "eXgDOS1c6lmE",
        "outputId": "1cc383f1-c53f-4a52-90dd-f5b48d4daef3"
      },
      "execution_count": null,
      "outputs": [
        {
          "output_type": "execute_result",
          "data": {
            "text/plain": [
              "             Singer                       Song Name  \\\n",
              "0    gerry rafferty                    baker street   \n",
              "1    gerry rafferty             right down the line   \n",
              "2       2 unlimited                    tribal dance   \n",
              "3       2 unlimited  let the beat control your body   \n",
              "4       2 unlimited              get ready for this   \n",
              "..              ...                             ...   \n",
              "594      don henley                   dirty laundry   \n",
              "595      don henley                 new york minute   \n",
              "596       bob dylan     subterranean homesick blues   \n",
              "597      goldfinger                           mable   \n",
              "598          dr dre                forgot about dre   \n",
              "\n",
              "                                                Lyrics  \n",
              "0    winding your way down on baker street & lite i...  \n",
              "1    you know i need your love & you've got that ho...  \n",
              "2    come on check it out ya'll & (come on come on!...  \n",
              "3    let the beat control your body & let the beat ...  \n",
              "4    ya'll ready for this? & get down with the styl...  \n",
              "..                                                 ...  \n",
              "594  i make my living off the evening news & just g...  \n",
              "595  harry got up & dressed all in black & went dow...  \n",
              "596  johnny's in the basement & mixing up the medic...  \n",
              "597  i met her sunday that was yesterday & the girl...  \n",
              "598  y'all know me still the same o.g. but i been l...  \n",
              "\n",
              "[599 rows x 3 columns]"
            ],
            "text/html": [
              "\n",
              "  <div id=\"df-95e18625-21e3-4246-b509-2f79bdb028e4\">\n",
              "    <div class=\"colab-df-container\">\n",
              "      <div>\n",
              "<style scoped>\n",
              "    .dataframe tbody tr th:only-of-type {\n",
              "        vertical-align: middle;\n",
              "    }\n",
              "\n",
              "    .dataframe tbody tr th {\n",
              "        vertical-align: top;\n",
              "    }\n",
              "\n",
              "    .dataframe thead th {\n",
              "        text-align: right;\n",
              "    }\n",
              "</style>\n",
              "<table border=\"1\" class=\"dataframe\">\n",
              "  <thead>\n",
              "    <tr style=\"text-align: right;\">\n",
              "      <th></th>\n",
              "      <th>Singer</th>\n",
              "      <th>Song Name</th>\n",
              "      <th>Lyrics</th>\n",
              "    </tr>\n",
              "  </thead>\n",
              "  <tbody>\n",
              "    <tr>\n",
              "      <th>0</th>\n",
              "      <td>gerry rafferty</td>\n",
              "      <td>baker street</td>\n",
              "      <td>winding your way down on baker street &amp; lite i...</td>\n",
              "    </tr>\n",
              "    <tr>\n",
              "      <th>1</th>\n",
              "      <td>gerry rafferty</td>\n",
              "      <td>right down the line</td>\n",
              "      <td>you know i need your love &amp; you've got that ho...</td>\n",
              "    </tr>\n",
              "    <tr>\n",
              "      <th>2</th>\n",
              "      <td>2 unlimited</td>\n",
              "      <td>tribal dance</td>\n",
              "      <td>come on check it out ya'll &amp; (come on come on!...</td>\n",
              "    </tr>\n",
              "    <tr>\n",
              "      <th>3</th>\n",
              "      <td>2 unlimited</td>\n",
              "      <td>let the beat control your body</td>\n",
              "      <td>let the beat control your body &amp; let the beat ...</td>\n",
              "    </tr>\n",
              "    <tr>\n",
              "      <th>4</th>\n",
              "      <td>2 unlimited</td>\n",
              "      <td>get ready for this</td>\n",
              "      <td>ya'll ready for this? &amp; get down with the styl...</td>\n",
              "    </tr>\n",
              "    <tr>\n",
              "      <th>...</th>\n",
              "      <td>...</td>\n",
              "      <td>...</td>\n",
              "      <td>...</td>\n",
              "    </tr>\n",
              "    <tr>\n",
              "      <th>594</th>\n",
              "      <td>don henley</td>\n",
              "      <td>dirty laundry</td>\n",
              "      <td>i make my living off the evening news &amp; just g...</td>\n",
              "    </tr>\n",
              "    <tr>\n",
              "      <th>595</th>\n",
              "      <td>don henley</td>\n",
              "      <td>new york minute</td>\n",
              "      <td>harry got up &amp; dressed all in black &amp; went dow...</td>\n",
              "    </tr>\n",
              "    <tr>\n",
              "      <th>596</th>\n",
              "      <td>bob dylan</td>\n",
              "      <td>subterranean homesick blues</td>\n",
              "      <td>johnny's in the basement &amp; mixing up the medic...</td>\n",
              "    </tr>\n",
              "    <tr>\n",
              "      <th>597</th>\n",
              "      <td>goldfinger</td>\n",
              "      <td>mable</td>\n",
              "      <td>i met her sunday that was yesterday &amp; the girl...</td>\n",
              "    </tr>\n",
              "    <tr>\n",
              "      <th>598</th>\n",
              "      <td>dr dre</td>\n",
              "      <td>forgot about dre</td>\n",
              "      <td>y'all know me still the same o.g. but i been l...</td>\n",
              "    </tr>\n",
              "  </tbody>\n",
              "</table>\n",
              "<p>599 rows × 3 columns</p>\n",
              "</div>\n",
              "      <button class=\"colab-df-convert\" onclick=\"convertToInteractive('df-95e18625-21e3-4246-b509-2f79bdb028e4')\"\n",
              "              title=\"Convert this dataframe to an interactive table.\"\n",
              "              style=\"display:none;\">\n",
              "        \n",
              "  <svg xmlns=\"http://www.w3.org/2000/svg\" height=\"24px\"viewBox=\"0 0 24 24\"\n",
              "       width=\"24px\">\n",
              "    <path d=\"M0 0h24v24H0V0z\" fill=\"none\"/>\n",
              "    <path d=\"M18.56 5.44l.94 2.06.94-2.06 2.06-.94-2.06-.94-.94-2.06-.94 2.06-2.06.94zm-11 1L8.5 8.5l.94-2.06 2.06-.94-2.06-.94L8.5 2.5l-.94 2.06-2.06.94zm10 10l.94 2.06.94-2.06 2.06-.94-2.06-.94-.94-2.06-.94 2.06-2.06.94z\"/><path d=\"M17.41 7.96l-1.37-1.37c-.4-.4-.92-.59-1.43-.59-.52 0-1.04.2-1.43.59L10.3 9.45l-7.72 7.72c-.78.78-.78 2.05 0 2.83L4 21.41c.39.39.9.59 1.41.59.51 0 1.02-.2 1.41-.59l7.78-7.78 2.81-2.81c.8-.78.8-2.07 0-2.86zM5.41 20L4 18.59l7.72-7.72 1.47 1.35L5.41 20z\"/>\n",
              "  </svg>\n",
              "      </button>\n",
              "      \n",
              "  <style>\n",
              "    .colab-df-container {\n",
              "      display:flex;\n",
              "      flex-wrap:wrap;\n",
              "      gap: 12px;\n",
              "    }\n",
              "\n",
              "    .colab-df-convert {\n",
              "      background-color: #E8F0FE;\n",
              "      border: none;\n",
              "      border-radius: 50%;\n",
              "      cursor: pointer;\n",
              "      display: none;\n",
              "      fill: #1967D2;\n",
              "      height: 32px;\n",
              "      padding: 0 0 0 0;\n",
              "      width: 32px;\n",
              "    }\n",
              "\n",
              "    .colab-df-convert:hover {\n",
              "      background-color: #E2EBFA;\n",
              "      box-shadow: 0px 1px 2px rgba(60, 64, 67, 0.3), 0px 1px 3px 1px rgba(60, 64, 67, 0.15);\n",
              "      fill: #174EA6;\n",
              "    }\n",
              "\n",
              "    [theme=dark] .colab-df-convert {\n",
              "      background-color: #3B4455;\n",
              "      fill: #D2E3FC;\n",
              "    }\n",
              "\n",
              "    [theme=dark] .colab-df-convert:hover {\n",
              "      background-color: #434B5C;\n",
              "      box-shadow: 0px 1px 3px 1px rgba(0, 0, 0, 0.15);\n",
              "      filter: drop-shadow(0px 1px 2px rgba(0, 0, 0, 0.3));\n",
              "      fill: #FFFFFF;\n",
              "    }\n",
              "  </style>\n",
              "\n",
              "      <script>\n",
              "        const buttonEl =\n",
              "          document.querySelector('#df-95e18625-21e3-4246-b509-2f79bdb028e4 button.colab-df-convert');\n",
              "        buttonEl.style.display =\n",
              "          google.colab.kernel.accessAllowed ? 'block' : 'none';\n",
              "\n",
              "        async function convertToInteractive(key) {\n",
              "          const element = document.querySelector('#df-95e18625-21e3-4246-b509-2f79bdb028e4');\n",
              "          const dataTable =\n",
              "            await google.colab.kernel.invokeFunction('convertToInteractive',\n",
              "                                                     [key], {});\n",
              "          if (!dataTable) return;\n",
              "\n",
              "          const docLinkHtml = 'Like what you see? Visit the ' +\n",
              "            '<a target=\"_blank\" href=https://colab.research.google.com/notebooks/data_table.ipynb>data table notebook</a>'\n",
              "            + ' to learn more about interactive tables.';\n",
              "          element.innerHTML = '';\n",
              "          dataTable['output_type'] = 'display_data';\n",
              "          await google.colab.output.renderOutput(dataTable, element);\n",
              "          const docLink = document.createElement('div');\n",
              "          docLink.innerHTML = docLinkHtml;\n",
              "          element.appendChild(docLink);\n",
              "        }\n",
              "      </script>\n",
              "    </div>\n",
              "  </div>\n",
              "  "
            ]
          },
          "metadata": {},
          "execution_count": 5
        }
      ]
    },
    {
      "cell_type": "code",
      "source": [
        "def add_midi_file_names(df):\n",
        "    midis = list(os.listdir(midis_path))\n",
        "    midis = {midi.lower()[:-4].replace('_', ''): midi for midi in midis}  \n",
        "    print(midis)  \n",
        "    \n",
        "    def combine_singer_song(singer, song):\n",
        "        key = f'{singer} - {song}'.replace(' ', '').lower()\n",
        "        return midis[key] if key in midis else None\n",
        "    \n",
        "    df['Midi File'] = df.apply(lambda r: combine_singer_song(r['Singer'], r['Song Name']) ,axis=1)\n",
        "    return df\n",
        "\n",
        "test_set = add_midi_file_names(test_set)\n",
        "train_set = add_midi_file_names(fixed_train_set)\n",
        "train_set"
      ],
      "metadata": {
        "id": "wDHRd4cE8maT",
        "colab": {
          "base_uri": "https://localhost:8080/",
          "height": 583
        },
        "outputId": "27532c1b-0be2-4cb7-9ea9-97d1bb8b675a"
      },
      "execution_count": null,
      "outputs": [
        {
          "output_type": "stream",
          "name": "stdout",
          "text": [
            "{'dionnewarwick-heartbreaker': 'Dionne_Warwick_-_Heartbreaker.mid', 'blink182-josie': 'Blink_182_-_Josie.mid', 'fredapayne-bandofgold': 'Freda_Payne_-_Band_of_Gold.mid', 'thecorrs-closer': 'The_Corrs_-_Closer.mid', 'annemurray-youneededme': 'Anne_Murray_-_You_Needed_Me.mid', 'abba-knowingmeknowingyou': 'ABBA_-_Knowing_Me_Knowing_You.mid', 'donnasummer-badgirls': 'Donna_Summer_-_Bad_Girls.mid', 'chicago-saturdayinthepark': 'Chicago_-_Saturday_in_the_Park.mid', 'celinedion-becauseyoulovedme': 'Celine_Dion_-_Because_You_Loved_Me.mid', \"davidbowie-let'sdance\": \"David_Bowie_-_Let's_Dance.mid\", 'bananarama-cruelsummer': 'Bananarama_-_Cruel_Summer.mid', 'alanparsons-time': 'Alan_Parsons_-_Time.mid', 'badreligion-americanjesus': 'Bad_Religion_-_American_Jesus.mid', 'alanparsons-primetime': 'Alan_Parsons_-_Prime_Time.mid', 'beegees-nightfever': 'Bee_Gees_-_Night_Fever.mid', 'enriqueiglesias-bailamos': 'Enrique_Iglesias_-_Bailamos.mid', 'carldouglas-kungfufighting': 'Carl_Douglas_-_Kung_Fu_Fighting.mid', 'bonnietyler-totaleclipseoftheheart': 'Bonnie_Tyler_-_Total_Eclipse_of_the_Heart.mid', 'bobbyvinton-sealedwithakiss': 'Bobby_Vinton_-_Sealed_With_a_Kiss.mid', 'theeagles-thelongrun': 'The_Eagles_-_The_Long_Run.mid', 'darude-sandstorm': 'Darude_-_Sandstorm.mid', '5ive-ifyagettindown': '5ive_-_If_Ya_Gettin_Down.mid', 'christmascarols-whatchildisthis': 'Christmas_Carols_-_What_Child_Is_This.mid', 'cultureclub-doyoureallywanttohurtme': 'Culture_Club_-_Do_You_Really_Want_to_Hurt_Me.mid', 'curtismayfield-moveonup': 'Curtis_Mayfield_-_Move_On_Up.mid', 'blackrob-whoa': 'Black_Rob_-_Whoa.mid', 'georgebenson-onbroadway': 'George_Benson_-_On_Broadway.mid', 'billyidol-dancingwithmyself': 'Billy_Idol_-_Dancing_With_Myself.mid', 'christmascarols-rockinaroundthechristmastree': 'Christmas_Carols_-_Rockin_Around_The_Christmas_Tree.mid', 'backstreetboys-likeachild': 'Backstreet_Boys_-_Like_A_Child.mid', 'bodiddley-bodiddley': 'Bo_Diddley_-_Bo_Diddley.mid', 'blackstreet-takemethere': 'Blackstreet_-_Take_Me_There.mid', 'donovan-mellowyellow': 'Donovan_-_Mellow_Yellow.mid', 'christmascarols-sleighride': 'Christmas_Carols_-_Sleigh_Ride.mid', 'cher-shoopshoopsong': 'Cher_-_Shoop_Shoop_Song.mid', 'eagleeyecherry-savetonight': 'Eagle_Eye_Cherry_-_Save_Tonight.mid', 'beegees-tolovesomebody': 'Bee_Gees_-_To_Love_Somebody.mid', 'fatboyslim-goingoutofmyhead': 'Fatboy_Slim_-_Going_Out_of_My_Head.mid', 'alanparsons-gamespeopleplay': 'Alan_Parsons_-_Games_People_Play.mid', 'bobmarley-couldyoubeloved': 'Bob_Marley_-_Could_You_Be_Loved.mid', 'billyjoel-thelongesttime': 'Billy_Joel_-_The_Longest_Time.mid', 'eddiekendricks-boogiedown': 'Eddie_Kendricks_-_Boogie_Down.mid', 'theeagles-newkidintown': 'The_Eagles_-_New_Kid_In_Town.mid', 'theeagles-tequilasunrise': 'The_Eagles_-_Tequila_Sunrise.mid', 'ericcarmen-allbymyself': 'Eric_Carmen_-_All_By_Myself.mid', 'theeagles-takeiteasy': 'The_Eagles_-_Take_It_Easy.mid', 'thecarpenters-sing': 'The_Carpenters_-_Sing.mid', 'theeagles-alreadygone': 'The_Eagles_-_Already_Gone.mid', \"beegees-jivetalkin'\": \"Bee_Gees_-_Jive_Talkin'.mid\", 'ericcarmen-hungryeyes': 'Eric_Carmen_-_Hungry_Eyes.mid', 'britneyspears-sometimes': 'Britney_Spears_-_Sometimes.mid', 'edgarwinter-frankenstein': 'Edgar_Winter_-_Frankenstein.mid', 'genesis-illegalalien': 'Genesis_-_Illegal_Alien.mid', 'thedrifters-onbroadway': 'The_Drifters_-_On_Broadway.mid', 'alstewart-ontheborder': 'Al_Stewart_-_On_the_Border.mid', '98degrees-idocherishyou': '98_Degrees_-_I_Do_Cherish_You.mid', 'defleppard-photograph': 'Def_Leppard_-_Photograph.mid', 'theeagles-oneofthesenights': 'The_Eagles_-_One_of_These_Nights.mid', 'backstreetboys-allihavetogive': 'Backstreet_Boys_-_All_I_Have_to_Give.mid', 'christmascarols-santaclausiscomingtotown': 'Christmas_Carols_-_Santa_Claus_Is_Coming_To_Town.mid', 'eminem-kim': 'Eminem_-_Kim.mid', 'carlysimon-nosecrets': 'Carly_Simon_-_No_Secrets.mid', 'gloriagaynor-iwillsurvive': 'Gloria_Gaynor_-_I_Will_Survive.mid', 'dixiechicks-icanloveyoubetter': 'Dixie_Chicks_-_I_Can_Love_You_Better.mid', 'billyidol-whitewedding': 'Billy_Idol_-_White_Wedding.mid', 'thefugees-nowomannocry': 'The_Fugees_-_No_Woman_No_Cry.mid', 'alicedeejay-betteroffalone': 'Alice_Deejay_-_Better_Off_Alone.mid', 'christmascarols-whitechristmas': 'Christmas_Carols_-_White_Christmas.mid', 'davedudley-sixdaysontheroad': 'Dave_Dudley_-_Six_Days_on_the_Road.mid', 'garthbrooks-friendsinlowplaces': 'Garth_Brooks_-_Friends_In_Low_Places.mid', 'davidbowie-lazarus': 'David_Bowie_-_Lazarus.mid', 'carlysimon-attitudedancing': 'Carly_Simon_-_Attitude_Dancing.mid', 'eve6-insideout': 'Eve_6_-_Inside_Out.mid', 'everclear-everythingtoeveryone': 'Everclear_-_Everything_To_Everyone.mid', 'freddieking-hideaway': 'Freddie_King_-_Hideaway.mid', 'berlin-takemybreathaway': 'Berlin_-_Take_My_Breath_Away.mid', 'davemason-wejustdisagree': 'Dave_Mason_-_We_Just_Disagree.mid', 'genesis-turnitonagain': 'Genesis_-_Turn_it_on_Again.mid', 'bobwelch-sentimentallady': 'Bob_Welch_-_Sentimental_Lady.mid', 'eltonjohn-candleinthewind': 'Elton_John_-_Candle_in_the_Wind.mid', 'genesis-danceonavolcano': 'Genesis_-_Dance_on_a_Volcano.mid', 'eminem-thewayiam': 'Eminem_-_The_Way_I_Am.mid', 'caroleking-ifeeltheearthmove': 'Carole_King_-_I_Feel_the_Earth_Move.mid', '38special-fantasygirl': '38_Special_-_Fantasy_Girl.mid', 'beegees-massachusetts': 'Bee_Gees_-_Massachusetts.mid', 'theeagles-thesadcafe': 'The_Eagles_-_The_Sad_Cafe.mid', 'beastieboys-girls': 'Beastie_Boys_-_Girls.mid', 'alanparsons-ammoniaavenue': 'Alan_Parsons_-_Ammonia_Avenue.mid', 'christmascarols-isawmommykissingsantaclaus': 'Christmas_Carols_-_I_Saw_Mommy_Kissing_Santa_Claus.mid', 'abba-fernando': 'ABBA_-_Fernando.mid', 'fivemanelectricalband-signs': 'Five_Man_Electrical_Band_-_Signs.mid', 'cranberries-linger': 'Cranberries_-_Linger.mid', 'donmclean-americanpie': 'Don_McLean_-_American_Pie.mid', 'thebangles-walklikeanegyptian': 'The_Bangles_-_Walk_Like_An_Egyptian.mid', 'eminem-mynameis': 'Eminem_-_My_Name_Is.mid', 'thecoasters-charliebrown': 'The_Coasters_-_Charlie_Brown.mid', 'abba-dancingqueen': 'ABBA_-_Dancing_Queen.mid', 'gladysknight-midnighttraintogeorgia': 'Gladys_Knight_-_Midnight_Train_to_Georgia.mid', 'garthbrooks-twopinacoladas': 'Garth_Brooks_-_Two_Pina_Coladas.mid', 'christmascarols-joytotheworld': 'Christmas_Carols_-_Joy_To_The_World.mid', 'thebangles-hazyshadeofwinter': 'The_Bangles_-_Hazy_Shade_of_Winter.mid', 'coreyhart-sunglassesatnight': 'Corey_Hart_-_Sunglasses_at_Night.mid', 'thefugees-readyornot': 'The_Fugees_-_Ready_or_Not.mid', 'christmascarols-doyouhearwhatihear': 'Christmas_Carols_-_Do_You_Hear_What_I_Hear.mid', 'billyjoel-pianoman': 'Billy_Joel_-_Piano_Man.mid', 'chicago-25or6to4': 'Chicago_-_25_or_6_to_4.mid', 'boyzone-nomatterwhat': 'Boyzone_-_No_Matter_What.mid', 'thecrystals-dadooronron': 'The_Crystals_-_Da_Doo_Ron_Ron.mid', 'theeagles-sevenbridgesroad': 'The_Eagles_-_Seven_Bridges_Road.mid', 'allsaints-neverever': 'All_Saints_-_Never_Ever.mid', 'firefall-youarethewoman': 'Firefall_-_You_are_the_Woman.mid', 'billyidol-monymony': 'Billy_Idol_-_Mony_Mony.mid', '2unlimited-tribaldance': '2_Unlimited_-_Tribal_Dance.mid', 'georgestrait-ijustwanttodancewithyou': 'George_Strait_-_I_Just_Want_To_Dance_With_You.mid', 'brianmcknight-backatone': 'Brian_McKnight_-_Back_At_One.mid', 'animotion-obsession': 'Animotion_-_Obsession.mid', 'bjthomas-hookedonafeeling': 'BJ_Thomas_-_Hooked_on_a_Feeling.mid', 'cardigans-myfavouritegame': 'Cardigans_-_My_Favourite_Game.mid', 'abc-poisonarrow': 'ABC_-_Poison_Arrow.mid', 'thedrifters-savethelastdanceforme': 'The_Drifters_-_Save_the_Last_Dance_for_Me.mid', 'blink182-dammit': 'Blink_182_-_Dammit.mid', 'genesis-invisibletouch': 'Genesis_-_Invisible_Touch.mid', 'cake-franksinatra': 'Cake_-_Frank_Sinatra.mid', 'cyndilauper-girlsjustwanttohavefun': 'Cyndi_Lauper_-_Girls_Just_Want_to_Have_Fun.mid', 'christmascarols-winterwonderland': 'Christmas_Carols_-_Winter_Wonderland.mid', 'aceofbase-allthatshewants': 'Ace_of_Base_-_All_That_She_Wants.mid', 'backstreetboys-everybody': 'Backstreet_Boys_-_Everybody.mid', 'faithnomore-epic': 'Faith_No_More_-_Epic.mid', 'thecorrs-therighttime': 'The_Corrs_-_The_Right_Time.mid', 'alstewart-timepassages': 'Al_Stewart_-_Time_Passages.mid', 'backstreetboys-backtoyourheart': 'Backstreet_Boys_-_Back_to_Your_Heart.mid', 'theclash-shouldistayorshouldigo': 'The_Clash_-_Should_I_Stay_or_Should_I_Go.mid', 'theeagles-takeittothelimit': 'The_Eagles_-_Take_It_To_The_Limit.mid', 'thecorrs-remember': 'The_Corrs_-_Remember.mid', 'bobbydarin-dreamlover': 'Bobby_Darin_-_Dream_Lover.mid', 'barrymanilow-evennow': 'Barry_Manilow_-_Even_Now.mid', 'theeagles-victimoflove': 'The_Eagles_-_Victim_of_Love.mid', 'fatboyslim-righthererightnow': 'Fatboy_Slim_-_Right_Here_Right_Now.mid', 'arethafranklin-youmakemefeellikeanaturalwoman': 'Aretha_Franklin_-_You_Make_Me_Feel_Like_a_Natural_Woman.mid', 'beegees-ijustwanttobeyoureverything': 'Bee_Gees_-_I_Just_Want_to_Be_Your_Everything.mid', 'theeagles-tryandloveagain': 'The_Eagles_-_Try_And_Love_Again.mid', '5ive-slamdunkdafunk': '5ive_-_Slam_Dunk_Da_Funk.mid', 'theeagles-desperado': 'The_Eagles_-_Desperado.mid', 'boyzone-babycaniholdyoutonight': 'Boyzone_-_Baby_Can_I_Hold_You_Tonight.mid', 'christmascarols-oholynight': 'Christmas_Carols_-_O_Holy_Night.mid', 'genevincent-bebopalula': 'Gene_Vincent_-_Be_Bop_a_Lula.mid', 'boyzone-lovemeforareason': 'Boyzone_-_Love_Me_For_A_Reason.mid', 'bananarama-venus': 'Bananarama_-_Venus.mid', 'america-daisyjane': 'America_-_Daisy_Jane.mid', 'cyndilauper-idroveallnight': 'Cyndi_Lauper_-_I_Drove_All_Night.mid', 'belindacarlisle-heavenisaplaceonearth': 'Belinda_Carlisle_-_Heaven_Is_a_Place_on_Earth.mid', 'anotherlevel-freakme': 'Another_Level_-_Freak_Me.mid', 'bobbyvinton-bluevelvet': 'Bobby_Vinton_-_Blue_Velvet.mid', 'aaronneville-tellitlikeitis': 'Aaron_Neville_-_Tell_It_Like_It_Is.mid', 'cake-thedistance': 'Cake_-_The_Distance.mid', 'genechandler-dukeofearl': 'Gene_Chandler_-_Duke_Of_Earl.mid', 'andykim-rockmegently': 'Andy_Kim_-_Rock_Me_Gently.mid', 'bonethugsnharmony-daysofourlivez': 'Bone_Thugs_N_Harmony_-_Days_of_Our_Livez.mid', 'chicago-doesanybodyreallyknow': 'Chicago_-_Does_Anybody_Really_Know.mid', 'gloriagaynor-nevercansaygoodbye': 'Gloria_Gaynor_-_Never_Can_Say_Goodbye.mid', 'aceofbase-alwayshavealwayswill': 'Ace_of_Base_-_Always_Have_Always_Will.mid', 'genesis-entangled': 'Genesis_-_Entangled.mid', 'beastieboys-sabotage': 'Beastie_Boys_-_Sabotage.mid', 'genesis-nosonofmine': 'Genesis_-_No_Son_of_Mine.mid', 'thecorrs-intimacy': 'The_Corrs_-_Intimacy.mid', 'eiffel65-bluedabadee': 'Eiffel_65_-_Blue_Da_Ba_Dee.mid', 'thedrifters-upontheroof': 'The_Drifters_-_Up_on_the_Roof.mid', 'boyzone-youneededme': 'Boyzone_-_You_Needed_Me.mid', 'beegees-tragedy': 'Bee_Gees_-_Tragedy.mid', 'billyocean-suddenly': 'Billy_Ocean_-_Suddenly.mid', 'thefourseasons-walklikeaman': 'The_Four_Seasons_-_Walk_Like_a_Man.mid', 'annemurray-snowbird': 'Anne_Murray_-_Snowbird.mid', 'christinaaguilera-reflection': 'Christina_Aguilera_-_Reflection.mid', 'garywright-dreamweaver': 'Gary_Wright_-_Dream_Weaver.mid', 'eminem-badmeetsevil': 'Eminem_-_Bad_Meets_Evil.mid', 'genesis-afterglow': 'Genesis_-_Afterglow.mid', 'fastball-theway': 'Fastball_-_The_Way.mid', 'thefourseasons-ronnie': 'The_Four_Seasons_-_Ronnie.mid', 'catstevens-wildworld': 'Cat_Stevens_-_Wild_World.mid', 'thecorrs-iknowmylove': 'The_Corrs_-_I_Know_My_Love.mid', 'thecarpenters-forallweknow': 'The_Carpenters_-_For_All_We_Know.mid', 'danhill-sometimeswhenwetouch': 'Dan_Hill_-_Sometimes_When_We_Touch.mid', 'edsheeran-thinkingoutloud-violin': 'Ed_Sheeran_-_Thinking_Out_Loud_-_Violin.mid', 'britneyspears-lucky': 'Britney_Spears_-_Lucky.mid', 'christophercross-sailing': 'Christopher_Cross_-_Sailing.mid', 'beegees-stayinalive': 'Bee_Gees_-_Stayin_Alive.mid', 'brandy-bestfriend': 'Brandy_-_Best_Friend.mid', 'thecorrs-dreams': 'The_Corrs_-_Dreams.mid', 'barenakedladies-theoldapartment': 'Barenaked_Ladies_-_The_Old_Apartment.mid', 'cyndilauper-timeaftertime': 'Cyndi_Lauper_-_Time_After_Time.mid', 'billyjoel-newyorkstateofmind': 'Billy_Joel_-_New_York_State_of_Mind.mid', 'alwilson-showandtell': 'Al_Wilson_-_Show_and_Tell.mid', 'agnesobel-familiar': 'Agnes_Obel_-_Familiar.mid', 'catstevens-moonshadow': 'Cat_Stevens_-_Moonshadow.mid', 'beegees-morethanawoman': 'Bee_Gees_-_More_Than_A_Woman.mid', 'countingcrows-mrjones': 'Counting_Crows_-_Mr_Jones.mid', 'firefall-justrememberiloveyou': 'Firefall_-_Just_Remember_I_Love_you.mid', 'adele-hello': 'adele_-_Hello.mid', 'theeagles-lyineyes': 'The_Eagles_-_Lyin_Eyes.mid', 'bozscaggs-whatcanisay': 'Boz_Scaggs_-_What_Can_I_Say.mid', 'fugazi-waitingroom': 'Fugazi_-_Waiting_Room.mid', 'chubbychecker-thetwist': 'Chubby_Checker_-_The_Twist.mid', 'thecarpenters-hurtingeachother': 'The_Carpenters_-_Hurting_Each_Other.mid', 'billyjoel-onlythegooddieyoung': 'Billy_Joel_-_Only_the_Good_Die_Young.mid', 'billyjoel-tellheraboutit': 'Billy_Joel_-_Tell_Her_About_It.mid', 'bonethugsnharmony-lookintomyeyes': 'Bone_Thugs_N_Harmony_-_Look_Into_My_Eyes.mid', 'bloodhoundgang-thebadtouch': 'Bloodhound_Gang_-_The_Bad_Touch.mid', 'falco-derkommissar': 'Falco_-_Der_Kommissar.mid', 'genesis-landofconfusion': 'Genesis_-_Land_of_Confusion.mid', 'thecorrs-soyoung': 'The_Corrs_-_So_Young.mid', 'gerryandthepacemakers-howdoyoudoit': 'Gerry_and_the_Pacemakers_-_How_Do_You_Do_It.mid', 'arethafranklin-respect': 'Aretha_Franklin_-_Respect.mid', 'billyidol-catchmyfall': 'Billy_Idol_-_Catch_my_Fall.mid', 'beegees-howcanyoumendabrokenheart': 'Bee_Gees_-_How_Can_You_Mend_a_Broken_Heart.mid', 'arethafranklin-think': 'Aretha_Franklin_-_Think.mid', 'chicago-wishingyouwerehere': 'Chicago_-_Wishing_You_Were_Here.mid', 'fatboyslim-rockafellaskank': 'Fatboy_Slim_-_Rockafella_Skank.mid', 'eddyarnold-welcometomyworld': 'Eddy_Arnold_-_Welcome_To_My_World.mid', 'blink182-allthesmallthings': 'Blink_182_-_All_the_Small_Things.mid', 'adele-hometownglory': 'adele_-_hometown_glory.mid', 'theeagles-hotelcalifornia': 'The_Eagles_-_Hotel_California.mid', 'britneyspears-babyonemoretime': 'Britney_Spears_-_Baby_One_More_Time.mid', 'envogue-freeyourmind': 'En_Vogue_-_Free_Your_Mind.mid', 'dmx-partyup': 'DMX_-_Party_Up.mid', 'theeagles-lovewillkeepusalive': 'The_Eagles_-_Love_Will_Keep_Us_Alive.mid', 'exile-kissyouallover': 'Exile_-_Kiss_you_all_over.mid', 'billyidol-rebelyell': 'Billy_Idol_-_Rebel_Yell.mid', 'billypreston-willitgoroundincircles': 'Billy_Preston_-_Will_it_Go_Round_in_Circles.mid', 'dianaross-themefrommahogany': 'Diana_Ross_-_Theme_from_Mahogany.mid', 'theeagles-bestofmylove': 'The_Eagles_-_Best_of_My_Love.mid', '2unlimited-letthebeatcontrolyourbody': '2_Unlimited_-_Let_the_Beat_Control_Your_Body.mid', 'bettemidler-fromadistance': 'Bette_Midler_-_From_A_Distance.mid', 'georgemichael-fatherfigure': 'George_Michael_-_Father_Figure.mid', 'donmclean-vincent': 'Don_McLean_-_Vincent.mid', 'atlantarhythmsection-imaginarylover': 'Atlanta_Rhythm_Section_-_Imaginary_Lover.mid', 'glencampbell-bythetimeigettophoenix': 'Glen_Campbell_-_By_the_Time_I_Get_to_Phoenix.mid', 'billyjoel-thestranger': 'Billy_Joel_-_The_Stranger.mid', 'brianmcknight-onthedownlow': 'Brian_McKnight_-_On_The_Down_Low.mid', 'thedrifters-undertheboardwalk': 'The_Drifters_-_Under_the_Boardwalk.mid', 'britneyspears-stronger': 'Britney_Spears_-_Stronger.mid', 'chicago-colormyworld': 'Chicago_-_Color_My_World.mid', 'cyndilauper-shebop': 'Cyndi_Lauper_-_She_Bop.mid', 'theeagles-pleasecomehomeforchristmas': 'The_Eagles_-_Please_Come_Home_For_Christmas.mid', 'dianaross-upsidedown': 'Diana_Ross_-_Upside_Down.mid', 'christmascarols-thefirstnoel': 'Christmas_Carols_-_The_First_Noel.mid', 'billyswan-icanhelp': 'Billy_Swan_-_I_Can_Help.mid', \"backstreetboys-i'llneverbreakyourheart\": \"Backstreet_Boys_-_I'll_Never_Break_Your_Heart.mid\", 'thecorrs-radio': 'The_Corrs_-_Radio.mid', 'countingcrows-roundhere': 'Counting_Crows_-_Round_Here.mid', 'fastball-outofmyhead': 'Fastball_-_Out_Of_My_Head.mid', 'theeagles-lifeinthefastlane': 'The_Eagles_-_Life_In_The_Fast_Lane.mid', 'aceofbase-beautifullife': 'Ace_of_Base_-_Beautiful_Life.mid', 'thecorrs-lovetoloveyou': 'The_Corrs_-_Love_to_Love_You.mid', 'billyjoel-scenesfromanitalianrestaurant': 'Billy_Joel_-_Scenes_from_an_Italian_Restaurant.mid', 'celinedion-toloveyoumore': 'Celine_Dion_-_To_Love_You_More.mid', 'blur-countryhouse': 'Blur_-_Country_House.mid', 'backstreetboys-largerthanlife': 'Backstreet_Boys_-_Larger_Than_Life.mid', 'billwithers-leanonme': 'Bill_Withers_-_Lean_on_Me.mid', 'chic-goodtimes': 'Chic_-_Good_Times.mid', 'depechemode-peoplearepeople': 'Depeche_Mode_-_People_Are_People.mid', 'asia-onlytimewilltell': 'Asia_-_Only_Time_Will_Tell.mid', 'thecorrs-ineverlovedyouanyway': 'The_Corrs_-_I_Never_Loved_You_Anyway.mid', 'fionaapple-criminal': 'Fiona_Apple_-_Criminal.mid', 'cardigans-eraseandrewind': 'Cardigans_-_Erase_And_Rewind.mid', 'anitabaker-sweetlove': 'Anita_Baker_-_Sweet_Love.mid', 'alannahmyles-blackvelvet': 'Alannah_Myles_-_Black_Velvet.mid', 'billyjoel-uptowngirl': 'Billy_Joel_-_Uptown_Girl.mid', 'allsaints-bootiecall': 'All_Saints_-_Bootie_Call.mid', 'christmascarols-haveyourselfamerrylittlechristmas': 'Christmas_Carols_-_Have_Yourself_A_Merry_Little_Christmas.mid', 'donnyosmond-puppylove': 'Donny_Osmond_-_Puppy_Love.mid', \"georgestrait-allmyex'sliveintexas\": \"George_Strait_-_All_My_Ex's_Live_in_Texas.mid\", 'caroleking-sofaraway': 'Carole_King_-_So_Far_Away.mid', 'thecarpenters-sweetsweetsmile': 'The_Carpenters_-_Sweet_Sweet_Smile.mid', 'catstevens-morninghasbroken': 'Cat_Stevens_-_Morning_Has_Broken.mid', 'thecarpenters-topoftheworld': 'The_Carpenters_-_Top_of_the_World.mid', 'eminem-therealslimshady': 'Eminem_-_The_Real_Slim_Shady.mid', 'davidseville-witchdoctor': 'David_Seville_-_Witch_Doctor.mid', 'theflamingos-ionlyhaveeyesforyou': 'The_Flamingos_-_I_Only_Have_Eyes_For_You.mid', 'celinedion-immortality': 'Celine_Dion_-_Immortality.mid', 'fatboyslim-praiseyou': 'Fatboy_Slim_-_Praise_You.mid', 'christmascarols-frostythesnowman': 'Christmas_Carols_-_Frosty_The_Snowman.mid', 'thedrifters-thismagicmoment': 'The_Drifters_-_This_Magic_Moment.mid', 'averagewhiteband-cutthecake': 'Average_White_Band_-_Cut_the_Cake.mid', 'backstreetboys-nooneelsecomesclose': 'Backstreet_Boys_-_No_One_Else_Comes_Close.mid', 'donhenley-endoftheinnocence': 'Don_Henley_-_End_of_the_Innocence.mid', 'georgestrait-icrossmyheart': 'George_Strait_-_I_Cross_My_Heart.mid', 'cultureclub-karmachameleon': 'Culture_Club_-_Karma_Chameleon.mid', 'eels-yourluckydayinhell': 'Eels_-_Your_Lucky_Day_In_Hell.mid', 'dionnewarwick-isayalittleprayer': 'Dionne_Warwick_-_I_Say_A_Little_Prayer.mid', 'christmascarols-ocomeallyefaithful': 'Christmas_Carols_-_O_Come_All_Ye_Faithful.mid', 'chic-lefreak': 'Chic_-_Le_Freak.mid', 'abba-waterloo': 'ABBA_-_Waterloo.mid', 'badfinger-comeandgetit': 'Badfinger_-_Come_And_Get_It.mid', 'beegees-words': 'Bee_Gees_-_Words.mid', 'christmascarols-jinglebells': 'Christmas_Carols_-_Jingle_Bells.mid', 'chakakhan-ifeelforyou': 'Chaka_Khan_-_I_Feel_for_You.mid', 'theeagles-thelastresort': 'The_Eagles_-_The_Last_Resort.mid', '702-wheremygirlsat': '702_-_Where_My_Girls_At.mid', '38special-caughtupinyou': '38_Special_-_Caught_Up_In_You.mid', 'danfogelberg-sameoldlangsyne': 'Dan_Fogelberg_-_Same_Old_Lang_Syne.mid', 'thebabys-midnightrendezvous': 'The_Babys_-_Midnight_Rendezvous.mid', 'thecorrs-queenofhollywood': 'The_Corrs_-_Queen_of_Hollywood.mid', 'chuckmangione-feelssogood': 'Chuck_Mangione_-_Feels_So_Good.mid', 'aqua-barbiegirl': 'Aqua_-_Barbie_Girl.mid', 'britneyspears-sodapop': 'Britney_Spears_-_Soda_Pop.mid', 'bread-sweetsurrender': 'Bread_-_Sweet_Surrender.mid', 'cherrypoppindaddies-zootsuitriot': 'Cherry_Poppin_Daddies_-_Zoot_Suit_Riot.mid', 'dionnewarwick-doyouknowthewaytosanjose': 'Dionne_Warwick_-_Do_You_Know_the_Way_to_San_Jose.mid', 'brianmcknight-anytime': 'Brian_McKnight_-_Anytime.mid', 'cypresshill-rocksuperstar': 'Cypress_Hill_-_Rock_Superstar.mid', 'billyjoel-youmayberight': 'Billy_Joel_-_You_May_Be_Right.mid', 'enriqueiglesias-experienciareligiosa': 'Enrique_Iglesias_-_Experiencia_Religiosa.mid', 'boyzone-adifferentbeat': 'Boyzone_-_A_Different_Beat.mid', 'georgemichael-onemoretry': 'George_Michael_-_One_More_Try.mid', 'christmascarols-angelswehaveheardonhigh': 'Christmas_Carols_-_Angels_We_Have_Heard_On_High.mid', 'beegees-toomuchheaven': 'Bee_Gees_-_Too_Much_Heaven.mid', 'britneyspears-fromthebottomofmybrokenheart': 'Britney_Spears_-_From_the_Bottom_of_My_Broken_Heart.mid', 'frankievalli-grease': 'Frankie_Valli_-_Grease.mid', 'georgemichael-freedom': 'George_Michael_-_Freedom.mid', 'abc-thelookoflove': 'ABC_-_The_Look_of_Love.mid', 'theeagles-peacefuleasyfeeling': 'The_Eagles_-_Peaceful_Easy_Feeling.mid', 'badfinger-nomatterwhat': 'Badfinger_-_No_Matter_What.mid', 'alanparsons-damnedifido': 'Alan_Parsons_-_Damned_if_I_Do.mid', 'depechemode-everythingcounts': 'Depeche_Mode_-_Everything_Counts.mid', 'thecorrs-forgivennotforgotten': 'The_Corrs_-_Forgiven_Not_Forgotten.mid', 'brandy-iwannabedown': 'Brandy_-_I_Wanna_Be_Down.mid', 'ericclapton-bellbottomblues': 'Eric_Clapton_-_Bell_Bottom_Blues.mid', 'britneyspears-borntomakeyouhappy': 'Britney_Spears_-_Born_to_Make_You_Happy.mid', 'cliffrichard-devilwoman': 'Cliff_Richard_-_Devil_Woman.mid', 'anotherlevel-iwantyouformyself': 'Another_Level_-_I_Want_You_For_Myself.mid', 'classicsiv-stormy': 'Classics_IV_-_Stormy.mid', 'debbiegibson-lostinyoureyes': 'Debbie_Gibson_-_Lost_in_your_Eyes.mid', \"billyjoel-movin'out\": \"Billy_Joel_-_Movin'_Out.mid\", 'catstevens-anothersaturdaynight': 'Cat_Stevens_-_Another_Saturday_Night.mid', 'bloodhoundgang-firewaterburn': 'Bloodhound_Gang_-_Fire_Water_Burn.mid', 'thefourseasons-ragdoll': 'The_Four_Seasons_-_Rag_Doll.mid', 'cultureclub-churchofthepoisonmind': 'Culture_Club_-_Church_of_the_Poison_Mind.mid', 'eminem-rolemodel': 'Eminem_-_Role_Model.mid', 'backstreetboys-aslongasyouloveme': 'Backstreet_Boys_-_As_Long_As_You_Love_Me.mid', 'beastieboys-fightforyourrighttoparty': 'Beastie_Boys_-_Fight_For_Your_Right_to_Party.mid', 'thefourseasons-dawngoaway': 'The_Four_Seasons_-_Dawn_Go_Away.mid', 'caroleking-willyoustilllovemetomorrow': 'Carole_King_-_Will_You_Still_Love_Me_Tomorrow.mid', 'brucehornsby-thewayitis': 'Bruce_Hornsby_-_The_Way_It_Is.mid', 'barrymanilow-copacabana': 'Barry_Manilow_-_Copacabana.mid', 'beaubrummels-laughlaugh': 'Beau_Brummels_-_Laugh_Laugh.mid', 'thecorrs-someday': 'The_Corrs_-_Someday.mid', 'america-tinman': 'America_-_Tin_Man.mid', 'backstreetboys-iwantitthatway': 'Backstreet_Boys_-_I_Want_It_That_Way.mid', 'billyidol-fleshforfantasy': 'Billy_Idol_-_Flesh_for_Fantasy.mid', 'chetatkins-wheels': 'Chet_Atkins_-_Wheels.mid', 'cardigans-lovefool': 'Cardigans_-_Lovefool.mid', 'aceofbase-thesign': 'Ace_of_Base_-_The_Sign.mid', 'thefourseasons-sherry': 'The_Four_Seasons_-_Sherry.mid', 'georgemccrae-rockyourbaby': 'George_McCrae_-_Rock_Your_Baby.mid', 'bread-guitarman': 'Bread_-_Guitar_Man.mid', '98degrees-thehardestthing': '98_Degrees_-_The_Hardest_Thing.mid', 'thecorrs-hastetothewedding': 'The_Corrs_-_Haste_to_the_Wedding.mid', 'coolio-cuwhenugetthere': 'Coolio_-_C_U_When_U_Get_There.mid', 'garywright-loveisalive': 'Gary_Wright_-_Love_is_Alive.mid', 'abba-takeachanceonme': 'ABBA_-_Take_A_Chance_On_Me.mid', \"billyjoel-it'sstillrockandrolltome\": \"Billy_Joel_-_It's_Still_Rock_and_Roll_to_Me.mid\", 'barenakedladies-shoebox': 'Barenaked_Ladies_-_Shoe_Box.mid', 'freddiemercury-livingonmyown': 'Freddie_Mercury_-_Living_on_my_Own.mid', 'abba-supertrouper': 'ABBA_-_Super_Trouper.mid', 'glencampbell-wichitalineman': 'Glen_Campbell_-_Wichita_Lineman.mid', 'depechemode-enjoythesilence-2': 'Depeche_Mode_-_Enjoy_the_Silence-2.mid', 'christinaaguilera-genieinabottle': 'Christina_Aguilera_-_Genie_In_A_Bottle.mid', 'thebangles-manicmonday': 'The_Bangles_-_Manic_Monday.mid', 'eiffel65-yourclown': 'Eiffel_65_-_Your_Clown.mid', 'everlast-whatitslike': 'Everlast_-_What_Its_Like.mid', 'thebangles-eternalflame': 'The_Bangles_-_Eternal_Flame.mid', 'boyzone-ilovethewayyouloveme': 'Boyzone_-_I_Love_The_Way_You_Love_Me.mid', 'donnasummer-lastdance': 'Donna_Summer_-_Last_Dance.mid', 'america-sistergoldenhair': 'America_-_Sister_Golden_Hair.mid', 'thecarpenters-yesterdayoncemore': 'The_Carpenters_-_Yesterday_Once_More.mid', 'eminem-undertheinfluence': 'Eminem_-_Under_The_Influence.mid', 'garylewisandtheplayboys-everybodylovesaclown': 'Gary_Lewis_and_the_Playboys_-_Everybody_Loves_a_Clown.mid', 'aaliyah-tryagain': 'Aaliyah_-_Try_Again.mid', 'backstreetboys-showmethemeaning': 'Backstreet_Boys_-_Show_Me_the_Meaning.mid', 'celinedion-fallingintoyou': 'Celine_Dion_-_Falling_Into_You.mid', 'celinedion-thecolourofmylove': 'Celine_Dion_-_The_Colour_of_My_Love.mid', 'billyjoel-honesty': 'Billy_Joel_-_Honesty.mid', 'billyjoel-allentown': 'Billy_Joel_-_Allentown.mid', 'eiffel65-toomuchofheaven': 'Eiffel_65_-_Too_Much_of_Heaven.mid', 'beneking-standbyme': 'Ben_E_King_-_Stand_By_Me.mid', 'bread-everythingiown': 'Bread_-_Everything_I_Own.mid', 'eminem-guiltyconscience': 'Eminem_-_Guilty_Conscience.mid', 'billyraycyrus-achybreakyheart': 'Billy_Ray_Cyrus_-_Achy_Breaky_Heart.mid', '1910fruitgumcompany-simonsays': '1910_Fruitgum_Company_-_Simon_Says.mid', 'boyzone-allthatineed': 'Boyzone_-_All_That_I_Need.mid', 'donhenley-newyorkminute': 'Don_Henley_-_New_York_Minute.mid', 'cher-believe': 'Cher_-_Believe.mid', 'debbiegibson-foolishbeat': 'Debbie_Gibson_-_Foolish_Beat.mid', 'elmorejames-dustmybroom': 'Elmore_James_-_Dust_My_Broom.mid', 'christmascarols-letitsnow': 'Christmas_Carols_-_Let_It_Snow.mid', 'billyjoel-riverofdreams': 'Billy_Joel_-_River_of_Dreams.mid', 'billyjoel-bigshot': 'Billy_Joel_-_Big_Shot.mid', 'theeagles-wastedtime': 'The_Eagles_-_Wasted_Time.mid', 'bobbydarin-macktheknife': 'Bobby_Darin_-_Mack_the_Knife.mid', \"aceofbase-don'tturnaround\": \"Ace_of_Base_-_Don't_Turn_Around.mid\", 'america-sandman': 'America_-_Sandman.mid', 'theeagles-prettymaidsallinarow': 'The_Eagles_-_Pretty_Maids_All_In_A_Row.mid', 'glennfrey-theheatison': 'Glenn_Frey_-_The_Heat_Is_On.mid', 'genesis-misunderstanding': 'Genesis_-_Misunderstanding.mid', 'babyface-changetheworld': 'Babyface_-_Change_the_World.mid', 'backstreetboys-theone': 'Backstreet_Boys_-_The_One.mid', 'debbyboone-youlightupmylife': 'Debby_Boone_-_You_Light_Up_My_Life.mid', 'abba-sos': 'ABBA_-_SOS.mid', 'thecorrs-lovegiveslovetakes': 'The_Corrs_-_Love_Gives_Love_Takes.mid', 'barbrastreisand-womaninlove': 'Barbra_Streisand_-_Woman_In_Love.mid', 'cyndilauper-allthroughthenight': 'Cyndi_Lauper_-_All_Through_the_Night.mid', 'donnasummer-hotstuff': 'Donna_Summer_-_Hot_Stuff.mid', 'danfogelberg-leaderoftheband': 'Dan_Fogelberg_-_Leader_of_the_Band.mid', 'bread-makeitwithyou': 'Bread_-_Make_It_With_You.mid', 'thecarpenters-asongforyou': 'The_Carpenters_-_A_Song_For_You.mid', 'celinedion-tellhim': 'Celine_Dion_-_Tell_Him.mid', 'blur-tender': 'Blur_-_Tender.mid', '5ive-untilthetimeisthrough': '5ive_-_Until_The_Time_Is_Through.mid', 'glennfrey-youbelongtothecity': 'Glenn_Frey_-_You_Belong_to_the_City.mid', 'dianaross-touchmeinthemorning': 'Diana_Ross_-_Touch_Me_in_the_Morning.mid', 'catstevens-peacetrain': 'Cat_Stevens_-_Peace_Train.mid', 'bread-diary': 'Bread_-_Diary.mid', 'belindacarlisle-madaboutyou': 'Belinda_Carlisle_-_Mad_About_You.mid', 'abba-moneymoneymoney': 'ABBA_-_Money_Money_Money.mid', \"britneyspears-don'tletmebethelasttoknow\": \"Britney_Spears_-_Don't_Let_Me_Be_the_Last_to_Know.mid\", 'eminem-stan': 'Eminem_-_Stan.mid', 'barenakedladies-oneweek': 'Barenaked_Ladies_-_One_Week.mid', 'bread-if': 'Bread_-_If.mid', 'backstreetboys-shapeofmyheart': 'Backstreet_Boys_-_Shape_of_My_Heart.mid', 'thecoasters-yaketyyak': 'The_Coasters_-_Yakety_Yak.mid', 'bobbyfullerfour-ifoughtthelaw': 'Bobby_Fuller_Four_-_I_Fought_The_Law.mid', 'thecarpenters-onlyyesterday': 'The_Carpenters_-_Only_Yesterday.mid', 'genesis-atrickofthetail': 'Genesis_-_A_Trick_of_the_Tail.mid', 'catstevens-fatherandson': 'Cat_Stevens_-_Father_and_Son.mid', 'donhenley-dirtylaundry': 'Don_Henley_-_Dirty_Laundry.mid', 'backstreetboys-ineedyoutonight': 'Backstreet_Boys_-_I_Need_You_Tonight.mid', 'coolio-fantasticvoyage': 'Coolio_-_Fantastic_Voyage.mid', 'boyzone-pictureofyou': 'Boyzone_-_Picture_Of_You.mid', 'benfoldsfive-brick': 'Ben_Folds_Five_-_Brick.mid', 'frankieavalon-venus': 'Frankie_Avalon_-_Venus.mid', 'brownsvillestation-smokinintheboysroom': 'Brownsville_Station_-_Smokin_In_The_Boys_Room.mid', 'billyocean-loverboy': 'Billy_Ocean_-_Loverboy.mid', 'buckowens-actnaturally': 'Buck_Owens_-_Act_Naturally.mid', 'billyjoel-goodnightsaigon': 'Billy_Joel_-_Goodnight_Saigon.mid', 'bobdylan-subterraneanhomesickblues': 'Bob_Dylan_-_Subterranean_Homesick_Blues.mid', 'billyidol-eyeswithoutaface': 'Billy_Idol_-_Eyes_Without_A_Face.mid', 'genesis-jesusheknowsme': 'Genesis_-_Jesus_He_Knows_Me.mid', 'enriqueiglesias-bewithyou': 'Enrique_Iglesias_-_Be_With_You.mid', 'gerihalliwell-lookatme': 'Geri_Halliwell_-_Look_At_Me.mid', 'fineyoungcannibals-shedrivesmecrazy': 'Fine_Young_Cannibals_-_She_Drives_Me_Crazy.mid', 'ericclapton-wonderfultonight-liveextndversion@jiji@': 'Eric_Clapton_-_wonderful_tonight_-_live_extnd_version_@jiji@.mid', 'faithhill-breathe': 'Faith_Hill_-_Breathe.mid', 'thecorrs-whatcanido': 'The_Corrs_-_What_Can_I_Do.mid', 'bozscaggs-lidoshuffle': 'Boz_Scaggs_-_Lido_Shuffle.mid', 'abba-gimmegimmegimme': 'ABBA_-_Gimme_Gimme_Gimme.mid', 'dionnewarwick-walkonby': 'Dionne_Warwick_-_Walk_On_By.mid', 'extreme-morethanwords': 'Extreme_-_More_Than_Words.mid', 'bread-goodbyegirl': 'Bread_-_Goodbye_Girl.mid', 'dixiechicks-goodbyeearl': 'Dixie_Chicks_-_Goodbye_Earl.mid', 'falco-rockmeamadeus': 'Falco_-_Rock_Me_Amadeus.mid', 'christmascarols-hollyjollychristmas': 'Christmas_Carols_-_Holly_Jolly_Christmas.mid', 'conniefrancis-wheretheboysare': 'Connie_Francis_-_Where_the_Boys_Are.mid', 'georgebenson-turnyourlovearound': 'George_Benson_-_Turn_Your_Love_Around.mid', 'edwinstarr-war': 'Edwin_Starr_-_War.mid', 'donovan-sunshinesuperman': 'Donovan_-_Sunshine_Superman.mid', 'arloguthrie-cityofneworleans': 'Arlo_Guthrie_-_City_of_New_Orleans.mid', 'aladdin-awholenewworld': 'aladdin_-_A_whole_new_world.mid', 'geneautry-backinthesaddleagain': 'Gene_Autry_-_Back_in_the_Saddle_Again.mid', 'thecarpenters-merrychristmasdarling': 'The_Carpenters_-_Merry_Christmas_Darling.mid', 'genesis-intoodeep': 'Genesis_-_In_Too_Deep.mid', 'badreligion-awalk': 'Bad_Religion_-_A_Walk.mid', 'thecorrs-carraroejig': 'The_Corrs_-_Carraroe_Jig.mid', 'thefixx-onethingleadstoanother': 'The_Fixx_-_One_Thing_Leads_to_Another.mid', 'bobbybrown-myperogative': 'Bobby_Brown_-_My_Perogative.mid', 'cake-neverthere': 'Cake_-_Never_There.mid', 'frankiegoestohollywood-relax': 'Frankie_Goes_to_Hollywood_-_Relax.mid', 'christmascarols-rudolphtherednosedreindeer': 'Christmas_Carols_-_Rudolph_The_Red_Nosed_Reindeer.mid', 'genesis-fifthoffifth': 'Genesis_-_Fifth_of_Fifth.mid', 'thefifthdimension-upupandaway': 'The_Fifth_Dimension_-_Up_Up_and_Away.mid', 'blaque-bringitalltome': 'Blaque_-_Bring_It_All_To_Me.mid', 'asia-heatofthemoment': 'Asia_-_Heat_Of_The_Moment.mid', 'theeagles-heartachetonight': 'The_Eagles_-_Heartache_Tonight.mid', 'thecorrs-leavemealone': 'The_Corrs_-_Leave_Me_Alone.mid', 'thebyrds-turnturnturn': 'The_Byrds_-_Turn_Turn_Turn.mid', 'thecorrs-runaway': 'The_Corrs_-_Runaway.mid', 'donnasummer-ifeellove': 'Donna_Summer_-_I_Feel_Love.mid', 'thecorrs-onlywhenisleep': 'The_Corrs_-_Only_When_I_Sleep.mid', 'brandy-theboyismine': 'Brandy_-_The_Boy_Is_Mine.mid', 'alstewart-yearofthecat': 'Al_Stewart_-_Year_of_the_Cat.mid', 'gerihalliwell-michicolatino': 'Geri_Halliwell_-_Mi_Chico_Latino.mid', 'carlysimon-halfachance': 'Carly_Simon_-_Half_a_Chance.mid', 'barrymanilow-mandy': 'Barry_Manilow_-_Mandy.mid', 'cannedheat-goingupthecountry': 'Canned_Heat_-_Going_Up_The_Country.mid', 'berlin-themetro': 'Berlin_-_The_Metro.mid', 'buddyguy-midnighttrain': 'Buddy_Guy_-_Midnight_Train.mid', 'bettemidler-therose': 'Bette_Midler_-_The_Rose.mid', 'abba-thankyouforthemusic': 'ABBA_-_Thank_You_for_the_Music.mid', 'thebuckinghams-mercymercymercy': 'The_Buckinghams_-_Mercy_Mercy_Mercy.mid', 'thecorrs-nofrontiers': 'The_Corrs_-_No_Frontiers.mid', 'all4one-iswear': 'All_4_One_-_I_Swear.mid', 'america-lonelypeople': 'America_-_Lonely_People.mid', 'coolio-toohot': 'Coolio_-_Too_Hot.mid', 'thecarpenters-superstar': 'The_Carpenters_-_Superstar.mid', 'thecure-closetome': 'The_Cure_-_Close_to_Me.mid', 'billyjoel-pressure': 'Billy_Joel_-_Pressure.mid', \"chakakhan-ain'tnobody\": \"Chaka_Khan_-_Ain't_Nobody.mid\", 'thecarpenters-goodbyetolove': 'The_Carpenters_-_Goodbye_to_Love.mid', 'billyjoel-justthewayyouare': 'Billy_Joel_-_Just_the_Way_You_Are.mid', 'blur-song2': 'Blur_-_Song_2.mid', 'genesis-homebythesea': 'Genesis_-_Home_by_the_Sea.mid', 'beegees-istartedajoke': 'Bee_Gees_-_I_Started_A_Joke.mid', 'chakakhan-tellmesomethinggood': 'Chaka_Khan_-_Tell_Me_Something_Good.mid', 'christmascarols-littledrummerboy': 'Christmas_Carols_-_Little_Drummer_Boy.mid', 'badenglish-wheniseeyousmile': 'Bad_English_-_When_I_See_You_Smile.mid', 'dustyspringfield-sonofapreacherman': 'Dusty_Springfield_-_Son_of_a_Preacher_Man.mid', 'andrewgold-lonelyboy': 'Andrew_Gold_-_Lonely_Boy.mid', 'blackstreet-nodiggity': 'Blackstreet_-_No_Diggity.mid', 'faithevans-lovelikethis': 'Faith_Evans_-_Love_Like_This.mid', 'abba-thewinnertakesitall': 'ABBA_-_The_Winner_Takes_It_All.mid', 'a-a': 'a_-_a.mid', 'conniefrancis-stupidcupid': 'Connie_Francis_-_Stupid_Cupid.mid', 'bustarhymes-putyourhandswheremyeyescouldsee': 'Busta_Rhymes_-_Put_Your_Hands_Where_My_Eyes_Could_See.mid', 'gerryrafferty-bakerstreet': 'Gerry_Rafferty_-_Baker_Street.mid', 'fatsdomino-blueberryhill': 'Fats_Domino_-_Blueberry_Hill.mid', 'envogue-mylovin': 'En_Vogue_-_My_Lovin.mid', 'ettajames-atlast': 'Etta_James_-_At_Last.mid', 'babyface-whencaniseeyouagain': 'Babyface_-_When_Can_I_See_You_Again.mid', 'america-ineedyou': 'America_-_I_Need_You.mid', 'christinaaguilera-comeonover': 'Christina_Aguilera_-_Come_On_Over.mid', 'christinaaguilera-iturntoyou': 'Christina_Aguilera_-_I_Turn_To_You.mid', 'enya-orinocoflow': 'Enya_-_Orinoco_Flow.mid', 'eiffel65-anotherrace': 'Eiffel_65_-_Another_Race.mid', 'buckowens-togetheragain': 'Buck_Owens_-_Together_Again.mid', 'billiemyers-kisstherain': 'Billie_Myers_-_Kiss_The_Rain.mid', 'america-venturahighway': 'America_-_Ventura_Highway.mid', 'theeagles-witchywoman': 'The_Eagles_-_Witchy_Woman.mid', '2unlimited-getreadyforthis': '2_Unlimited_-_Get_Ready_for_This.mid', 'thecorrs-rainyday': 'The_Corrs_-_Rainy_Day.mid', 'bobwelch-preciouslove': 'Bob_Welch_-_Precious_Love.mid', 'beegees-howdeepisyourlove': 'Bee_Gees_-_How_Deep_Is_Your_Love.mid', 'blink182-dumpweed': 'Blink_182_-_Dumpweed.mid', 'dustyspringfield-ionlywanttobewithyou': 'Dusty_Springfield_-_I_Only_Want_To_Be_With_You.mid', 'chrisisaak-wickedgame': 'Chris_Isaak_-_Wicked_Game.mid', 'thecorrs-heavenknows': 'The_Corrs_-_Heaven_Knows.mid', 'enya-lothlorien': 'Enya_-_Lothlorien.mid', 'thecarpenters-rainydaysandmondays': 'The_Carpenters_-_Rainy_Days_and_Mondays.mid', 'thecorrs-secretlife': 'The_Corrs_-_Secret_Life.mid', 'thefugees-killingmesoftly': 'The_Fugees_-_Killing_Me_Softly.mid', 'genesis-abacab': 'Genesis_-_Abacab.mid', 'beegees-loveyouinsideout': 'Bee_Gees_-_Love_You_Inside_Out.mid', 'everclear-iwillbuyyouanewlife': 'Everclear_-_I_Will_Buy_You_A_New_Life.mid', 'davidgates-goodbyegirl': 'David_Gates_-_Goodbye_Girl.mid', 'cranberries-zombie': 'Cranberries_-_Zombie.mid', 'beegees-nightsonbroadway': 'Bee_Gees_-_Nights_On_Broadway.mid', 'bobwills-fadedlove': 'Bob_Wills_-_Faded_Love.mid', 'christophercross-ridelikethewind': 'Christopher_Cross_-_Ride_Like_the_Wind.mid', 'beastieboys-intergalactic': 'Beastie_Boys_-_Intergalactic.mid', 'drdre-forgotaboutdre': 'Dr_Dre_-_Forgot_About_Dre.mid', 'cyndilauper-truecolors': 'Cyndi_Lauper_-_True_Colors.mid', 'badfinger-dayafterday': 'Badfinger_-_Day_After_Day.mid', 'dobiegray-driftaway': 'Dobie_Gray_-_Drift_Away.mid', 'allsaints-ladymarmelade': 'All_Saints_-_Lady_Marmelade.mid', 'britneyspears-youdrivemecrazy': 'Britney_Spears_-_You_Drive_Me_Crazy.mid', 'thebuckinghams-kindofadrag': 'The_Buckinghams_-_Kind_Of_A_Drag.mid', 'averagewhiteband-pickupthepieces': 'Average_White_Band_-_Pick_Up_the_Pieces.mid', '911-thedaywefindlove': '911_-_The_Day_We_Find_Love.mid', 'depechemode-masterandservant': 'Depeche_Mode_-_Master_and_Servant.mid', 'thecorrs-nogoodforme': 'The_Corrs_-_No_Good_For_Me.mid', 'thedoors-roadhouseblues': 'The_Doors_-_Roadhouse_Blues.mid', 'bobwills-sanantoniorose': 'Bob_Wills_-_San_Antonio_Rose.mid', 'billyjoel-mylife': 'Billy_Joel_-_My_Life.mid', 'georgemichael-faith': 'George_Michael_-_Faith.mid', 'thecorrs-atyourside': 'The_Corrs_-_At_Your_Side.mid', 'boyzone-words': 'Boyzone_-_Words.mid', 'blur-charmlessman': 'Blur_-_Charmless_Man.mid', 'glennfrey-theoneyoulove': 'Glenn_Frey_-_The_One_You_Love.mid', 'billyidol-hotinthecity': 'Billy_Idol_-_Hot_in_the_City.mid', 'donnasummer-ontheradio': 'Donna_Summer_-_On_the_Radio.mid', 'billwithers-justthetwoofus': 'Bill_Withers_-_Just_the_two_of_us.mid', 'genesis-callingallstations': 'Genesis_-_Calling_all_Stations.mid', 'georgestrait-amarillobymorning': 'George_Strait_-_Amarillo_by_Morning.mid', 'andykim-babyiloveyou': 'Andy_Kim_-_Baby_I_Love_You.mid', 'eiffel65-dubinlife': 'Eiffel_65_-_Dub_in_Life.mid', 'fabulousthunderbirds-wrapitup': 'Fabulous_Thunderbirds_-_Wrap_It_Up.mid', 'ginovannelli-ijustwannastop': 'Gino_Vannelli_-_I_Just_Wanna_Stop.mid', 'backstreetboys-letthemusichealyoursoul': 'Backstreet_Boys_-_Let_the_Music_Heal_Your_Soul.mid', 'aaliyah-areyouthatsomebody': 'Aaliyah_-_Are_You_That_Somebody.mid', 'bonnietyler-holdingoutforahero': 'Bonnie_Tyler_-_Holding_Out_for_a_Hero.mid', 'alanparsons-eyeinthesky': 'Alan_Parsons_-_Eye_in_the_Sky.mid', 'eminem-superman': 'Eminem_-_Superman.mid', 'carlysimon-nobodydoesitbetter': 'Carly_Simon_-_Nobody_Does_it_Better.mid', 'barbrastreisand-thewaywewere': 'Barbra_Streisand_-_The_Way_We_Were.mid', 'cyndilauper-gooniesrgoodenough': 'Cyndi_Lauper_-_Goonies_R_Good_Enough.mid', 'bertiehiggins-keylargo': 'Bertie_Higgins_-_Key_Largo.mid', 'anitaward-ringmybell': 'Anita_Ward_-_Ring_My_Bell.mid', 'backstreetboys-myheartstayswithyou': 'Backstreet_Boys_-_My_Heart_Stays_With_You.mid', 'georgebenson-thismasquerade': 'George_Benson_-_This_Masquerade.mid', 'gerryrafferty-rightdowntheline': 'Gerry_Rafferty_-_Right_Down_the_Line.mid', 'cranberries-cordell': 'Cranberries_-_Cordell.mid', 'backstreetboys-quitplayinggameswithmyheart': 'Backstreet_Boys_-_Quit_Playing_Games_With_My_Heart.mid', 'celinedion-allbymyself': 'Celine_Dion_-_All_By_Myself.mid', 'everclear-santamonica': 'Everclear_-_Santa_Monica.mid', 'atlanticstarr-always': 'Atlantic_Starr_-_Always.mid', 'goldfinger-mable': 'Goldfinger_-_Mable.mid', 'badfinger-babyblue': 'Badfinger_-_Baby_Blue.mid', 'bread-aubrey': 'Bread_-_Aubrey.mid', 'christmascarols-wethreekings': 'Christmas_Carols_-_We_Three_Kings.mid', 'georgebenson-givemethenight': 'George_Benson_-_Give_Me_the_Night.mid', '2unlimited-twilightzone': '2_Unlimited_-_Twilight_Zone.mid', 'christmascarols-deckthehalls': 'Christmas_Carols_-_Deck_The_Halls.mid', 'allure-allcriedout': 'Allure_-_All_Cried_Out.mid', 'aqua-myohmy': 'Aqua_-_My_Oh_My.mid', 'everclear-fatherofmine': 'Everclear_-_Father_Of_Mine.mid', 'faithless-godisadj': 'Faithless_-_God_Is_A_DJ.mid', 'eels-laststopthistown': 'Eels_-_Last_Stop_This_Town.mid', 'chicago-beginnings': 'Chicago_-_Beginnings.mid', 'catstevens-ohveryyoung': 'Cat_Stevens_-_Oh_Very_Young.mid', 'carlysimon-mockingbird': 'Carly_Simon_-_Mockingbird.mid', 'genesis-paperlate': 'Genesis_-_Paperlate.mid', 'adele-someonelikeyou': 'adele_-_someone_like_you.mid', 'thecarpenters-closetoyou': 'The_Carpenters_-_Close_to_You.mid', 'christmascarols-silverbells': 'Christmas_Carols_-_Silver_Bells.mid', 'theclash-rockthecasbah': 'The_Clash_-_Rock_the_Casbah.mid', \"billyjoel-she'sgotaway\": \"Billy_Joel_-_She's_Got_a_Way.mid\", 'genesis-tonighttonighttonight': 'Genesis_-_Tonight_Tonight_Tonight.mid'}\n",
            "{'dionnewarwick-heartbreaker': 'Dionne_Warwick_-_Heartbreaker.mid', 'blink182-josie': 'Blink_182_-_Josie.mid', 'fredapayne-bandofgold': 'Freda_Payne_-_Band_of_Gold.mid', 'thecorrs-closer': 'The_Corrs_-_Closer.mid', 'annemurray-youneededme': 'Anne_Murray_-_You_Needed_Me.mid', 'abba-knowingmeknowingyou': 'ABBA_-_Knowing_Me_Knowing_You.mid', 'donnasummer-badgirls': 'Donna_Summer_-_Bad_Girls.mid', 'chicago-saturdayinthepark': 'Chicago_-_Saturday_in_the_Park.mid', 'celinedion-becauseyoulovedme': 'Celine_Dion_-_Because_You_Loved_Me.mid', \"davidbowie-let'sdance\": \"David_Bowie_-_Let's_Dance.mid\", 'bananarama-cruelsummer': 'Bananarama_-_Cruel_Summer.mid', 'alanparsons-time': 'Alan_Parsons_-_Time.mid', 'badreligion-americanjesus': 'Bad_Religion_-_American_Jesus.mid', 'alanparsons-primetime': 'Alan_Parsons_-_Prime_Time.mid', 'beegees-nightfever': 'Bee_Gees_-_Night_Fever.mid', 'enriqueiglesias-bailamos': 'Enrique_Iglesias_-_Bailamos.mid', 'carldouglas-kungfufighting': 'Carl_Douglas_-_Kung_Fu_Fighting.mid', 'bonnietyler-totaleclipseoftheheart': 'Bonnie_Tyler_-_Total_Eclipse_of_the_Heart.mid', 'bobbyvinton-sealedwithakiss': 'Bobby_Vinton_-_Sealed_With_a_Kiss.mid', 'theeagles-thelongrun': 'The_Eagles_-_The_Long_Run.mid', 'darude-sandstorm': 'Darude_-_Sandstorm.mid', '5ive-ifyagettindown': '5ive_-_If_Ya_Gettin_Down.mid', 'christmascarols-whatchildisthis': 'Christmas_Carols_-_What_Child_Is_This.mid', 'cultureclub-doyoureallywanttohurtme': 'Culture_Club_-_Do_You_Really_Want_to_Hurt_Me.mid', 'curtismayfield-moveonup': 'Curtis_Mayfield_-_Move_On_Up.mid', 'blackrob-whoa': 'Black_Rob_-_Whoa.mid', 'georgebenson-onbroadway': 'George_Benson_-_On_Broadway.mid', 'billyidol-dancingwithmyself': 'Billy_Idol_-_Dancing_With_Myself.mid', 'christmascarols-rockinaroundthechristmastree': 'Christmas_Carols_-_Rockin_Around_The_Christmas_Tree.mid', 'backstreetboys-likeachild': 'Backstreet_Boys_-_Like_A_Child.mid', 'bodiddley-bodiddley': 'Bo_Diddley_-_Bo_Diddley.mid', 'blackstreet-takemethere': 'Blackstreet_-_Take_Me_There.mid', 'donovan-mellowyellow': 'Donovan_-_Mellow_Yellow.mid', 'christmascarols-sleighride': 'Christmas_Carols_-_Sleigh_Ride.mid', 'cher-shoopshoopsong': 'Cher_-_Shoop_Shoop_Song.mid', 'eagleeyecherry-savetonight': 'Eagle_Eye_Cherry_-_Save_Tonight.mid', 'beegees-tolovesomebody': 'Bee_Gees_-_To_Love_Somebody.mid', 'fatboyslim-goingoutofmyhead': 'Fatboy_Slim_-_Going_Out_of_My_Head.mid', 'alanparsons-gamespeopleplay': 'Alan_Parsons_-_Games_People_Play.mid', 'bobmarley-couldyoubeloved': 'Bob_Marley_-_Could_You_Be_Loved.mid', 'billyjoel-thelongesttime': 'Billy_Joel_-_The_Longest_Time.mid', 'eddiekendricks-boogiedown': 'Eddie_Kendricks_-_Boogie_Down.mid', 'theeagles-newkidintown': 'The_Eagles_-_New_Kid_In_Town.mid', 'theeagles-tequilasunrise': 'The_Eagles_-_Tequila_Sunrise.mid', 'ericcarmen-allbymyself': 'Eric_Carmen_-_All_By_Myself.mid', 'theeagles-takeiteasy': 'The_Eagles_-_Take_It_Easy.mid', 'thecarpenters-sing': 'The_Carpenters_-_Sing.mid', 'theeagles-alreadygone': 'The_Eagles_-_Already_Gone.mid', \"beegees-jivetalkin'\": \"Bee_Gees_-_Jive_Talkin'.mid\", 'ericcarmen-hungryeyes': 'Eric_Carmen_-_Hungry_Eyes.mid', 'britneyspears-sometimes': 'Britney_Spears_-_Sometimes.mid', 'edgarwinter-frankenstein': 'Edgar_Winter_-_Frankenstein.mid', 'genesis-illegalalien': 'Genesis_-_Illegal_Alien.mid', 'thedrifters-onbroadway': 'The_Drifters_-_On_Broadway.mid', 'alstewart-ontheborder': 'Al_Stewart_-_On_the_Border.mid', '98degrees-idocherishyou': '98_Degrees_-_I_Do_Cherish_You.mid', 'defleppard-photograph': 'Def_Leppard_-_Photograph.mid', 'theeagles-oneofthesenights': 'The_Eagles_-_One_of_These_Nights.mid', 'backstreetboys-allihavetogive': 'Backstreet_Boys_-_All_I_Have_to_Give.mid', 'christmascarols-santaclausiscomingtotown': 'Christmas_Carols_-_Santa_Claus_Is_Coming_To_Town.mid', 'eminem-kim': 'Eminem_-_Kim.mid', 'carlysimon-nosecrets': 'Carly_Simon_-_No_Secrets.mid', 'gloriagaynor-iwillsurvive': 'Gloria_Gaynor_-_I_Will_Survive.mid', 'dixiechicks-icanloveyoubetter': 'Dixie_Chicks_-_I_Can_Love_You_Better.mid', 'billyidol-whitewedding': 'Billy_Idol_-_White_Wedding.mid', 'thefugees-nowomannocry': 'The_Fugees_-_No_Woman_No_Cry.mid', 'alicedeejay-betteroffalone': 'Alice_Deejay_-_Better_Off_Alone.mid', 'christmascarols-whitechristmas': 'Christmas_Carols_-_White_Christmas.mid', 'davedudley-sixdaysontheroad': 'Dave_Dudley_-_Six_Days_on_the_Road.mid', 'garthbrooks-friendsinlowplaces': 'Garth_Brooks_-_Friends_In_Low_Places.mid', 'davidbowie-lazarus': 'David_Bowie_-_Lazarus.mid', 'carlysimon-attitudedancing': 'Carly_Simon_-_Attitude_Dancing.mid', 'eve6-insideout': 'Eve_6_-_Inside_Out.mid', 'everclear-everythingtoeveryone': 'Everclear_-_Everything_To_Everyone.mid', 'freddieking-hideaway': 'Freddie_King_-_Hideaway.mid', 'berlin-takemybreathaway': 'Berlin_-_Take_My_Breath_Away.mid', 'davemason-wejustdisagree': 'Dave_Mason_-_We_Just_Disagree.mid', 'genesis-turnitonagain': 'Genesis_-_Turn_it_on_Again.mid', 'bobwelch-sentimentallady': 'Bob_Welch_-_Sentimental_Lady.mid', 'eltonjohn-candleinthewind': 'Elton_John_-_Candle_in_the_Wind.mid', 'genesis-danceonavolcano': 'Genesis_-_Dance_on_a_Volcano.mid', 'eminem-thewayiam': 'Eminem_-_The_Way_I_Am.mid', 'caroleking-ifeeltheearthmove': 'Carole_King_-_I_Feel_the_Earth_Move.mid', '38special-fantasygirl': '38_Special_-_Fantasy_Girl.mid', 'beegees-massachusetts': 'Bee_Gees_-_Massachusetts.mid', 'theeagles-thesadcafe': 'The_Eagles_-_The_Sad_Cafe.mid', 'beastieboys-girls': 'Beastie_Boys_-_Girls.mid', 'alanparsons-ammoniaavenue': 'Alan_Parsons_-_Ammonia_Avenue.mid', 'christmascarols-isawmommykissingsantaclaus': 'Christmas_Carols_-_I_Saw_Mommy_Kissing_Santa_Claus.mid', 'abba-fernando': 'ABBA_-_Fernando.mid', 'fivemanelectricalband-signs': 'Five_Man_Electrical_Band_-_Signs.mid', 'cranberries-linger': 'Cranberries_-_Linger.mid', 'donmclean-americanpie': 'Don_McLean_-_American_Pie.mid', 'thebangles-walklikeanegyptian': 'The_Bangles_-_Walk_Like_An_Egyptian.mid', 'eminem-mynameis': 'Eminem_-_My_Name_Is.mid', 'thecoasters-charliebrown': 'The_Coasters_-_Charlie_Brown.mid', 'abba-dancingqueen': 'ABBA_-_Dancing_Queen.mid', 'gladysknight-midnighttraintogeorgia': 'Gladys_Knight_-_Midnight_Train_to_Georgia.mid', 'garthbrooks-twopinacoladas': 'Garth_Brooks_-_Two_Pina_Coladas.mid', 'christmascarols-joytotheworld': 'Christmas_Carols_-_Joy_To_The_World.mid', 'thebangles-hazyshadeofwinter': 'The_Bangles_-_Hazy_Shade_of_Winter.mid', 'coreyhart-sunglassesatnight': 'Corey_Hart_-_Sunglasses_at_Night.mid', 'thefugees-readyornot': 'The_Fugees_-_Ready_or_Not.mid', 'christmascarols-doyouhearwhatihear': 'Christmas_Carols_-_Do_You_Hear_What_I_Hear.mid', 'billyjoel-pianoman': 'Billy_Joel_-_Piano_Man.mid', 'chicago-25or6to4': 'Chicago_-_25_or_6_to_4.mid', 'boyzone-nomatterwhat': 'Boyzone_-_No_Matter_What.mid', 'thecrystals-dadooronron': 'The_Crystals_-_Da_Doo_Ron_Ron.mid', 'theeagles-sevenbridgesroad': 'The_Eagles_-_Seven_Bridges_Road.mid', 'allsaints-neverever': 'All_Saints_-_Never_Ever.mid', 'firefall-youarethewoman': 'Firefall_-_You_are_the_Woman.mid', 'billyidol-monymony': 'Billy_Idol_-_Mony_Mony.mid', '2unlimited-tribaldance': '2_Unlimited_-_Tribal_Dance.mid', 'georgestrait-ijustwanttodancewithyou': 'George_Strait_-_I_Just_Want_To_Dance_With_You.mid', 'brianmcknight-backatone': 'Brian_McKnight_-_Back_At_One.mid', 'animotion-obsession': 'Animotion_-_Obsession.mid', 'bjthomas-hookedonafeeling': 'BJ_Thomas_-_Hooked_on_a_Feeling.mid', 'cardigans-myfavouritegame': 'Cardigans_-_My_Favourite_Game.mid', 'abc-poisonarrow': 'ABC_-_Poison_Arrow.mid', 'thedrifters-savethelastdanceforme': 'The_Drifters_-_Save_the_Last_Dance_for_Me.mid', 'blink182-dammit': 'Blink_182_-_Dammit.mid', 'genesis-invisibletouch': 'Genesis_-_Invisible_Touch.mid', 'cake-franksinatra': 'Cake_-_Frank_Sinatra.mid', 'cyndilauper-girlsjustwanttohavefun': 'Cyndi_Lauper_-_Girls_Just_Want_to_Have_Fun.mid', 'christmascarols-winterwonderland': 'Christmas_Carols_-_Winter_Wonderland.mid', 'aceofbase-allthatshewants': 'Ace_of_Base_-_All_That_She_Wants.mid', 'backstreetboys-everybody': 'Backstreet_Boys_-_Everybody.mid', 'faithnomore-epic': 'Faith_No_More_-_Epic.mid', 'thecorrs-therighttime': 'The_Corrs_-_The_Right_Time.mid', 'alstewart-timepassages': 'Al_Stewart_-_Time_Passages.mid', 'backstreetboys-backtoyourheart': 'Backstreet_Boys_-_Back_to_Your_Heart.mid', 'theclash-shouldistayorshouldigo': 'The_Clash_-_Should_I_Stay_or_Should_I_Go.mid', 'theeagles-takeittothelimit': 'The_Eagles_-_Take_It_To_The_Limit.mid', 'thecorrs-remember': 'The_Corrs_-_Remember.mid', 'bobbydarin-dreamlover': 'Bobby_Darin_-_Dream_Lover.mid', 'barrymanilow-evennow': 'Barry_Manilow_-_Even_Now.mid', 'theeagles-victimoflove': 'The_Eagles_-_Victim_of_Love.mid', 'fatboyslim-righthererightnow': 'Fatboy_Slim_-_Right_Here_Right_Now.mid', 'arethafranklin-youmakemefeellikeanaturalwoman': 'Aretha_Franklin_-_You_Make_Me_Feel_Like_a_Natural_Woman.mid', 'beegees-ijustwanttobeyoureverything': 'Bee_Gees_-_I_Just_Want_to_Be_Your_Everything.mid', 'theeagles-tryandloveagain': 'The_Eagles_-_Try_And_Love_Again.mid', '5ive-slamdunkdafunk': '5ive_-_Slam_Dunk_Da_Funk.mid', 'theeagles-desperado': 'The_Eagles_-_Desperado.mid', 'boyzone-babycaniholdyoutonight': 'Boyzone_-_Baby_Can_I_Hold_You_Tonight.mid', 'christmascarols-oholynight': 'Christmas_Carols_-_O_Holy_Night.mid', 'genevincent-bebopalula': 'Gene_Vincent_-_Be_Bop_a_Lula.mid', 'boyzone-lovemeforareason': 'Boyzone_-_Love_Me_For_A_Reason.mid', 'bananarama-venus': 'Bananarama_-_Venus.mid', 'america-daisyjane': 'America_-_Daisy_Jane.mid', 'cyndilauper-idroveallnight': 'Cyndi_Lauper_-_I_Drove_All_Night.mid', 'belindacarlisle-heavenisaplaceonearth': 'Belinda_Carlisle_-_Heaven_Is_a_Place_on_Earth.mid', 'anotherlevel-freakme': 'Another_Level_-_Freak_Me.mid', 'bobbyvinton-bluevelvet': 'Bobby_Vinton_-_Blue_Velvet.mid', 'aaronneville-tellitlikeitis': 'Aaron_Neville_-_Tell_It_Like_It_Is.mid', 'cake-thedistance': 'Cake_-_The_Distance.mid', 'genechandler-dukeofearl': 'Gene_Chandler_-_Duke_Of_Earl.mid', 'andykim-rockmegently': 'Andy_Kim_-_Rock_Me_Gently.mid', 'bonethugsnharmony-daysofourlivez': 'Bone_Thugs_N_Harmony_-_Days_of_Our_Livez.mid', 'chicago-doesanybodyreallyknow': 'Chicago_-_Does_Anybody_Really_Know.mid', 'gloriagaynor-nevercansaygoodbye': 'Gloria_Gaynor_-_Never_Can_Say_Goodbye.mid', 'aceofbase-alwayshavealwayswill': 'Ace_of_Base_-_Always_Have_Always_Will.mid', 'genesis-entangled': 'Genesis_-_Entangled.mid', 'beastieboys-sabotage': 'Beastie_Boys_-_Sabotage.mid', 'genesis-nosonofmine': 'Genesis_-_No_Son_of_Mine.mid', 'thecorrs-intimacy': 'The_Corrs_-_Intimacy.mid', 'eiffel65-bluedabadee': 'Eiffel_65_-_Blue_Da_Ba_Dee.mid', 'thedrifters-upontheroof': 'The_Drifters_-_Up_on_the_Roof.mid', 'boyzone-youneededme': 'Boyzone_-_You_Needed_Me.mid', 'beegees-tragedy': 'Bee_Gees_-_Tragedy.mid', 'billyocean-suddenly': 'Billy_Ocean_-_Suddenly.mid', 'thefourseasons-walklikeaman': 'The_Four_Seasons_-_Walk_Like_a_Man.mid', 'annemurray-snowbird': 'Anne_Murray_-_Snowbird.mid', 'christinaaguilera-reflection': 'Christina_Aguilera_-_Reflection.mid', 'garywright-dreamweaver': 'Gary_Wright_-_Dream_Weaver.mid', 'eminem-badmeetsevil': 'Eminem_-_Bad_Meets_Evil.mid', 'genesis-afterglow': 'Genesis_-_Afterglow.mid', 'fastball-theway': 'Fastball_-_The_Way.mid', 'thefourseasons-ronnie': 'The_Four_Seasons_-_Ronnie.mid', 'catstevens-wildworld': 'Cat_Stevens_-_Wild_World.mid', 'thecorrs-iknowmylove': 'The_Corrs_-_I_Know_My_Love.mid', 'thecarpenters-forallweknow': 'The_Carpenters_-_For_All_We_Know.mid', 'danhill-sometimeswhenwetouch': 'Dan_Hill_-_Sometimes_When_We_Touch.mid', 'edsheeran-thinkingoutloud-violin': 'Ed_Sheeran_-_Thinking_Out_Loud_-_Violin.mid', 'britneyspears-lucky': 'Britney_Spears_-_Lucky.mid', 'christophercross-sailing': 'Christopher_Cross_-_Sailing.mid', 'beegees-stayinalive': 'Bee_Gees_-_Stayin_Alive.mid', 'brandy-bestfriend': 'Brandy_-_Best_Friend.mid', 'thecorrs-dreams': 'The_Corrs_-_Dreams.mid', 'barenakedladies-theoldapartment': 'Barenaked_Ladies_-_The_Old_Apartment.mid', 'cyndilauper-timeaftertime': 'Cyndi_Lauper_-_Time_After_Time.mid', 'billyjoel-newyorkstateofmind': 'Billy_Joel_-_New_York_State_of_Mind.mid', 'alwilson-showandtell': 'Al_Wilson_-_Show_and_Tell.mid', 'agnesobel-familiar': 'Agnes_Obel_-_Familiar.mid', 'catstevens-moonshadow': 'Cat_Stevens_-_Moonshadow.mid', 'beegees-morethanawoman': 'Bee_Gees_-_More_Than_A_Woman.mid', 'countingcrows-mrjones': 'Counting_Crows_-_Mr_Jones.mid', 'firefall-justrememberiloveyou': 'Firefall_-_Just_Remember_I_Love_you.mid', 'adele-hello': 'adele_-_Hello.mid', 'theeagles-lyineyes': 'The_Eagles_-_Lyin_Eyes.mid', 'bozscaggs-whatcanisay': 'Boz_Scaggs_-_What_Can_I_Say.mid', 'fugazi-waitingroom': 'Fugazi_-_Waiting_Room.mid', 'chubbychecker-thetwist': 'Chubby_Checker_-_The_Twist.mid', 'thecarpenters-hurtingeachother': 'The_Carpenters_-_Hurting_Each_Other.mid', 'billyjoel-onlythegooddieyoung': 'Billy_Joel_-_Only_the_Good_Die_Young.mid', 'billyjoel-tellheraboutit': 'Billy_Joel_-_Tell_Her_About_It.mid', 'bonethugsnharmony-lookintomyeyes': 'Bone_Thugs_N_Harmony_-_Look_Into_My_Eyes.mid', 'bloodhoundgang-thebadtouch': 'Bloodhound_Gang_-_The_Bad_Touch.mid', 'falco-derkommissar': 'Falco_-_Der_Kommissar.mid', 'genesis-landofconfusion': 'Genesis_-_Land_of_Confusion.mid', 'thecorrs-soyoung': 'The_Corrs_-_So_Young.mid', 'gerryandthepacemakers-howdoyoudoit': 'Gerry_and_the_Pacemakers_-_How_Do_You_Do_It.mid', 'arethafranklin-respect': 'Aretha_Franklin_-_Respect.mid', 'billyidol-catchmyfall': 'Billy_Idol_-_Catch_my_Fall.mid', 'beegees-howcanyoumendabrokenheart': 'Bee_Gees_-_How_Can_You_Mend_a_Broken_Heart.mid', 'arethafranklin-think': 'Aretha_Franklin_-_Think.mid', 'chicago-wishingyouwerehere': 'Chicago_-_Wishing_You_Were_Here.mid', 'fatboyslim-rockafellaskank': 'Fatboy_Slim_-_Rockafella_Skank.mid', 'eddyarnold-welcometomyworld': 'Eddy_Arnold_-_Welcome_To_My_World.mid', 'blink182-allthesmallthings': 'Blink_182_-_All_the_Small_Things.mid', 'adele-hometownglory': 'adele_-_hometown_glory.mid', 'theeagles-hotelcalifornia': 'The_Eagles_-_Hotel_California.mid', 'britneyspears-babyonemoretime': 'Britney_Spears_-_Baby_One_More_Time.mid', 'envogue-freeyourmind': 'En_Vogue_-_Free_Your_Mind.mid', 'dmx-partyup': 'DMX_-_Party_Up.mid', 'theeagles-lovewillkeepusalive': 'The_Eagles_-_Love_Will_Keep_Us_Alive.mid', 'exile-kissyouallover': 'Exile_-_Kiss_you_all_over.mid', 'billyidol-rebelyell': 'Billy_Idol_-_Rebel_Yell.mid', 'billypreston-willitgoroundincircles': 'Billy_Preston_-_Will_it_Go_Round_in_Circles.mid', 'dianaross-themefrommahogany': 'Diana_Ross_-_Theme_from_Mahogany.mid', 'theeagles-bestofmylove': 'The_Eagles_-_Best_of_My_Love.mid', '2unlimited-letthebeatcontrolyourbody': '2_Unlimited_-_Let_the_Beat_Control_Your_Body.mid', 'bettemidler-fromadistance': 'Bette_Midler_-_From_A_Distance.mid', 'georgemichael-fatherfigure': 'George_Michael_-_Father_Figure.mid', 'donmclean-vincent': 'Don_McLean_-_Vincent.mid', 'atlantarhythmsection-imaginarylover': 'Atlanta_Rhythm_Section_-_Imaginary_Lover.mid', 'glencampbell-bythetimeigettophoenix': 'Glen_Campbell_-_By_the_Time_I_Get_to_Phoenix.mid', 'billyjoel-thestranger': 'Billy_Joel_-_The_Stranger.mid', 'brianmcknight-onthedownlow': 'Brian_McKnight_-_On_The_Down_Low.mid', 'thedrifters-undertheboardwalk': 'The_Drifters_-_Under_the_Boardwalk.mid', 'britneyspears-stronger': 'Britney_Spears_-_Stronger.mid', 'chicago-colormyworld': 'Chicago_-_Color_My_World.mid', 'cyndilauper-shebop': 'Cyndi_Lauper_-_She_Bop.mid', 'theeagles-pleasecomehomeforchristmas': 'The_Eagles_-_Please_Come_Home_For_Christmas.mid', 'dianaross-upsidedown': 'Diana_Ross_-_Upside_Down.mid', 'christmascarols-thefirstnoel': 'Christmas_Carols_-_The_First_Noel.mid', 'billyswan-icanhelp': 'Billy_Swan_-_I_Can_Help.mid', \"backstreetboys-i'llneverbreakyourheart\": \"Backstreet_Boys_-_I'll_Never_Break_Your_Heart.mid\", 'thecorrs-radio': 'The_Corrs_-_Radio.mid', 'countingcrows-roundhere': 'Counting_Crows_-_Round_Here.mid', 'fastball-outofmyhead': 'Fastball_-_Out_Of_My_Head.mid', 'theeagles-lifeinthefastlane': 'The_Eagles_-_Life_In_The_Fast_Lane.mid', 'aceofbase-beautifullife': 'Ace_of_Base_-_Beautiful_Life.mid', 'thecorrs-lovetoloveyou': 'The_Corrs_-_Love_to_Love_You.mid', 'billyjoel-scenesfromanitalianrestaurant': 'Billy_Joel_-_Scenes_from_an_Italian_Restaurant.mid', 'celinedion-toloveyoumore': 'Celine_Dion_-_To_Love_You_More.mid', 'blur-countryhouse': 'Blur_-_Country_House.mid', 'backstreetboys-largerthanlife': 'Backstreet_Boys_-_Larger_Than_Life.mid', 'billwithers-leanonme': 'Bill_Withers_-_Lean_on_Me.mid', 'chic-goodtimes': 'Chic_-_Good_Times.mid', 'depechemode-peoplearepeople': 'Depeche_Mode_-_People_Are_People.mid', 'asia-onlytimewilltell': 'Asia_-_Only_Time_Will_Tell.mid', 'thecorrs-ineverlovedyouanyway': 'The_Corrs_-_I_Never_Loved_You_Anyway.mid', 'fionaapple-criminal': 'Fiona_Apple_-_Criminal.mid', 'cardigans-eraseandrewind': 'Cardigans_-_Erase_And_Rewind.mid', 'anitabaker-sweetlove': 'Anita_Baker_-_Sweet_Love.mid', 'alannahmyles-blackvelvet': 'Alannah_Myles_-_Black_Velvet.mid', 'billyjoel-uptowngirl': 'Billy_Joel_-_Uptown_Girl.mid', 'allsaints-bootiecall': 'All_Saints_-_Bootie_Call.mid', 'christmascarols-haveyourselfamerrylittlechristmas': 'Christmas_Carols_-_Have_Yourself_A_Merry_Little_Christmas.mid', 'donnyosmond-puppylove': 'Donny_Osmond_-_Puppy_Love.mid', \"georgestrait-allmyex'sliveintexas\": \"George_Strait_-_All_My_Ex's_Live_in_Texas.mid\", 'caroleking-sofaraway': 'Carole_King_-_So_Far_Away.mid', 'thecarpenters-sweetsweetsmile': 'The_Carpenters_-_Sweet_Sweet_Smile.mid', 'catstevens-morninghasbroken': 'Cat_Stevens_-_Morning_Has_Broken.mid', 'thecarpenters-topoftheworld': 'The_Carpenters_-_Top_of_the_World.mid', 'eminem-therealslimshady': 'Eminem_-_The_Real_Slim_Shady.mid', 'davidseville-witchdoctor': 'David_Seville_-_Witch_Doctor.mid', 'theflamingos-ionlyhaveeyesforyou': 'The_Flamingos_-_I_Only_Have_Eyes_For_You.mid', 'celinedion-immortality': 'Celine_Dion_-_Immortality.mid', 'fatboyslim-praiseyou': 'Fatboy_Slim_-_Praise_You.mid', 'christmascarols-frostythesnowman': 'Christmas_Carols_-_Frosty_The_Snowman.mid', 'thedrifters-thismagicmoment': 'The_Drifters_-_This_Magic_Moment.mid', 'averagewhiteband-cutthecake': 'Average_White_Band_-_Cut_the_Cake.mid', 'backstreetboys-nooneelsecomesclose': 'Backstreet_Boys_-_No_One_Else_Comes_Close.mid', 'donhenley-endoftheinnocence': 'Don_Henley_-_End_of_the_Innocence.mid', 'georgestrait-icrossmyheart': 'George_Strait_-_I_Cross_My_Heart.mid', 'cultureclub-karmachameleon': 'Culture_Club_-_Karma_Chameleon.mid', 'eels-yourluckydayinhell': 'Eels_-_Your_Lucky_Day_In_Hell.mid', 'dionnewarwick-isayalittleprayer': 'Dionne_Warwick_-_I_Say_A_Little_Prayer.mid', 'christmascarols-ocomeallyefaithful': 'Christmas_Carols_-_O_Come_All_Ye_Faithful.mid', 'chic-lefreak': 'Chic_-_Le_Freak.mid', 'abba-waterloo': 'ABBA_-_Waterloo.mid', 'badfinger-comeandgetit': 'Badfinger_-_Come_And_Get_It.mid', 'beegees-words': 'Bee_Gees_-_Words.mid', 'christmascarols-jinglebells': 'Christmas_Carols_-_Jingle_Bells.mid', 'chakakhan-ifeelforyou': 'Chaka_Khan_-_I_Feel_for_You.mid', 'theeagles-thelastresort': 'The_Eagles_-_The_Last_Resort.mid', '702-wheremygirlsat': '702_-_Where_My_Girls_At.mid', '38special-caughtupinyou': '38_Special_-_Caught_Up_In_You.mid', 'danfogelberg-sameoldlangsyne': 'Dan_Fogelberg_-_Same_Old_Lang_Syne.mid', 'thebabys-midnightrendezvous': 'The_Babys_-_Midnight_Rendezvous.mid', 'thecorrs-queenofhollywood': 'The_Corrs_-_Queen_of_Hollywood.mid', 'chuckmangione-feelssogood': 'Chuck_Mangione_-_Feels_So_Good.mid', 'aqua-barbiegirl': 'Aqua_-_Barbie_Girl.mid', 'britneyspears-sodapop': 'Britney_Spears_-_Soda_Pop.mid', 'bread-sweetsurrender': 'Bread_-_Sweet_Surrender.mid', 'cherrypoppindaddies-zootsuitriot': 'Cherry_Poppin_Daddies_-_Zoot_Suit_Riot.mid', 'dionnewarwick-doyouknowthewaytosanjose': 'Dionne_Warwick_-_Do_You_Know_the_Way_to_San_Jose.mid', 'brianmcknight-anytime': 'Brian_McKnight_-_Anytime.mid', 'cypresshill-rocksuperstar': 'Cypress_Hill_-_Rock_Superstar.mid', 'billyjoel-youmayberight': 'Billy_Joel_-_You_May_Be_Right.mid', 'enriqueiglesias-experienciareligiosa': 'Enrique_Iglesias_-_Experiencia_Religiosa.mid', 'boyzone-adifferentbeat': 'Boyzone_-_A_Different_Beat.mid', 'georgemichael-onemoretry': 'George_Michael_-_One_More_Try.mid', 'christmascarols-angelswehaveheardonhigh': 'Christmas_Carols_-_Angels_We_Have_Heard_On_High.mid', 'beegees-toomuchheaven': 'Bee_Gees_-_Too_Much_Heaven.mid', 'britneyspears-fromthebottomofmybrokenheart': 'Britney_Spears_-_From_the_Bottom_of_My_Broken_Heart.mid', 'frankievalli-grease': 'Frankie_Valli_-_Grease.mid', 'georgemichael-freedom': 'George_Michael_-_Freedom.mid', 'abc-thelookoflove': 'ABC_-_The_Look_of_Love.mid', 'theeagles-peacefuleasyfeeling': 'The_Eagles_-_Peaceful_Easy_Feeling.mid', 'badfinger-nomatterwhat': 'Badfinger_-_No_Matter_What.mid', 'alanparsons-damnedifido': 'Alan_Parsons_-_Damned_if_I_Do.mid', 'depechemode-everythingcounts': 'Depeche_Mode_-_Everything_Counts.mid', 'thecorrs-forgivennotforgotten': 'The_Corrs_-_Forgiven_Not_Forgotten.mid', 'brandy-iwannabedown': 'Brandy_-_I_Wanna_Be_Down.mid', 'ericclapton-bellbottomblues': 'Eric_Clapton_-_Bell_Bottom_Blues.mid', 'britneyspears-borntomakeyouhappy': 'Britney_Spears_-_Born_to_Make_You_Happy.mid', 'cliffrichard-devilwoman': 'Cliff_Richard_-_Devil_Woman.mid', 'anotherlevel-iwantyouformyself': 'Another_Level_-_I_Want_You_For_Myself.mid', 'classicsiv-stormy': 'Classics_IV_-_Stormy.mid', 'debbiegibson-lostinyoureyes': 'Debbie_Gibson_-_Lost_in_your_Eyes.mid', \"billyjoel-movin'out\": \"Billy_Joel_-_Movin'_Out.mid\", 'catstevens-anothersaturdaynight': 'Cat_Stevens_-_Another_Saturday_Night.mid', 'bloodhoundgang-firewaterburn': 'Bloodhound_Gang_-_Fire_Water_Burn.mid', 'thefourseasons-ragdoll': 'The_Four_Seasons_-_Rag_Doll.mid', 'cultureclub-churchofthepoisonmind': 'Culture_Club_-_Church_of_the_Poison_Mind.mid', 'eminem-rolemodel': 'Eminem_-_Role_Model.mid', 'backstreetboys-aslongasyouloveme': 'Backstreet_Boys_-_As_Long_As_You_Love_Me.mid', 'beastieboys-fightforyourrighttoparty': 'Beastie_Boys_-_Fight_For_Your_Right_to_Party.mid', 'thefourseasons-dawngoaway': 'The_Four_Seasons_-_Dawn_Go_Away.mid', 'caroleking-willyoustilllovemetomorrow': 'Carole_King_-_Will_You_Still_Love_Me_Tomorrow.mid', 'brucehornsby-thewayitis': 'Bruce_Hornsby_-_The_Way_It_Is.mid', 'barrymanilow-copacabana': 'Barry_Manilow_-_Copacabana.mid', 'beaubrummels-laughlaugh': 'Beau_Brummels_-_Laugh_Laugh.mid', 'thecorrs-someday': 'The_Corrs_-_Someday.mid', 'america-tinman': 'America_-_Tin_Man.mid', 'backstreetboys-iwantitthatway': 'Backstreet_Boys_-_I_Want_It_That_Way.mid', 'billyidol-fleshforfantasy': 'Billy_Idol_-_Flesh_for_Fantasy.mid', 'chetatkins-wheels': 'Chet_Atkins_-_Wheels.mid', 'cardigans-lovefool': 'Cardigans_-_Lovefool.mid', 'aceofbase-thesign': 'Ace_of_Base_-_The_Sign.mid', 'thefourseasons-sherry': 'The_Four_Seasons_-_Sherry.mid', 'georgemccrae-rockyourbaby': 'George_McCrae_-_Rock_Your_Baby.mid', 'bread-guitarman': 'Bread_-_Guitar_Man.mid', '98degrees-thehardestthing': '98_Degrees_-_The_Hardest_Thing.mid', 'thecorrs-hastetothewedding': 'The_Corrs_-_Haste_to_the_Wedding.mid', 'coolio-cuwhenugetthere': 'Coolio_-_C_U_When_U_Get_There.mid', 'garywright-loveisalive': 'Gary_Wright_-_Love_is_Alive.mid', 'abba-takeachanceonme': 'ABBA_-_Take_A_Chance_On_Me.mid', \"billyjoel-it'sstillrockandrolltome\": \"Billy_Joel_-_It's_Still_Rock_and_Roll_to_Me.mid\", 'barenakedladies-shoebox': 'Barenaked_Ladies_-_Shoe_Box.mid', 'freddiemercury-livingonmyown': 'Freddie_Mercury_-_Living_on_my_Own.mid', 'abba-supertrouper': 'ABBA_-_Super_Trouper.mid', 'glencampbell-wichitalineman': 'Glen_Campbell_-_Wichita_Lineman.mid', 'depechemode-enjoythesilence-2': 'Depeche_Mode_-_Enjoy_the_Silence-2.mid', 'christinaaguilera-genieinabottle': 'Christina_Aguilera_-_Genie_In_A_Bottle.mid', 'thebangles-manicmonday': 'The_Bangles_-_Manic_Monday.mid', 'eiffel65-yourclown': 'Eiffel_65_-_Your_Clown.mid', 'everlast-whatitslike': 'Everlast_-_What_Its_Like.mid', 'thebangles-eternalflame': 'The_Bangles_-_Eternal_Flame.mid', 'boyzone-ilovethewayyouloveme': 'Boyzone_-_I_Love_The_Way_You_Love_Me.mid', 'donnasummer-lastdance': 'Donna_Summer_-_Last_Dance.mid', 'america-sistergoldenhair': 'America_-_Sister_Golden_Hair.mid', 'thecarpenters-yesterdayoncemore': 'The_Carpenters_-_Yesterday_Once_More.mid', 'eminem-undertheinfluence': 'Eminem_-_Under_The_Influence.mid', 'garylewisandtheplayboys-everybodylovesaclown': 'Gary_Lewis_and_the_Playboys_-_Everybody_Loves_a_Clown.mid', 'aaliyah-tryagain': 'Aaliyah_-_Try_Again.mid', 'backstreetboys-showmethemeaning': 'Backstreet_Boys_-_Show_Me_the_Meaning.mid', 'celinedion-fallingintoyou': 'Celine_Dion_-_Falling_Into_You.mid', 'celinedion-thecolourofmylove': 'Celine_Dion_-_The_Colour_of_My_Love.mid', 'billyjoel-honesty': 'Billy_Joel_-_Honesty.mid', 'billyjoel-allentown': 'Billy_Joel_-_Allentown.mid', 'eiffel65-toomuchofheaven': 'Eiffel_65_-_Too_Much_of_Heaven.mid', 'beneking-standbyme': 'Ben_E_King_-_Stand_By_Me.mid', 'bread-everythingiown': 'Bread_-_Everything_I_Own.mid', 'eminem-guiltyconscience': 'Eminem_-_Guilty_Conscience.mid', 'billyraycyrus-achybreakyheart': 'Billy_Ray_Cyrus_-_Achy_Breaky_Heart.mid', '1910fruitgumcompany-simonsays': '1910_Fruitgum_Company_-_Simon_Says.mid', 'boyzone-allthatineed': 'Boyzone_-_All_That_I_Need.mid', 'donhenley-newyorkminute': 'Don_Henley_-_New_York_Minute.mid', 'cher-believe': 'Cher_-_Believe.mid', 'debbiegibson-foolishbeat': 'Debbie_Gibson_-_Foolish_Beat.mid', 'elmorejames-dustmybroom': 'Elmore_James_-_Dust_My_Broom.mid', 'christmascarols-letitsnow': 'Christmas_Carols_-_Let_It_Snow.mid', 'billyjoel-riverofdreams': 'Billy_Joel_-_River_of_Dreams.mid', 'billyjoel-bigshot': 'Billy_Joel_-_Big_Shot.mid', 'theeagles-wastedtime': 'The_Eagles_-_Wasted_Time.mid', 'bobbydarin-macktheknife': 'Bobby_Darin_-_Mack_the_Knife.mid', \"aceofbase-don'tturnaround\": \"Ace_of_Base_-_Don't_Turn_Around.mid\", 'america-sandman': 'America_-_Sandman.mid', 'theeagles-prettymaidsallinarow': 'The_Eagles_-_Pretty_Maids_All_In_A_Row.mid', 'glennfrey-theheatison': 'Glenn_Frey_-_The_Heat_Is_On.mid', 'genesis-misunderstanding': 'Genesis_-_Misunderstanding.mid', 'babyface-changetheworld': 'Babyface_-_Change_the_World.mid', 'backstreetboys-theone': 'Backstreet_Boys_-_The_One.mid', 'debbyboone-youlightupmylife': 'Debby_Boone_-_You_Light_Up_My_Life.mid', 'abba-sos': 'ABBA_-_SOS.mid', 'thecorrs-lovegiveslovetakes': 'The_Corrs_-_Love_Gives_Love_Takes.mid', 'barbrastreisand-womaninlove': 'Barbra_Streisand_-_Woman_In_Love.mid', 'cyndilauper-allthroughthenight': 'Cyndi_Lauper_-_All_Through_the_Night.mid', 'donnasummer-hotstuff': 'Donna_Summer_-_Hot_Stuff.mid', 'danfogelberg-leaderoftheband': 'Dan_Fogelberg_-_Leader_of_the_Band.mid', 'bread-makeitwithyou': 'Bread_-_Make_It_With_You.mid', 'thecarpenters-asongforyou': 'The_Carpenters_-_A_Song_For_You.mid', 'celinedion-tellhim': 'Celine_Dion_-_Tell_Him.mid', 'blur-tender': 'Blur_-_Tender.mid', '5ive-untilthetimeisthrough': '5ive_-_Until_The_Time_Is_Through.mid', 'glennfrey-youbelongtothecity': 'Glenn_Frey_-_You_Belong_to_the_City.mid', 'dianaross-touchmeinthemorning': 'Diana_Ross_-_Touch_Me_in_the_Morning.mid', 'catstevens-peacetrain': 'Cat_Stevens_-_Peace_Train.mid', 'bread-diary': 'Bread_-_Diary.mid', 'belindacarlisle-madaboutyou': 'Belinda_Carlisle_-_Mad_About_You.mid', 'abba-moneymoneymoney': 'ABBA_-_Money_Money_Money.mid', \"britneyspears-don'tletmebethelasttoknow\": \"Britney_Spears_-_Don't_Let_Me_Be_the_Last_to_Know.mid\", 'eminem-stan': 'Eminem_-_Stan.mid', 'barenakedladies-oneweek': 'Barenaked_Ladies_-_One_Week.mid', 'bread-if': 'Bread_-_If.mid', 'backstreetboys-shapeofmyheart': 'Backstreet_Boys_-_Shape_of_My_Heart.mid', 'thecoasters-yaketyyak': 'The_Coasters_-_Yakety_Yak.mid', 'bobbyfullerfour-ifoughtthelaw': 'Bobby_Fuller_Four_-_I_Fought_The_Law.mid', 'thecarpenters-onlyyesterday': 'The_Carpenters_-_Only_Yesterday.mid', 'genesis-atrickofthetail': 'Genesis_-_A_Trick_of_the_Tail.mid', 'catstevens-fatherandson': 'Cat_Stevens_-_Father_and_Son.mid', 'donhenley-dirtylaundry': 'Don_Henley_-_Dirty_Laundry.mid', 'backstreetboys-ineedyoutonight': 'Backstreet_Boys_-_I_Need_You_Tonight.mid', 'coolio-fantasticvoyage': 'Coolio_-_Fantastic_Voyage.mid', 'boyzone-pictureofyou': 'Boyzone_-_Picture_Of_You.mid', 'benfoldsfive-brick': 'Ben_Folds_Five_-_Brick.mid', 'frankieavalon-venus': 'Frankie_Avalon_-_Venus.mid', 'brownsvillestation-smokinintheboysroom': 'Brownsville_Station_-_Smokin_In_The_Boys_Room.mid', 'billyocean-loverboy': 'Billy_Ocean_-_Loverboy.mid', 'buckowens-actnaturally': 'Buck_Owens_-_Act_Naturally.mid', 'billyjoel-goodnightsaigon': 'Billy_Joel_-_Goodnight_Saigon.mid', 'bobdylan-subterraneanhomesickblues': 'Bob_Dylan_-_Subterranean_Homesick_Blues.mid', 'billyidol-eyeswithoutaface': 'Billy_Idol_-_Eyes_Without_A_Face.mid', 'genesis-jesusheknowsme': 'Genesis_-_Jesus_He_Knows_Me.mid', 'enriqueiglesias-bewithyou': 'Enrique_Iglesias_-_Be_With_You.mid', 'gerihalliwell-lookatme': 'Geri_Halliwell_-_Look_At_Me.mid', 'fineyoungcannibals-shedrivesmecrazy': 'Fine_Young_Cannibals_-_She_Drives_Me_Crazy.mid', 'ericclapton-wonderfultonight-liveextndversion@jiji@': 'Eric_Clapton_-_wonderful_tonight_-_live_extnd_version_@jiji@.mid', 'faithhill-breathe': 'Faith_Hill_-_Breathe.mid', 'thecorrs-whatcanido': 'The_Corrs_-_What_Can_I_Do.mid', 'bozscaggs-lidoshuffle': 'Boz_Scaggs_-_Lido_Shuffle.mid', 'abba-gimmegimmegimme': 'ABBA_-_Gimme_Gimme_Gimme.mid', 'dionnewarwick-walkonby': 'Dionne_Warwick_-_Walk_On_By.mid', 'extreme-morethanwords': 'Extreme_-_More_Than_Words.mid', 'bread-goodbyegirl': 'Bread_-_Goodbye_Girl.mid', 'dixiechicks-goodbyeearl': 'Dixie_Chicks_-_Goodbye_Earl.mid', 'falco-rockmeamadeus': 'Falco_-_Rock_Me_Amadeus.mid', 'christmascarols-hollyjollychristmas': 'Christmas_Carols_-_Holly_Jolly_Christmas.mid', 'conniefrancis-wheretheboysare': 'Connie_Francis_-_Where_the_Boys_Are.mid', 'georgebenson-turnyourlovearound': 'George_Benson_-_Turn_Your_Love_Around.mid', 'edwinstarr-war': 'Edwin_Starr_-_War.mid', 'donovan-sunshinesuperman': 'Donovan_-_Sunshine_Superman.mid', 'arloguthrie-cityofneworleans': 'Arlo_Guthrie_-_City_of_New_Orleans.mid', 'aladdin-awholenewworld': 'aladdin_-_A_whole_new_world.mid', 'geneautry-backinthesaddleagain': 'Gene_Autry_-_Back_in_the_Saddle_Again.mid', 'thecarpenters-merrychristmasdarling': 'The_Carpenters_-_Merry_Christmas_Darling.mid', 'genesis-intoodeep': 'Genesis_-_In_Too_Deep.mid', 'badreligion-awalk': 'Bad_Religion_-_A_Walk.mid', 'thecorrs-carraroejig': 'The_Corrs_-_Carraroe_Jig.mid', 'thefixx-onethingleadstoanother': 'The_Fixx_-_One_Thing_Leads_to_Another.mid', 'bobbybrown-myperogative': 'Bobby_Brown_-_My_Perogative.mid', 'cake-neverthere': 'Cake_-_Never_There.mid', 'frankiegoestohollywood-relax': 'Frankie_Goes_to_Hollywood_-_Relax.mid', 'christmascarols-rudolphtherednosedreindeer': 'Christmas_Carols_-_Rudolph_The_Red_Nosed_Reindeer.mid', 'genesis-fifthoffifth': 'Genesis_-_Fifth_of_Fifth.mid', 'thefifthdimension-upupandaway': 'The_Fifth_Dimension_-_Up_Up_and_Away.mid', 'blaque-bringitalltome': 'Blaque_-_Bring_It_All_To_Me.mid', 'asia-heatofthemoment': 'Asia_-_Heat_Of_The_Moment.mid', 'theeagles-heartachetonight': 'The_Eagles_-_Heartache_Tonight.mid', 'thecorrs-leavemealone': 'The_Corrs_-_Leave_Me_Alone.mid', 'thebyrds-turnturnturn': 'The_Byrds_-_Turn_Turn_Turn.mid', 'thecorrs-runaway': 'The_Corrs_-_Runaway.mid', 'donnasummer-ifeellove': 'Donna_Summer_-_I_Feel_Love.mid', 'thecorrs-onlywhenisleep': 'The_Corrs_-_Only_When_I_Sleep.mid', 'brandy-theboyismine': 'Brandy_-_The_Boy_Is_Mine.mid', 'alstewart-yearofthecat': 'Al_Stewart_-_Year_of_the_Cat.mid', 'gerihalliwell-michicolatino': 'Geri_Halliwell_-_Mi_Chico_Latino.mid', 'carlysimon-halfachance': 'Carly_Simon_-_Half_a_Chance.mid', 'barrymanilow-mandy': 'Barry_Manilow_-_Mandy.mid', 'cannedheat-goingupthecountry': 'Canned_Heat_-_Going_Up_The_Country.mid', 'berlin-themetro': 'Berlin_-_The_Metro.mid', 'buddyguy-midnighttrain': 'Buddy_Guy_-_Midnight_Train.mid', 'bettemidler-therose': 'Bette_Midler_-_The_Rose.mid', 'abba-thankyouforthemusic': 'ABBA_-_Thank_You_for_the_Music.mid', 'thebuckinghams-mercymercymercy': 'The_Buckinghams_-_Mercy_Mercy_Mercy.mid', 'thecorrs-nofrontiers': 'The_Corrs_-_No_Frontiers.mid', 'all4one-iswear': 'All_4_One_-_I_Swear.mid', 'america-lonelypeople': 'America_-_Lonely_People.mid', 'coolio-toohot': 'Coolio_-_Too_Hot.mid', 'thecarpenters-superstar': 'The_Carpenters_-_Superstar.mid', 'thecure-closetome': 'The_Cure_-_Close_to_Me.mid', 'billyjoel-pressure': 'Billy_Joel_-_Pressure.mid', \"chakakhan-ain'tnobody\": \"Chaka_Khan_-_Ain't_Nobody.mid\", 'thecarpenters-goodbyetolove': 'The_Carpenters_-_Goodbye_to_Love.mid', 'billyjoel-justthewayyouare': 'Billy_Joel_-_Just_the_Way_You_Are.mid', 'blur-song2': 'Blur_-_Song_2.mid', 'genesis-homebythesea': 'Genesis_-_Home_by_the_Sea.mid', 'beegees-istartedajoke': 'Bee_Gees_-_I_Started_A_Joke.mid', 'chakakhan-tellmesomethinggood': 'Chaka_Khan_-_Tell_Me_Something_Good.mid', 'christmascarols-littledrummerboy': 'Christmas_Carols_-_Little_Drummer_Boy.mid', 'badenglish-wheniseeyousmile': 'Bad_English_-_When_I_See_You_Smile.mid', 'dustyspringfield-sonofapreacherman': 'Dusty_Springfield_-_Son_of_a_Preacher_Man.mid', 'andrewgold-lonelyboy': 'Andrew_Gold_-_Lonely_Boy.mid', 'blackstreet-nodiggity': 'Blackstreet_-_No_Diggity.mid', 'faithevans-lovelikethis': 'Faith_Evans_-_Love_Like_This.mid', 'abba-thewinnertakesitall': 'ABBA_-_The_Winner_Takes_It_All.mid', 'a-a': 'a_-_a.mid', 'conniefrancis-stupidcupid': 'Connie_Francis_-_Stupid_Cupid.mid', 'bustarhymes-putyourhandswheremyeyescouldsee': 'Busta_Rhymes_-_Put_Your_Hands_Where_My_Eyes_Could_See.mid', 'gerryrafferty-bakerstreet': 'Gerry_Rafferty_-_Baker_Street.mid', 'fatsdomino-blueberryhill': 'Fats_Domino_-_Blueberry_Hill.mid', 'envogue-mylovin': 'En_Vogue_-_My_Lovin.mid', 'ettajames-atlast': 'Etta_James_-_At_Last.mid', 'babyface-whencaniseeyouagain': 'Babyface_-_When_Can_I_See_You_Again.mid', 'america-ineedyou': 'America_-_I_Need_You.mid', 'christinaaguilera-comeonover': 'Christina_Aguilera_-_Come_On_Over.mid', 'christinaaguilera-iturntoyou': 'Christina_Aguilera_-_I_Turn_To_You.mid', 'enya-orinocoflow': 'Enya_-_Orinoco_Flow.mid', 'eiffel65-anotherrace': 'Eiffel_65_-_Another_Race.mid', 'buckowens-togetheragain': 'Buck_Owens_-_Together_Again.mid', 'billiemyers-kisstherain': 'Billie_Myers_-_Kiss_The_Rain.mid', 'america-venturahighway': 'America_-_Ventura_Highway.mid', 'theeagles-witchywoman': 'The_Eagles_-_Witchy_Woman.mid', '2unlimited-getreadyforthis': '2_Unlimited_-_Get_Ready_for_This.mid', 'thecorrs-rainyday': 'The_Corrs_-_Rainy_Day.mid', 'bobwelch-preciouslove': 'Bob_Welch_-_Precious_Love.mid', 'beegees-howdeepisyourlove': 'Bee_Gees_-_How_Deep_Is_Your_Love.mid', 'blink182-dumpweed': 'Blink_182_-_Dumpweed.mid', 'dustyspringfield-ionlywanttobewithyou': 'Dusty_Springfield_-_I_Only_Want_To_Be_With_You.mid', 'chrisisaak-wickedgame': 'Chris_Isaak_-_Wicked_Game.mid', 'thecorrs-heavenknows': 'The_Corrs_-_Heaven_Knows.mid', 'enya-lothlorien': 'Enya_-_Lothlorien.mid', 'thecarpenters-rainydaysandmondays': 'The_Carpenters_-_Rainy_Days_and_Mondays.mid', 'thecorrs-secretlife': 'The_Corrs_-_Secret_Life.mid', 'thefugees-killingmesoftly': 'The_Fugees_-_Killing_Me_Softly.mid', 'genesis-abacab': 'Genesis_-_Abacab.mid', 'beegees-loveyouinsideout': 'Bee_Gees_-_Love_You_Inside_Out.mid', 'everclear-iwillbuyyouanewlife': 'Everclear_-_I_Will_Buy_You_A_New_Life.mid', 'davidgates-goodbyegirl': 'David_Gates_-_Goodbye_Girl.mid', 'cranberries-zombie': 'Cranberries_-_Zombie.mid', 'beegees-nightsonbroadway': 'Bee_Gees_-_Nights_On_Broadway.mid', 'bobwills-fadedlove': 'Bob_Wills_-_Faded_Love.mid', 'christophercross-ridelikethewind': 'Christopher_Cross_-_Ride_Like_the_Wind.mid', 'beastieboys-intergalactic': 'Beastie_Boys_-_Intergalactic.mid', 'drdre-forgotaboutdre': 'Dr_Dre_-_Forgot_About_Dre.mid', 'cyndilauper-truecolors': 'Cyndi_Lauper_-_True_Colors.mid', 'badfinger-dayafterday': 'Badfinger_-_Day_After_Day.mid', 'dobiegray-driftaway': 'Dobie_Gray_-_Drift_Away.mid', 'allsaints-ladymarmelade': 'All_Saints_-_Lady_Marmelade.mid', 'britneyspears-youdrivemecrazy': 'Britney_Spears_-_You_Drive_Me_Crazy.mid', 'thebuckinghams-kindofadrag': 'The_Buckinghams_-_Kind_Of_A_Drag.mid', 'averagewhiteband-pickupthepieces': 'Average_White_Band_-_Pick_Up_the_Pieces.mid', '911-thedaywefindlove': '911_-_The_Day_We_Find_Love.mid', 'depechemode-masterandservant': 'Depeche_Mode_-_Master_and_Servant.mid', 'thecorrs-nogoodforme': 'The_Corrs_-_No_Good_For_Me.mid', 'thedoors-roadhouseblues': 'The_Doors_-_Roadhouse_Blues.mid', 'bobwills-sanantoniorose': 'Bob_Wills_-_San_Antonio_Rose.mid', 'billyjoel-mylife': 'Billy_Joel_-_My_Life.mid', 'georgemichael-faith': 'George_Michael_-_Faith.mid', 'thecorrs-atyourside': 'The_Corrs_-_At_Your_Side.mid', 'boyzone-words': 'Boyzone_-_Words.mid', 'blur-charmlessman': 'Blur_-_Charmless_Man.mid', 'glennfrey-theoneyoulove': 'Glenn_Frey_-_The_One_You_Love.mid', 'billyidol-hotinthecity': 'Billy_Idol_-_Hot_in_the_City.mid', 'donnasummer-ontheradio': 'Donna_Summer_-_On_the_Radio.mid', 'billwithers-justthetwoofus': 'Bill_Withers_-_Just_the_two_of_us.mid', 'genesis-callingallstations': 'Genesis_-_Calling_all_Stations.mid', 'georgestrait-amarillobymorning': 'George_Strait_-_Amarillo_by_Morning.mid', 'andykim-babyiloveyou': 'Andy_Kim_-_Baby_I_Love_You.mid', 'eiffel65-dubinlife': 'Eiffel_65_-_Dub_in_Life.mid', 'fabulousthunderbirds-wrapitup': 'Fabulous_Thunderbirds_-_Wrap_It_Up.mid', 'ginovannelli-ijustwannastop': 'Gino_Vannelli_-_I_Just_Wanna_Stop.mid', 'backstreetboys-letthemusichealyoursoul': 'Backstreet_Boys_-_Let_the_Music_Heal_Your_Soul.mid', 'aaliyah-areyouthatsomebody': 'Aaliyah_-_Are_You_That_Somebody.mid', 'bonnietyler-holdingoutforahero': 'Bonnie_Tyler_-_Holding_Out_for_a_Hero.mid', 'alanparsons-eyeinthesky': 'Alan_Parsons_-_Eye_in_the_Sky.mid', 'eminem-superman': 'Eminem_-_Superman.mid', 'carlysimon-nobodydoesitbetter': 'Carly_Simon_-_Nobody_Does_it_Better.mid', 'barbrastreisand-thewaywewere': 'Barbra_Streisand_-_The_Way_We_Were.mid', 'cyndilauper-gooniesrgoodenough': 'Cyndi_Lauper_-_Goonies_R_Good_Enough.mid', 'bertiehiggins-keylargo': 'Bertie_Higgins_-_Key_Largo.mid', 'anitaward-ringmybell': 'Anita_Ward_-_Ring_My_Bell.mid', 'backstreetboys-myheartstayswithyou': 'Backstreet_Boys_-_My_Heart_Stays_With_You.mid', 'georgebenson-thismasquerade': 'George_Benson_-_This_Masquerade.mid', 'gerryrafferty-rightdowntheline': 'Gerry_Rafferty_-_Right_Down_the_Line.mid', 'cranberries-cordell': 'Cranberries_-_Cordell.mid', 'backstreetboys-quitplayinggameswithmyheart': 'Backstreet_Boys_-_Quit_Playing_Games_With_My_Heart.mid', 'celinedion-allbymyself': 'Celine_Dion_-_All_By_Myself.mid', 'everclear-santamonica': 'Everclear_-_Santa_Monica.mid', 'atlanticstarr-always': 'Atlantic_Starr_-_Always.mid', 'goldfinger-mable': 'Goldfinger_-_Mable.mid', 'badfinger-babyblue': 'Badfinger_-_Baby_Blue.mid', 'bread-aubrey': 'Bread_-_Aubrey.mid', 'christmascarols-wethreekings': 'Christmas_Carols_-_We_Three_Kings.mid', 'georgebenson-givemethenight': 'George_Benson_-_Give_Me_the_Night.mid', '2unlimited-twilightzone': '2_Unlimited_-_Twilight_Zone.mid', 'christmascarols-deckthehalls': 'Christmas_Carols_-_Deck_The_Halls.mid', 'allure-allcriedout': 'Allure_-_All_Cried_Out.mid', 'aqua-myohmy': 'Aqua_-_My_Oh_My.mid', 'everclear-fatherofmine': 'Everclear_-_Father_Of_Mine.mid', 'faithless-godisadj': 'Faithless_-_God_Is_A_DJ.mid', 'eels-laststopthistown': 'Eels_-_Last_Stop_This_Town.mid', 'chicago-beginnings': 'Chicago_-_Beginnings.mid', 'catstevens-ohveryyoung': 'Cat_Stevens_-_Oh_Very_Young.mid', 'carlysimon-mockingbird': 'Carly_Simon_-_Mockingbird.mid', 'genesis-paperlate': 'Genesis_-_Paperlate.mid', 'adele-someonelikeyou': 'adele_-_someone_like_you.mid', 'thecarpenters-closetoyou': 'The_Carpenters_-_Close_to_You.mid', 'christmascarols-silverbells': 'Christmas_Carols_-_Silver_Bells.mid', 'theclash-rockthecasbah': 'The_Clash_-_Rock_the_Casbah.mid', \"billyjoel-she'sgotaway\": \"Billy_Joel_-_She's_Got_a_Way.mid\", 'genesis-tonighttonighttonight': 'Genesis_-_Tonight_Tonight_Tonight.mid'}\n"
          ]
        },
        {
          "output_type": "execute_result",
          "data": {
            "text/plain": [
              "             Singer                       Song Name  \\\n",
              "0    gerry rafferty                    baker street   \n",
              "1    gerry rafferty             right down the line   \n",
              "2       2 unlimited                    tribal dance   \n",
              "3       2 unlimited  let the beat control your body   \n",
              "4       2 unlimited              get ready for this   \n",
              "..              ...                             ...   \n",
              "594      don henley                   dirty laundry   \n",
              "595      don henley                 new york minute   \n",
              "596       bob dylan     subterranean homesick blues   \n",
              "597      goldfinger                           mable   \n",
              "598          dr dre                forgot about dre   \n",
              "\n",
              "                                                Lyrics  \\\n",
              "0    winding your way down on baker street & lite i...   \n",
              "1    you know i need your love & you've got that ho...   \n",
              "2    come on check it out ya'll & (come on come on!...   \n",
              "3    let the beat control your body & let the beat ...   \n",
              "4    ya'll ready for this? & get down with the styl...   \n",
              "..                                                 ...   \n",
              "594  i make my living off the evening news & just g...   \n",
              "595  harry got up & dressed all in black & went dow...   \n",
              "596  johnny's in the basement & mixing up the medic...   \n",
              "597  i met her sunday that was yesterday & the girl...   \n",
              "598  y'all know me still the same o.g. but i been l...   \n",
              "\n",
              "                                            Midi File  \n",
              "0                   Gerry_Rafferty_-_Baker_Street.mid  \n",
              "1            Gerry_Rafferty_-_Right_Down_the_Line.mid  \n",
              "2                      2_Unlimited_-_Tribal_Dance.mid  \n",
              "3    2_Unlimited_-_Let_the_Beat_Control_Your_Body.mid  \n",
              "4                2_Unlimited_-_Get_Ready_for_This.mid  \n",
              "..                                                ...  \n",
              "594                    Don_Henley_-_Dirty_Laundry.mid  \n",
              "595                  Don_Henley_-_New_York_Minute.mid  \n",
              "596       Bob_Dylan_-_Subterranean_Homesick_Blues.mid  \n",
              "597                            Goldfinger_-_Mable.mid  \n",
              "598                     Dr_Dre_-_Forgot_About_Dre.mid  \n",
              "\n",
              "[599 rows x 4 columns]"
            ],
            "text/html": [
              "\n",
              "  <div id=\"df-3a2add37-69e0-4852-b25b-fab4fea22881\">\n",
              "    <div class=\"colab-df-container\">\n",
              "      <div>\n",
              "<style scoped>\n",
              "    .dataframe tbody tr th:only-of-type {\n",
              "        vertical-align: middle;\n",
              "    }\n",
              "\n",
              "    .dataframe tbody tr th {\n",
              "        vertical-align: top;\n",
              "    }\n",
              "\n",
              "    .dataframe thead th {\n",
              "        text-align: right;\n",
              "    }\n",
              "</style>\n",
              "<table border=\"1\" class=\"dataframe\">\n",
              "  <thead>\n",
              "    <tr style=\"text-align: right;\">\n",
              "      <th></th>\n",
              "      <th>Singer</th>\n",
              "      <th>Song Name</th>\n",
              "      <th>Lyrics</th>\n",
              "      <th>Midi File</th>\n",
              "    </tr>\n",
              "  </thead>\n",
              "  <tbody>\n",
              "    <tr>\n",
              "      <th>0</th>\n",
              "      <td>gerry rafferty</td>\n",
              "      <td>baker street</td>\n",
              "      <td>winding your way down on baker street &amp; lite i...</td>\n",
              "      <td>Gerry_Rafferty_-_Baker_Street.mid</td>\n",
              "    </tr>\n",
              "    <tr>\n",
              "      <th>1</th>\n",
              "      <td>gerry rafferty</td>\n",
              "      <td>right down the line</td>\n",
              "      <td>you know i need your love &amp; you've got that ho...</td>\n",
              "      <td>Gerry_Rafferty_-_Right_Down_the_Line.mid</td>\n",
              "    </tr>\n",
              "    <tr>\n",
              "      <th>2</th>\n",
              "      <td>2 unlimited</td>\n",
              "      <td>tribal dance</td>\n",
              "      <td>come on check it out ya'll &amp; (come on come on!...</td>\n",
              "      <td>2_Unlimited_-_Tribal_Dance.mid</td>\n",
              "    </tr>\n",
              "    <tr>\n",
              "      <th>3</th>\n",
              "      <td>2 unlimited</td>\n",
              "      <td>let the beat control your body</td>\n",
              "      <td>let the beat control your body &amp; let the beat ...</td>\n",
              "      <td>2_Unlimited_-_Let_the_Beat_Control_Your_Body.mid</td>\n",
              "    </tr>\n",
              "    <tr>\n",
              "      <th>4</th>\n",
              "      <td>2 unlimited</td>\n",
              "      <td>get ready for this</td>\n",
              "      <td>ya'll ready for this? &amp; get down with the styl...</td>\n",
              "      <td>2_Unlimited_-_Get_Ready_for_This.mid</td>\n",
              "    </tr>\n",
              "    <tr>\n",
              "      <th>...</th>\n",
              "      <td>...</td>\n",
              "      <td>...</td>\n",
              "      <td>...</td>\n",
              "      <td>...</td>\n",
              "    </tr>\n",
              "    <tr>\n",
              "      <th>594</th>\n",
              "      <td>don henley</td>\n",
              "      <td>dirty laundry</td>\n",
              "      <td>i make my living off the evening news &amp; just g...</td>\n",
              "      <td>Don_Henley_-_Dirty_Laundry.mid</td>\n",
              "    </tr>\n",
              "    <tr>\n",
              "      <th>595</th>\n",
              "      <td>don henley</td>\n",
              "      <td>new york minute</td>\n",
              "      <td>harry got up &amp; dressed all in black &amp; went dow...</td>\n",
              "      <td>Don_Henley_-_New_York_Minute.mid</td>\n",
              "    </tr>\n",
              "    <tr>\n",
              "      <th>596</th>\n",
              "      <td>bob dylan</td>\n",
              "      <td>subterranean homesick blues</td>\n",
              "      <td>johnny's in the basement &amp; mixing up the medic...</td>\n",
              "      <td>Bob_Dylan_-_Subterranean_Homesick_Blues.mid</td>\n",
              "    </tr>\n",
              "    <tr>\n",
              "      <th>597</th>\n",
              "      <td>goldfinger</td>\n",
              "      <td>mable</td>\n",
              "      <td>i met her sunday that was yesterday &amp; the girl...</td>\n",
              "      <td>Goldfinger_-_Mable.mid</td>\n",
              "    </tr>\n",
              "    <tr>\n",
              "      <th>598</th>\n",
              "      <td>dr dre</td>\n",
              "      <td>forgot about dre</td>\n",
              "      <td>y'all know me still the same o.g. but i been l...</td>\n",
              "      <td>Dr_Dre_-_Forgot_About_Dre.mid</td>\n",
              "    </tr>\n",
              "  </tbody>\n",
              "</table>\n",
              "<p>599 rows × 4 columns</p>\n",
              "</div>\n",
              "      <button class=\"colab-df-convert\" onclick=\"convertToInteractive('df-3a2add37-69e0-4852-b25b-fab4fea22881')\"\n",
              "              title=\"Convert this dataframe to an interactive table.\"\n",
              "              style=\"display:none;\">\n",
              "        \n",
              "  <svg xmlns=\"http://www.w3.org/2000/svg\" height=\"24px\"viewBox=\"0 0 24 24\"\n",
              "       width=\"24px\">\n",
              "    <path d=\"M0 0h24v24H0V0z\" fill=\"none\"/>\n",
              "    <path d=\"M18.56 5.44l.94 2.06.94-2.06 2.06-.94-2.06-.94-.94-2.06-.94 2.06-2.06.94zm-11 1L8.5 8.5l.94-2.06 2.06-.94-2.06-.94L8.5 2.5l-.94 2.06-2.06.94zm10 10l.94 2.06.94-2.06 2.06-.94-2.06-.94-.94-2.06-.94 2.06-2.06.94z\"/><path d=\"M17.41 7.96l-1.37-1.37c-.4-.4-.92-.59-1.43-.59-.52 0-1.04.2-1.43.59L10.3 9.45l-7.72 7.72c-.78.78-.78 2.05 0 2.83L4 21.41c.39.39.9.59 1.41.59.51 0 1.02-.2 1.41-.59l7.78-7.78 2.81-2.81c.8-.78.8-2.07 0-2.86zM5.41 20L4 18.59l7.72-7.72 1.47 1.35L5.41 20z\"/>\n",
              "  </svg>\n",
              "      </button>\n",
              "      \n",
              "  <style>\n",
              "    .colab-df-container {\n",
              "      display:flex;\n",
              "      flex-wrap:wrap;\n",
              "      gap: 12px;\n",
              "    }\n",
              "\n",
              "    .colab-df-convert {\n",
              "      background-color: #E8F0FE;\n",
              "      border: none;\n",
              "      border-radius: 50%;\n",
              "      cursor: pointer;\n",
              "      display: none;\n",
              "      fill: #1967D2;\n",
              "      height: 32px;\n",
              "      padding: 0 0 0 0;\n",
              "      width: 32px;\n",
              "    }\n",
              "\n",
              "    .colab-df-convert:hover {\n",
              "      background-color: #E2EBFA;\n",
              "      box-shadow: 0px 1px 2px rgba(60, 64, 67, 0.3), 0px 1px 3px 1px rgba(60, 64, 67, 0.15);\n",
              "      fill: #174EA6;\n",
              "    }\n",
              "\n",
              "    [theme=dark] .colab-df-convert {\n",
              "      background-color: #3B4455;\n",
              "      fill: #D2E3FC;\n",
              "    }\n",
              "\n",
              "    [theme=dark] .colab-df-convert:hover {\n",
              "      background-color: #434B5C;\n",
              "      box-shadow: 0px 1px 3px 1px rgba(0, 0, 0, 0.15);\n",
              "      filter: drop-shadow(0px 1px 2px rgba(0, 0, 0, 0.3));\n",
              "      fill: #FFFFFF;\n",
              "    }\n",
              "  </style>\n",
              "\n",
              "      <script>\n",
              "        const buttonEl =\n",
              "          document.querySelector('#df-3a2add37-69e0-4852-b25b-fab4fea22881 button.colab-df-convert');\n",
              "        buttonEl.style.display =\n",
              "          google.colab.kernel.accessAllowed ? 'block' : 'none';\n",
              "\n",
              "        async function convertToInteractive(key) {\n",
              "          const element = document.querySelector('#df-3a2add37-69e0-4852-b25b-fab4fea22881');\n",
              "          const dataTable =\n",
              "            await google.colab.kernel.invokeFunction('convertToInteractive',\n",
              "                                                     [key], {});\n",
              "          if (!dataTable) return;\n",
              "\n",
              "          const docLinkHtml = 'Like what you see? Visit the ' +\n",
              "            '<a target=\"_blank\" href=https://colab.research.google.com/notebooks/data_table.ipynb>data table notebook</a>'\n",
              "            + ' to learn more about interactive tables.';\n",
              "          element.innerHTML = '';\n",
              "          dataTable['output_type'] = 'display_data';\n",
              "          await google.colab.output.renderOutput(dataTable, element);\n",
              "          const docLink = document.createElement('div');\n",
              "          docLink.innerHTML = docLinkHtml;\n",
              "          element.appendChild(docLink);\n",
              "        }\n",
              "      </script>\n",
              "    </div>\n",
              "  </div>\n",
              "  "
            ]
          },
          "metadata": {},
          "execution_count": 6
        },
        {
          "output_type": "stream",
          "name": "stderr",
          "text": [
            "/usr/local/lib/python3.7/dist-packages/ipykernel_launcher.py:10: SettingWithCopyWarning: \n",
            "A value is trying to be set on a copy of a slice from a DataFrame.\n",
            "Try using .loc[row_indexer,col_indexer] = value instead\n",
            "\n",
            "See the caveats in the documentation: https://pandas.pydata.org/pandas-docs/stable/user_guide/indexing.html#returning-a-view-versus-a-copy\n",
            "  # Remove the CWD from sys.path while we load stuff.\n"
          ]
        }
      ]
    },
    {
      "cell_type": "code",
      "source": [
        "len(train_set['Singer'].value_counts())"
      ],
      "metadata": {
        "colab": {
          "base_uri": "https://localhost:8080/"
        },
        "id": "sByecnUH7WUe",
        "outputId": "e3bf87ec-a39d-4ff0-a93e-bf4101eba0ea"
      },
      "execution_count": null,
      "outputs": [
        {
          "output_type": "execute_result",
          "data": {
            "text/plain": [
              "225"
            ]
          },
          "metadata": {},
          "execution_count": 45
        }
      ]
    },
    {
      "cell_type": "code",
      "source": [
        "counts = dict(train_set['Singer'].value_counts())\n",
        "data_to_plot = pd.DataFrame((key, counts[key]) for key in counts.keys() if counts[key]>2)"
      ],
      "metadata": {
        "id": "b48b2dJa8GYP"
      },
      "execution_count": null,
      "outputs": []
    },
    {
      "cell_type": "code",
      "source": [
        "plt.figure(figsize=(25,7))\n",
        "\n",
        "\n",
        "sns.barplot(x=data_to_plot.iloc[:,0], y=data_to_plot.iloc[:,1])\n",
        "plt.margins(x=0, y=0)\n",
        "plt.xticks(fontsize=14, rotation=70)\n",
        "plt.xlabel('Singer')\n",
        "plt.ylabel('Number of songs')\n",
        "plt.show()"
      ],
      "metadata": {
        "colab": {
          "base_uri": "https://localhost:8080/",
          "height": 512
        },
        "id": "VRRo8Xqk0yrj",
        "outputId": "c9cac9cd-5153-42b2-9dd4-e1b522445968"
      },
      "execution_count": null,
      "outputs": [
        {
          "output_type": "display_data",
          "data": {
            "text/plain": [
              "<Figure size 1800x504 with 1 Axes>"
            ],
            "image/png": "[encoded data removed]"
          },
          "metadata": {
            "needs_background": "light"
          }
        }
      ]
    },
    {
      "cell_type": "markdown",
      "source": [
        "# Preprocess data"
      ],
      "metadata": {
        "id": "AJIvrELJB6Gq"
      }
    },
    {
      "cell_type": "markdown",
      "source": [
        "### General preprocessing- cleaning the MIDI and Lyrics data"
      ],
      "metadata": {
        "id": "3-1shDHG0gan"
      }
    },
    {
      "cell_type": "code",
      "source": [
        "def remove_corrupted_midi_files(data):\n",
        "  corrupted_idx = []\n",
        "  for i, midi in enumerate(data['Midi File']):\n",
        "      try:\n",
        "          midi = pretty_midi.PrettyMIDI(midis_path+ midi)\n",
        "          midi.remove_invalid_notes()\n",
        "      except:\n",
        "          corrupted_idx.append(i)\n",
        "\n",
        "  return data.drop(index=corrupted_idx)\n",
        "\n",
        "print(\"shape before removing corrupted files: \", train_set.shape)\n",
        "train_set = remove_corrupted_midi_files(train_set)\n",
        "print(\"shape after removing corrupted files: \", train_set.shape)\n",
        "test_set = remove_corrupted_midi_files(test_set)"
      ],
      "metadata": {
        "colab": {
          "base_uri": "https://localhost:8080/"
        },
        "id": "fLG_XJ_Mm9KG",
        "outputId": "96a6656d-101c-41e2-ae99-f1e1349e9a2b"
      },
      "execution_count": null,
      "outputs": [
        {
          "output_type": "stream",
          "name": "stdout",
          "text": [
            "shape before removing corrupted files:  (599, 5)\n"
          ]
        },
        {
          "output_type": "stream",
          "name": "stderr",
          "text": [
            "/usr/local/lib/python3.7/dist-packages/pretty_midi/pretty_midi.py:101: RuntimeWarning: Tempo, Key or Time signature change events found on non-zero tracks.  This is not a valid type 0 or type 1 MIDI file.  Tempo, Key or Time Signature may be wrong.\n",
            "  RuntimeWarning)\n"
          ]
        },
        {
          "output_type": "stream",
          "name": "stdout",
          "text": [
            "shape after removing corrupted files:  (589, 5)\n"
          ]
        }
      ]
    },
    {
      "cell_type": "markdown",
      "source": [
        "### Preprocess lyrics & W2V embeddings"
      ],
      "metadata": {
        "id": "jsXnv7u1B85M"
      }
    },
    {
      "cell_type": "code",
      "source": [
        "train_set.iloc[10][\"Lyrics\"]"
      ],
      "metadata": {
        "colab": {
          "base_uri": "https://localhost:8080/",
          "height": 110
        },
        "id": "cnDC6XClApAJ",
        "outputId": "287661cd-1e35-4e1b-f909-5290078e16c1"
      },
      "execution_count": null,
      "outputs": [
        {
          "output_type": "execute_result",
          "data": {
            "text/plain": [
              "\"it's not time to make a change   & just relax take it easy   & you're still young that's your fault   & there's so much you have to know   & find a girl settle down   & if you want you can marry   & look at me i am old but i'm happy   &    & i was once like you are now   & and i know that it's not easy   & to be calm when you've found   & something going on   & but take your time think a lot   & think of everything you've got   & for you will still be here tomorrow   & but your dreams may not   &    & how can i try to explain?   & when i do he turns away again   & it's always been the same same old story   & from the moment i could talk   & i was ordered to listen   & now there's a way   & and i know that i have to go away   & i know i have to go   &    & it's not time to make a change   & just sit down take it slowly   & you're still young that's your fault   & there's so much you have to go through   & find a girl settle down   & if you want you can marry   & look at me i am old but i'm happy   &    & all the times that i've cried   & keeping all the things i knew inside   & it's hard but it's harder to ignore it   & if they were right i'd agree   & but it's them they know not me   & now there's a way   & and i know that i have to go away   & i know i have to go &  &  &cat stevens\""
            ],
            "application/vnd.google.colaboratory.intrinsic+json": {
              "type": "string"
            }
          },
          "metadata": {},
          "execution_count": 8
        }
      ]
    },
    {
      "cell_type": "code",
      "source": [
        "END_SENTENCE_TOKEN = '&'\n",
        "END_SONG_TOKEN = '~'\n",
        "\n",
        "def pretty_lyrics(tokenized_string):\n",
        "    for token in tokenized_string:\n",
        "        if token == END_SENTENCE_TOKEN:\n",
        "            print('\\n')\n",
        "        else:\n",
        "            print(token, end='')\n",
        "\n",
        "pretty_lyrics(train_set.iloc[10][\"Lyrics\"])"
      ],
      "metadata": {
        "colab": {
          "base_uri": "https://localhost:8080/"
        },
        "id": "aRQXboKFBI0K",
        "outputId": "ae60baa5-fe11-4e85-9dbc-24105674e1f6"
      },
      "execution_count": null,
      "outputs": [
        {
          "output_type": "stream",
          "name": "stdout",
          "text": [
            "it's not time to make a change   \n",
            "\n",
            " just relax take it easy   \n",
            "\n",
            " you're still young that's your fault   \n",
            "\n",
            " there's so much you have to know   \n",
            "\n",
            " find a girl settle down   \n",
            "\n",
            " if you want you can marry   \n",
            "\n",
            " look at me i am old but i'm happy   \n",
            "\n",
            "    \n",
            "\n",
            " i was once like you are now   \n",
            "\n",
            " and i know that it's not easy   \n",
            "\n",
            " to be calm when you've found   \n",
            "\n",
            " something going on   \n",
            "\n",
            " but take your time think a lot   \n",
            "\n",
            " think of everything you've got   \n",
            "\n",
            " for you will still be here tomorrow   \n",
            "\n",
            " but your dreams may not   \n",
            "\n",
            "    \n",
            "\n",
            " how can i try to explain?   \n",
            "\n",
            " when i do he turns away again   \n",
            "\n",
            " it's always been the same same old story   \n",
            "\n",
            " from the moment i could talk   \n",
            "\n",
            " i was ordered to listen   \n",
            "\n",
            " now there's a way   \n",
            "\n",
            " and i know that i have to go away   \n",
            "\n",
            " i know i have to go   \n",
            "\n",
            "    \n",
            "\n",
            " it's not time to make a change   \n",
            "\n",
            " just sit down take it slowly   \n",
            "\n",
            " you're still young that's your fault   \n",
            "\n",
            " there's so much you have to go through   \n",
            "\n",
            " find a girl settle down   \n",
            "\n",
            " if you want you can marry   \n",
            "\n",
            " look at me i am old but i'm happy   \n",
            "\n",
            "    \n",
            "\n",
            " all the times that i've cried   \n",
            "\n",
            " keeping all the things i knew inside   \n",
            "\n",
            " it's hard but it's harder to ignore it   \n",
            "\n",
            " if they were right i'd agree   \n",
            "\n",
            " but it's them they know not me   \n",
            "\n",
            " now there's a way   \n",
            "\n",
            " and i know that i have to go away   \n",
            "\n",
            " i know i have to go \n",
            "\n",
            "  \n",
            "\n",
            "  \n",
            "\n",
            "cat stevens"
          ]
        }
      ]
    },
    {
      "cell_type": "code",
      "source": [
        "def expend_contractions(word):\n",
        "  return contractions.fix(word)\n",
        "\n",
        "def tokenize_word(word):\n",
        "  return word_tokenize(word)\n",
        "\n",
        "def preprocess_word(word):\n",
        "  word = expend_contractions(word)\n",
        "  word = tokenize_word(word)\n",
        "  return word\n",
        "\n",
        "# tokenize each song while removing stopwords and checking the length\n",
        "def tokenize_lyrics(df):\n",
        "  return [[word for word in preprocess_word(d.lower()) if word not in punctuation and len(word)>=1] for d in df['Lyrics']]\n",
        "\n",
        "lyrics_list = tokenize_lyrics(train_set.iloc[10:11])\n",
        "pretty_lyrics(\" \".join(lyrics_list[0]))"
      ],
      "metadata": {
        "colab": {
          "base_uri": "https://localhost:8080/"
        },
        "id": "A7COdJt01eK-",
        "outputId": "521bf58b-3a94-461e-d620-b65e30542d2d"
      },
      "execution_count": null,
      "outputs": [
        {
          "output_type": "stream",
          "name": "stdout",
          "text": [
            "it is not time to make a change \n",
            "\n",
            " just relax take it easy \n",
            "\n",
            " you are still young that is your fault \n",
            "\n",
            " there is so much you have to know \n",
            "\n",
            " find a girl settle down \n",
            "\n",
            " if you want you can marry \n",
            "\n",
            " look at me i am old but i am happy \n",
            "\n",
            " \n",
            "\n",
            " i was once like you are now \n",
            "\n",
            " and i know that it is not easy \n",
            "\n",
            " to be calm when you have found \n",
            "\n",
            " something going on \n",
            "\n",
            " but take your time think a lot \n",
            "\n",
            " think of everything you have got \n",
            "\n",
            " for you will still be here tomorrow \n",
            "\n",
            " but your dreams may not \n",
            "\n",
            " \n",
            "\n",
            " how can i try to explain \n",
            "\n",
            " when i do he turns away again \n",
            "\n",
            " it is always been the same same old story \n",
            "\n",
            " from the moment i could talk \n",
            "\n",
            " i was ordered to listen \n",
            "\n",
            " now there is a way \n",
            "\n",
            " and i know that i have to go away \n",
            "\n",
            " i know i have to go \n",
            "\n",
            " \n",
            "\n",
            " it is not time to make a change \n",
            "\n",
            " just sit down take it slowly \n",
            "\n",
            " you are still young that is your fault \n",
            "\n",
            " there is so much you have to go through \n",
            "\n",
            " find a girl settle down \n",
            "\n",
            " if you want you can marry \n",
            "\n",
            " look at me i am old but i am happy \n",
            "\n",
            " \n",
            "\n",
            " all the times that i have cried \n",
            "\n",
            " keeping all the things i knew inside \n",
            "\n",
            " it is hard but it is harder to ignore it \n",
            "\n",
            " if they were right i would agree \n",
            "\n",
            " but it is them they know not me \n",
            "\n",
            " now there is a way \n",
            "\n",
            " and i know that i have to go away \n",
            "\n",
            " i know i have to go \n",
            "\n",
            " \n",
            "\n",
            " \n",
            "\n",
            " cat stevens"
          ]
        }
      ]
    },
    {
      "cell_type": "code",
      "source": [
        "tokenized_lyrics_train = tokenize_lyrics(train_set)\n",
        "tokenized_lyrics_test = tokenize_lyrics(test_set)\n",
        "\n",
        "train_set['tokenized_lyrics'] = tokenized_lyrics_train\n",
        "test_set['tokenized_lyrics'] = tokenized_lyrics_test\n",
        "tokenized_lyrics = tokenized_lyrics_train + tokenized_lyrics_test\n",
        "\n",
        "flat_tokenized_lyrics = [x for xs in tokenized_lyrics  for x in xs]\n",
        "unique_tokwns = Counter(flat_tokenized_lyrics).keys()\n",
        "num_of_words = len(unique_tokwns)\n",
        "num_of_words"
      ],
      "metadata": {
        "colab": {
          "base_uri": "https://localhost:8080/"
        },
        "id": "fmf_cNQbVCmY",
        "outputId": "45280f79-ad9e-41a1-e888-08f54e5482e5"
      },
      "execution_count": null,
      "outputs": [
        {
          "output_type": "execute_result",
          "data": {
            "text/plain": [
              "7451"
            ]
          },
          "metadata": {},
          "execution_count": 77
        }
      ]
    },
    {
      "cell_type": "code",
      "source": [
        "num_of_words_in_song = [len(x) for x in train_set['tokenized_lyrics']]\n",
        "print('The mean number of words in song: ', np.mean(num_of_words_in_song))\n",
        "train_set['number of words'] = num_of_words_in_song\n",
        "sorted = train_set.sort_values(['number of words'], ascending=False)\n",
        "# mean word count per singer for the top 20\n",
        "\n",
        "groups = sorted.groupby('Singer')[list(['Singer', 'number of words'])]\n",
        "# groups.aggregate('number of words')\n",
        "count, means, singer = [], [], []\n",
        "for key in groups.keys:\n",
        "  group = groups.get_group(key)\n",
        "  singer.append(key)\n",
        "  count.append(len(group['number of words']))\n",
        "  means.append(np.mean(group['number of words']))\n",
        "\n",
        "df = pd.DataFrame()\n",
        "df['singer'] = singer\n",
        "df['num_songs'] = count\n",
        "df['mean_word_count'] = means\n",
        "df_to_plot = df.sort_values(['num_songs', 'mean_word_count'], ascending=False).iloc[:20,:]"
      ],
      "metadata": {
        "colab": {
          "base_uri": "https://localhost:8080/"
        },
        "id": "tHBsnY1GJ6ZO",
        "outputId": "bc78522d-1230-42fe-a3dd-1e15cd95fa11"
      },
      "execution_count": null,
      "outputs": [
        {
          "output_type": "stream",
          "name": "stdout",
          "text": [
            "The mean number of words in song:  314.3939899833055\n"
          ]
        }
      ]
    },
    {
      "cell_type": "code",
      "source": [
        "plt.figure(figsize=(25,7))\n",
        "\n",
        "\n",
        "sns.barplot(x=df_to_plot['singer'], y=df_to_plot['mean_word_count'])\n",
        "plt.margins(x=0, y=0)\n",
        "plt.xticks(fontsize=14, rotation=70)\n",
        "plt.axhline(y=314, color='r', linestyle='--')\n",
        "plt.xlabel('Singer')\n",
        "plt.ylabel('Mean number of words')\n",
        "plt.show()"
      ],
      "metadata": {
        "colab": {
          "base_uri": "https://localhost:8080/",
          "height": 506
        },
        "id": "Vr2OOglWQQpj",
        "outputId": "2ba19f2f-62ab-4528-bbcd-d8025e9053b7"
      },
      "execution_count": null,
      "outputs": [
        {
          "output_type": "display_data",
          "data": {
            "text/plain": [
              "<Figure size 1800x504 with 1 Axes>"
            ],
            "image/png": "[encoded data removed]"
          },
          "metadata": {
            "needs_background": "light"
          }
        }
      ]
    },
    {
      "cell_type": "code",
      "source": [
        "# lyrics preprocess\n",
        "# work with word2vec!!\n",
        "def get_embeddings_column(tokenized_lyrics_data):\n",
        "  return np.array([np.array([w2v_model.wv[word] for word in x]) for x in tokenized_lyrics_data])\n",
        "\n",
        "\n",
        "w2v_model = Word2Vec(tokenized_lyrics, min_count = 1,size = w2v_size, window = 5)\n",
        "train_set['embeddins'] = get_embeddings_column(tokenized_lyrics_train)\n",
        "test_set['embeddins'] = get_embeddings_column(tokenized_lyrics_test)"
      ],
      "metadata": {
        "id": "nAYzE3r5-sQm"
      },
      "execution_count": null,
      "outputs": []
    },
    {
      "cell_type": "code",
      "source": [
        "# create embeddings matrix\n",
        "def get_embedding_matrix(num_of_words, w2v_size):\n",
        "  embedding_matrix = (np.random.rand(num_of_words+1, w2v_size) - 0.5) / 5.0\n",
        "  for i, word in enumerate(unique_tokwns):\n",
        "    emb = w2v_model.wv[word]\n",
        "    embedding_matrix[i] = emb\n",
        "  return embedding_matrix\n",
        "\n",
        "embedding_matrix = get_embedding_matrix(num_of_words, w2v_size)\n",
        "embedding_matrix.shape"
      ],
      "metadata": {
        "colab": {
          "base_uri": "https://localhost:8080/"
        },
        "id": "OcF7P88aV7Vq",
        "outputId": "af203558-1088-4a71-d128-c6d5ed6e16a1"
      },
      "execution_count": null,
      "outputs": [
        {
          "output_type": "execute_result",
          "data": {
            "text/plain": [
              "(7388, 300)"
            ]
          },
          "metadata": {},
          "execution_count": 10
        }
      ]
    },
    {
      "cell_type": "code",
      "source": [
        "train_set.head(5)"
      ],
      "metadata": {
        "colab": {
          "base_uri": "https://localhost:8080/",
          "height": 337
        },
        "id": "B9VFDhq4EO1t",
        "outputId": "61be9c9e-f1d9-49f2-9a16-a3a56af6699c"
      },
      "execution_count": null,
      "outputs": [
        {
          "output_type": "execute_result",
          "data": {
            "text/plain": [
              "           Singer                       Song Name  \\\n",
              "0  gerry rafferty                    baker street   \n",
              "1  gerry rafferty             right down the line   \n",
              "2     2 unlimited                    tribal dance   \n",
              "3     2 unlimited  let the beat control your body   \n",
              "4     2 unlimited              get ready for this   \n",
              "\n",
              "                                              Lyrics  \\\n",
              "0  winding your way down on baker street & lite i...   \n",
              "1  you know i need your love & you've got that ho...   \n",
              "2  come on check it out ya'll & (come on come on!...   \n",
              "3  let the beat control your body & let the beat ...   \n",
              "4  ya'll ready for this? & get down with the styl...   \n",
              "\n",
              "                                          Midi File  \\\n",
              "0                 Gerry_Rafferty_-_Baker_Street.mid   \n",
              "1          Gerry_Rafferty_-_Right_Down_the_Line.mid   \n",
              "2                    2_Unlimited_-_Tribal_Dance.mid   \n",
              "3  2_Unlimited_-_Let_the_Beat_Control_Your_Body.mid   \n",
              "4              2_Unlimited_-_Get_Ready_for_This.mid   \n",
              "\n",
              "                                    tokenized_lyrics  \\\n",
              "0  [winding, your, way, down, on, baker, street, ...   \n",
              "1  [you, know, i, need, your, love, &, you, have,...   \n",
              "2  [come, on, check, it, out, ya, 'll, &, come, o...   \n",
              "3  [let, the, beat, control, your, body, &, let, ...   \n",
              "4  [ya, 'll, ready, for, this, &, get, down, with...   \n",
              "\n",
              "                                           embeddins  \\\n",
              "0  [[-0.00053944316, -0.00060706004, 0.0015062637...   \n",
              "1  [[-0.13446623, -0.18740807, 0.2537194, -0.2647...   \n",
              "2  [[-0.06541794, -0.09218886, 0.12340695, -0.128...   \n",
              "3  [[-0.06634802, -0.09372027, 0.12463354, -0.132...   \n",
              "4  [[-0.012272625, -0.016389882, 0.021699335, -0....   \n",
              "\n",
              "                                         full_melody  \n",
              "0  [0.0, 0.0, 0.0, 0.0, 0.0, 0.0, 0.0, 0.0, 0.0, ...  \n",
              "1  [0.0, 0.0, 0.0, 0.0, 0.0, 0.0, 0.0, 0.0, 0.0, ...  \n",
              "2  [0.0, 0.0, 0.0, 0.0, 0.0, 0.0, 0.0, 0.0, 0.0, ...  \n",
              "3  [0.0, 0.0, 0.0, 0.0, 0.0, 0.0, 0.0, 0.0, 0.0, ...  \n",
              "4  [0.0, 0.0, 0.0, 0.0, 0.0, 0.0, 0.0, 0.0, 0.0, ...  "
            ],
            "text/html": [
              "\n",
              "  <div id=\"df-8f337514-3fec-4623-ad73-716d6a312009\">\n",
              "    <div class=\"colab-df-container\">\n",
              "      <div>\n",
              "<style scoped>\n",
              "    .dataframe tbody tr th:only-of-type {\n",
              "        vertical-align: middle;\n",
              "    }\n",
              "\n",
              "    .dataframe tbody tr th {\n",
              "        vertical-align: top;\n",
              "    }\n",
              "\n",
              "    .dataframe thead th {\n",
              "        text-align: right;\n",
              "    }\n",
              "</style>\n",
              "<table border=\"1\" class=\"dataframe\">\n",
              "  <thead>\n",
              "    <tr style=\"text-align: right;\">\n",
              "      <th></th>\n",
              "      <th>Singer</th>\n",
              "      <th>Song Name</th>\n",
              "      <th>Lyrics</th>\n",
              "      <th>Midi File</th>\n",
              "      <th>tokenized_lyrics</th>\n",
              "      <th>embeddins</th>\n",
              "      <th>full_melody</th>\n",
              "    </tr>\n",
              "  </thead>\n",
              "  <tbody>\n",
              "    <tr>\n",
              "      <th>0</th>\n",
              "      <td>gerry rafferty</td>\n",
              "      <td>baker street</td>\n",
              "      <td>winding your way down on baker street &amp; lite i...</td>\n",
              "      <td>Gerry_Rafferty_-_Baker_Street.mid</td>\n",
              "      <td>[winding, your, way, down, on, baker, street, ...</td>\n",
              "      <td>[[-0.00053944316, -0.00060706004, 0.0015062637...</td>\n",
              "      <td>[0.0, 0.0, 0.0, 0.0, 0.0, 0.0, 0.0, 0.0, 0.0, ...</td>\n",
              "    </tr>\n",
              "    <tr>\n",
              "      <th>1</th>\n",
              "      <td>gerry rafferty</td>\n",
              "      <td>right down the line</td>\n",
              "      <td>you know i need your love &amp; you've got that ho...</td>\n",
              "      <td>Gerry_Rafferty_-_Right_Down_the_Line.mid</td>\n",
              "      <td>[you, know, i, need, your, love, &amp;, you, have,...</td>\n",
              "      <td>[[-0.13446623, -0.18740807, 0.2537194, -0.2647...</td>\n",
              "      <td>[0.0, 0.0, 0.0, 0.0, 0.0, 0.0, 0.0, 0.0, 0.0, ...</td>\n",
              "    </tr>\n",
              "    <tr>\n",
              "      <th>2</th>\n",
              "      <td>2 unlimited</td>\n",
              "      <td>tribal dance</td>\n",
              "      <td>come on check it out ya'll &amp; (come on come on!...</td>\n",
              "      <td>2_Unlimited_-_Tribal_Dance.mid</td>\n",
              "      <td>[come, on, check, it, out, ya, 'll, &amp;, come, o...</td>\n",
              "      <td>[[-0.06541794, -0.09218886, 0.12340695, -0.128...</td>\n",
              "      <td>[0.0, 0.0, 0.0, 0.0, 0.0, 0.0, 0.0, 0.0, 0.0, ...</td>\n",
              "    </tr>\n",
              "    <tr>\n",
              "      <th>3</th>\n",
              "      <td>2 unlimited</td>\n",
              "      <td>let the beat control your body</td>\n",
              "      <td>let the beat control your body &amp; let the beat ...</td>\n",
              "      <td>2_Unlimited_-_Let_the_Beat_Control_Your_Body.mid</td>\n",
              "      <td>[let, the, beat, control, your, body, &amp;, let, ...</td>\n",
              "      <td>[[-0.06634802, -0.09372027, 0.12463354, -0.132...</td>\n",
              "      <td>[0.0, 0.0, 0.0, 0.0, 0.0, 0.0, 0.0, 0.0, 0.0, ...</td>\n",
              "    </tr>\n",
              "    <tr>\n",
              "      <th>4</th>\n",
              "      <td>2 unlimited</td>\n",
              "      <td>get ready for this</td>\n",
              "      <td>ya'll ready for this? &amp; get down with the styl...</td>\n",
              "      <td>2_Unlimited_-_Get_Ready_for_This.mid</td>\n",
              "      <td>[ya, 'll, ready, for, this, &amp;, get, down, with...</td>\n",
              "      <td>[[-0.012272625, -0.016389882, 0.021699335, -0....</td>\n",
              "      <td>[0.0, 0.0, 0.0, 0.0, 0.0, 0.0, 0.0, 0.0, 0.0, ...</td>\n",
              "    </tr>\n",
              "  </tbody>\n",
              "</table>\n",
              "</div>\n",
              "      <button class=\"colab-df-convert\" onclick=\"convertToInteractive('df-8f337514-3fec-4623-ad73-716d6a312009')\"\n",
              "              title=\"Convert this dataframe to an interactive table.\"\n",
              "              style=\"display:none;\">\n",
              "        \n",
              "  <svg xmlns=\"http://www.w3.org/2000/svg\" height=\"24px\"viewBox=\"0 0 24 24\"\n",
              "       width=\"24px\">\n",
              "    <path d=\"M0 0h24v24H0V0z\" fill=\"none\"/>\n",
              "    <path d=\"M18.56 5.44l.94 2.06.94-2.06 2.06-.94-2.06-.94-.94-2.06-.94 2.06-2.06.94zm-11 1L8.5 8.5l.94-2.06 2.06-.94-2.06-.94L8.5 2.5l-.94 2.06-2.06.94zm10 10l.94 2.06.94-2.06 2.06-.94-2.06-.94-.94-2.06-.94 2.06-2.06.94z\"/><path d=\"M17.41 7.96l-1.37-1.37c-.4-.4-.92-.59-1.43-.59-.52 0-1.04.2-1.43.59L10.3 9.45l-7.72 7.72c-.78.78-.78 2.05 0 2.83L4 21.41c.39.39.9.59 1.41.59.51 0 1.02-.2 1.41-.59l7.78-7.78 2.81-2.81c.8-.78.8-2.07 0-2.86zM5.41 20L4 18.59l7.72-7.72 1.47 1.35L5.41 20z\"/>\n",
              "  </svg>\n",
              "      </button>\n",
              "      \n",
              "  <style>\n",
              "    .colab-df-container {\n",
              "      display:flex;\n",
              "      flex-wrap:wrap;\n",
              "      gap: 12px;\n",
              "    }\n",
              "\n",
              "    .colab-df-convert {\n",
              "      background-color: #E8F0FE;\n",
              "      border: none;\n",
              "      border-radius: 50%;\n",
              "      cursor: pointer;\n",
              "      display: none;\n",
              "      fill: #1967D2;\n",
              "      height: 32px;\n",
              "      padding: 0 0 0 0;\n",
              "      width: 32px;\n",
              "    }\n",
              "\n",
              "    .colab-df-convert:hover {\n",
              "      background-color: #E2EBFA;\n",
              "      box-shadow: 0px 1px 2px rgba(60, 64, 67, 0.3), 0px 1px 3px 1px rgba(60, 64, 67, 0.15);\n",
              "      fill: #174EA6;\n",
              "    }\n",
              "\n",
              "    [theme=dark] .colab-df-convert {\n",
              "      background-color: #3B4455;\n",
              "      fill: #D2E3FC;\n",
              "    }\n",
              "\n",
              "    [theme=dark] .colab-df-convert:hover {\n",
              "      background-color: #434B5C;\n",
              "      box-shadow: 0px 1px 3px 1px rgba(0, 0, 0, 0.15);\n",
              "      filter: drop-shadow(0px 1px 2px rgba(0, 0, 0, 0.3));\n",
              "      fill: #FFFFFF;\n",
              "    }\n",
              "  </style>\n",
              "\n",
              "      <script>\n",
              "        const buttonEl =\n",
              "          document.querySelector('#df-8f337514-3fec-4623-ad73-716d6a312009 button.colab-df-convert');\n",
              "        buttonEl.style.display =\n",
              "          google.colab.kernel.accessAllowed ? 'block' : 'none';\n",
              "\n",
              "        async function convertToInteractive(key) {\n",
              "          const element = document.querySelector('#df-8f337514-3fec-4623-ad73-716d6a312009');\n",
              "          const dataTable =\n",
              "            await google.colab.kernel.invokeFunction('convertToInteractive',\n",
              "                                                     [key], {});\n",
              "          if (!dataTable) return;\n",
              "\n",
              "          const docLinkHtml = 'Like what you see? Visit the ' +\n",
              "            '<a target=\"_blank\" href=https://colab.research.google.com/notebooks/data_table.ipynb>data table notebook</a>'\n",
              "            + ' to learn more about interactive tables.';\n",
              "          element.innerHTML = '';\n",
              "          dataTable['output_type'] = 'display_data';\n",
              "          await google.colab.output.renderOutput(dataTable, element);\n",
              "          const docLink = document.createElement('div');\n",
              "          docLink.innerHTML = docLinkHtml;\n",
              "          element.appendChild(docLink);\n",
              "        }\n",
              "      </script>\n",
              "    </div>\n",
              "  </div>\n",
              "  "
            ]
          },
          "metadata": {},
          "execution_count": 544
        }
      ]
    },
    {
      "cell_type": "markdown",
      "source": [
        "### Preprocess Melodies (MIDI data)"
      ],
      "metadata": {
        "id": "k7pgtWLIDB2I"
      }
    },
    {
      "cell_type": "code",
      "source": [
        "midi_data = pretty_midi.PrettyMIDI(midis_path+train_set['Midi File'][2])\n",
        "midi_data"
      ],
      "metadata": {
        "colab": {
          "base_uri": "https://localhost:8080/"
        },
        "id": "nl1pf-I2FA2A",
        "outputId": "f78f3f03-1b45-4880-8a24-b53488539787"
      },
      "execution_count": null,
      "outputs": [
        {
          "output_type": "execute_result",
          "data": {
            "text/plain": [
              "<pretty_midi.pretty_midi.PrettyMIDI at 0x7f2834304ed0>"
            ]
          },
          "metadata": {},
          "execution_count": 16
        }
      ]
    },
    {
      "cell_type": "code",
      "source": [
        "midi_data.estimate_tempo(), midi_data.get_tempo_changes()"
      ],
      "metadata": {
        "colab": {
          "base_uri": "https://localhost:8080/"
        },
        "id": "VYevd6DCFt4f",
        "outputId": "eb0cb512-fd81-423b-e5a5-efe5df491ac5"
      },
      "execution_count": null,
      "outputs": [
        {
          "output_type": "execute_result",
          "data": {
            "text/plain": [
              "(257.1263568331014, (array([0.]), array([130.00013])))"
            ]
          },
          "metadata": {},
          "execution_count": 37
        }
      ]
    },
    {
      "cell_type": "code",
      "source": [
        "midi_data.get_beats().shape"
      ],
      "metadata": {
        "colab": {
          "base_uri": "https://localhost:8080/"
        },
        "id": "swBqdnJbF6zK",
        "outputId": "95c45516-37e5-4904-89f1-8044155f726a"
      },
      "execution_count": null,
      "outputs": [
        {
          "output_type": "execute_result",
          "data": {
            "text/plain": [
              "(478,)"
            ]
          },
          "metadata": {},
          "execution_count": 40
        }
      ]
    },
    {
      "cell_type": "code",
      "source": [
        "midi_data.instruments"
      ],
      "metadata": {
        "colab": {
          "base_uri": "https://localhost:8080/"
        },
        "id": "czadGE5sjohv",
        "outputId": "e9a6b779-3fd6-4bc0-9e92-36c968d9a369"
      },
      "execution_count": null,
      "outputs": [
        {
          "output_type": "execute_result",
          "data": {
            "text/plain": [
              "[Instrument(program=65, is_drum=False, name=\"ALTO SAX\"),\n",
              " Instrument(program=33, is_drum=False, name=\"FINGERDBA\"),\n",
              " Instrument(program=38, is_drum=False, name=\"SYN BASS \"),\n",
              " Instrument(program=0, is_drum=False, name=\"A.PIANO 1\"),\n",
              " Instrument(program=52, is_drum=False, name=\"CHOIR AAH\"),\n",
              " Instrument(program=49, is_drum=False, name=\"SLOWSTRIN\"),\n",
              " Instrument(program=29, is_drum=False, name=\"OVERDRIVE\"),\n",
              " Instrument(program=55, is_drum=False, name=\"ORCH HIT\"),\n",
              " Instrument(program=47, is_drum=False, name=\"TIMPANI\"),\n",
              " Instrument(program=0, is_drum=True, name=\"DRUMS\"),\n",
              " Instrument(program=119, is_drum=False, name=\"REVERSCYM\")]"
            ]
          },
          "metadata": {},
          "execution_count": 24
        }
      ]
    },
    {
      "cell_type": "markdown",
      "source": [
        "visualize the MIDI file via a piano roll, which is a time-frequency matrix where each row is a different MIDI pitch and each column is a different slice in time. pretty_midi can produce piano roll matrices for each indivual instrument (via Instrument.get_piano_roll) or the entire PrettyMIDI object (summed across instruments, via PrettyMIDI.get_piano_roll). The spacing in time between subsequent columns of the matrix is determined by the fs parameter."
      ],
      "metadata": {
        "id": "gtWbshIemGd_"
      }
    },
    {
      "cell_type": "code",
      "source": [
        "import librosa.display\n",
        "\n",
        "def plot_piano_roll(pm, start_pitch, end_pitch, fs=100):\n",
        "    # Use librosa's specshow function for displaying the piano roll\n",
        "    librosa.display.specshow(pm.get_piano_roll(fs)[start_pitch:end_pitch],\n",
        "                             hop_length=1, sr=fs, x_axis='time', y_axis='cqt_note',\n",
        "                             fmin=pretty_midi.note_number_to_hz(start_pitch))\n",
        "\n",
        "plot_piano_roll(midi_data, 56, 70)\n"
      ],
      "metadata": {
        "colab": {
          "base_uri": "https://localhost:8080/",
          "height": 314
        },
        "id": "XFK8weMzlzuU",
        "outputId": "1f1cba08-eecb-4f99-b386-bf049b826b69"
      },
      "execution_count": null,
      "outputs": [
        {
          "output_type": "stream",
          "name": "stderr",
          "text": [
            "/usr/local/lib/python3.7/dist-packages/librosa/display.py:1336: UserWarning: Frequency axis exceeds Nyquist. Did you remember to set all spectrogram parameters in specshow?\n",
            "  \"Frequency axis exceeds Nyquist. \"\n"
          ]
        },
        {
          "output_type": "display_data",
          "data": {
            "text/plain": [
              "<Figure size 432x288 with 1 Axes>"
            ],
            "image/png": "[encoded data removed]"
          },
          "metadata": {
            "needs_background": "light"
          }
        }
      ]
    },
    {
      "cell_type": "code",
      "source": [
        "def get_midis_info(data):\n",
        "  frames_len = []\n",
        "  max_notes_values = []\n",
        "\n",
        "  for midi in data['Midi File'].values:\n",
        "      pm = pretty_midi.PrettyMIDI(midis_path+ midi)\n",
        "      pm.remove_invalid_notes()\n",
        "\n",
        "      piano_roll = pm.get_piano_roll(fs=fs)\n",
        "      if piano_roll.shape[1]:\n",
        "          frames_n = piano_roll.shape[1]\n",
        "          frames_len.append(frames_n)\n",
        "\n",
        "      for inst in pm.instruments:\n",
        "          piano_roll = inst.get_piano_roll(fs=fs)\n",
        "          if piano_roll.shape[1]:\n",
        "              max_note = piano_roll.max()\n",
        "              max_notes_values.append(max_note)\n",
        "\n",
        "  max_note = max(max_notes_values)\n",
        "  min_length = min(frames_len)\n",
        "  max_length = max(frames_len)\n",
        "  mean_length = mean(frames_len)\n",
        "\n",
        "  return [max_note, min_length, max_length, mean_length]\n",
        "\n",
        "\n",
        "max_note, min_length, max_length, mean_length = get_midis_info(train_set)\n",
        "\n",
        "print(f'maximum note value is {max_note}')\n",
        "print(f'minimum song length is {min_length}')\n",
        "print(f'maximum song length is {max_length}')\n",
        "print(f'average song length is {mean_length}')"
      ],
      "metadata": {
        "colab": {
          "base_uri": "https://localhost:8080/"
        },
        "id": "-GHJ3DfrkPx1",
        "outputId": "26183715-e527-4205-d63e-07ebacfe0d39"
      },
      "execution_count": null,
      "outputs": [
        {
          "output_type": "stream",
          "name": "stderr",
          "text": [
            "/usr/local/lib/python3.7/dist-packages/pretty_midi/pretty_midi.py:101: RuntimeWarning: Tempo, Key or Time signature change events found on non-zero tracks.  This is not a valid type 0 or type 1 MIDI file.  Tempo, Key or Time Signature may be wrong.\n",
            "  RuntimeWarning)\n"
          ]
        },
        {
          "output_type": "stream",
          "name": "stdout",
          "text": [
            "maximum note value is 762.0\n",
            "minimum song length is 297\n",
            "maximum song length is 3006\n",
            "average song length is 1136.8505942275042\n"
          ]
        }
      ]
    },
    {
      "cell_type": "code",
      "source": [
        "def preprocess_melody_file(midi_path, midi_name, max_piano_note, fs=5):\n",
        "    \"\"\"create a single vectore that reprersents the entire melody\"\"\"\n",
        "    pm = pretty_midi.PrettyMIDI(midi_path + midi_name)\n",
        "    pm.remove_invalid_notes()\n",
        "    \n",
        "    # get notes from all instruments\n",
        "    piano_all = pm.get_piano_roll(fs=fs)\n",
        "    piano_shape = piano_all.shape\n",
        "    \n",
        "    # Normalize by the maximum value of a note\n",
        "    piano_all = piano_all / max_piano_note\n",
        "    \n",
        "    # Normalize by the number of played notes in the same time\n",
        "    count_notes = (piano_all > 0).sum(axis=1)\n",
        "    count_notes[count_notes == 0] = 1\n",
        "    melody = piano_all.sum(axis=1) / count_notes\n",
        "    \n",
        "    return melody"
      ],
      "metadata": {
        "id": "PMC12mgBgh87"
      },
      "execution_count": null,
      "outputs": []
    },
    {
      "cell_type": "code",
      "source": [
        "def get_melodies(df):\n",
        "  return [preprocess_melody_file(midis_path, x, max_note) for x in df['Midi File']]\n",
        "\n",
        "train_set['full_melody'] = get_melodies(train_set)\n",
        "test_set['full_melody'] = get_melodies(test_set)"
      ],
      "metadata": {
        "id": "h_wPSKf7CMew",
        "colab": {
          "base_uri": "https://localhost:8080/"
        },
        "outputId": "480af894-0c4c-4ae7-a53a-c04b14510c73"
      },
      "execution_count": null,
      "outputs": [
        {
          "output_type": "stream",
          "name": "stderr",
          "text": [
            "/usr/local/lib/python3.7/dist-packages/pretty_midi/pretty_midi.py:101: RuntimeWarning: Tempo, Key or Time signature change events found on non-zero tracks.  This is not a valid type 0 or type 1 MIDI file.  Tempo, Key or Time Signature may be wrong.\n",
            "  RuntimeWarning)\n"
          ]
        }
      ]
    },
    {
      "cell_type": "code",
      "source": [
        "train_set.head(5)"
      ],
      "metadata": {
        "colab": {
          "base_uri": "https://localhost:8080/",
          "height": 337
        },
        "id": "KU21vL0aEXua",
        "outputId": "fc881e74-ef60-4221-e0c0-03deb17dc43d"
      },
      "execution_count": null,
      "outputs": [
        {
          "output_type": "execute_result",
          "data": {
            "text/plain": [
              "           Singer                       Song Name  \\\n",
              "0  gerry rafferty                    baker street   \n",
              "1  gerry rafferty             right down the line   \n",
              "2     2 unlimited                    tribal dance   \n",
              "3     2 unlimited  let the beat control your body   \n",
              "4     2 unlimited              get ready for this   \n",
              "\n",
              "                                              Lyrics  \\\n",
              "0  winding your way down on baker street & lite i...   \n",
              "1  you know i need your love & you've got that ho...   \n",
              "2  come on check it out ya'll & (come on come on!...   \n",
              "3  let the beat control your body & let the beat ...   \n",
              "4  ya'll ready for this? & get down with the styl...   \n",
              "\n",
              "                                          Midi File  \\\n",
              "0                 Gerry_Rafferty_-_Baker_Street.mid   \n",
              "1          Gerry_Rafferty_-_Right_Down_the_Line.mid   \n",
              "2                    2_Unlimited_-_Tribal_Dance.mid   \n",
              "3  2_Unlimited_-_Let_the_Beat_Control_Your_Body.mid   \n",
              "4              2_Unlimited_-_Get_Ready_for_This.mid   \n",
              "\n",
              "                                    tokenized_lyrics  \\\n",
              "0  [winding, your, way, down, on, baker, street, ...   \n",
              "1  [you, know, need, your, love, you, have, got, ...   \n",
              "2  [come, on, check, it, out, ya, 'll, come, on, ...   \n",
              "3  [let, the, beat, control, your, body, let, the...   \n",
              "4  [ya, 'll, ready, for, this, get, down, with, t...   \n",
              "\n",
              "                                           embeddins  \\\n",
              "0  [[0.00059564906, 0.0010584872, -0.00072733546,...   \n",
              "1  [[-0.015855113, -0.010515817, 0.016783938, -0....   \n",
              "2  [[-0.005503409, -0.0046078963, 0.0060208426, -...   \n",
              "3  [[-0.004328131, -0.0043980614, 0.004244164, -0...   \n",
              "4  [[-0.0010476017, -1.958512e-05, -0.00026946786...   \n",
              "\n",
              "                                         full_melody  \n",
              "0  [0.0, 0.0, 0.0, 0.0, 0.0, 0.0, 0.0, 0.0, 0.0, ...  \n",
              "1  [0.0, 0.0, 0.0, 0.0, 0.0, 0.0, 0.0, 0.0, 0.0, ...  \n",
              "2  [0.0, 0.0, 0.0, 0.0, 0.0, 0.0, 0.0, 0.0, 0.0, ...  \n",
              "3  [0.0, 0.0, 0.0, 0.0, 0.0, 0.0, 0.0, 0.0, 0.0, ...  \n",
              "4  [0.0, 0.0, 0.0, 0.0, 0.0, 0.0, 0.0, 0.0, 0.0, ...  "
            ],
            "text/html": [
              "\n",
              "  <div id=\"df-9637867b-42c1-4499-9e7c-5ae26873f063\">\n",
              "    <div class=\"colab-df-container\">\n",
              "      <div>\n",
              "<style scoped>\n",
              "    .dataframe tbody tr th:only-of-type {\n",
              "        vertical-align: middle;\n",
              "    }\n",
              "\n",
              "    .dataframe tbody tr th {\n",
              "        vertical-align: top;\n",
              "    }\n",
              "\n",
              "    .dataframe thead th {\n",
              "        text-align: right;\n",
              "    }\n",
              "</style>\n",
              "<table border=\"1\" class=\"dataframe\">\n",
              "  <thead>\n",
              "    <tr style=\"text-align: right;\">\n",
              "      <th></th>\n",
              "      <th>Singer</th>\n",
              "      <th>Song Name</th>\n",
              "      <th>Lyrics</th>\n",
              "      <th>Midi File</th>\n",
              "      <th>tokenized_lyrics</th>\n",
              "      <th>embeddins</th>\n",
              "      <th>full_melody</th>\n",
              "    </tr>\n",
              "  </thead>\n",
              "  <tbody>\n",
              "    <tr>\n",
              "      <th>0</th>\n",
              "      <td>gerry rafferty</td>\n",
              "      <td>baker street</td>\n",
              "      <td>winding your way down on baker street &amp; lite i...</td>\n",
              "      <td>Gerry_Rafferty_-_Baker_Street.mid</td>\n",
              "      <td>[winding, your, way, down, on, baker, street, ...</td>\n",
              "      <td>[[0.00059564906, 0.0010584872, -0.00072733546,...</td>\n",
              "      <td>[0.0, 0.0, 0.0, 0.0, 0.0, 0.0, 0.0, 0.0, 0.0, ...</td>\n",
              "    </tr>\n",
              "    <tr>\n",
              "      <th>1</th>\n",
              "      <td>gerry rafferty</td>\n",
              "      <td>right down the line</td>\n",
              "      <td>you know i need your love &amp; you've got that ho...</td>\n",
              "      <td>Gerry_Rafferty_-_Right_Down_the_Line.mid</td>\n",
              "      <td>[you, know, need, your, love, you, have, got, ...</td>\n",
              "      <td>[[-0.015855113, -0.010515817, 0.016783938, -0....</td>\n",
              "      <td>[0.0, 0.0, 0.0, 0.0, 0.0, 0.0, 0.0, 0.0, 0.0, ...</td>\n",
              "    </tr>\n",
              "    <tr>\n",
              "      <th>2</th>\n",
              "      <td>2 unlimited</td>\n",
              "      <td>tribal dance</td>\n",
              "      <td>come on check it out ya'll &amp; (come on come on!...</td>\n",
              "      <td>2_Unlimited_-_Tribal_Dance.mid</td>\n",
              "      <td>[come, on, check, it, out, ya, 'll, come, on, ...</td>\n",
              "      <td>[[-0.005503409, -0.0046078963, 0.0060208426, -...</td>\n",
              "      <td>[0.0, 0.0, 0.0, 0.0, 0.0, 0.0, 0.0, 0.0, 0.0, ...</td>\n",
              "    </tr>\n",
              "    <tr>\n",
              "      <th>3</th>\n",
              "      <td>2 unlimited</td>\n",
              "      <td>let the beat control your body</td>\n",
              "      <td>let the beat control your body &amp; let the beat ...</td>\n",
              "      <td>2_Unlimited_-_Let_the_Beat_Control_Your_Body.mid</td>\n",
              "      <td>[let, the, beat, control, your, body, let, the...</td>\n",
              "      <td>[[-0.004328131, -0.0043980614, 0.004244164, -0...</td>\n",
              "      <td>[0.0, 0.0, 0.0, 0.0, 0.0, 0.0, 0.0, 0.0, 0.0, ...</td>\n",
              "    </tr>\n",
              "    <tr>\n",
              "      <th>4</th>\n",
              "      <td>2 unlimited</td>\n",
              "      <td>get ready for this</td>\n",
              "      <td>ya'll ready for this? &amp; get down with the styl...</td>\n",
              "      <td>2_Unlimited_-_Get_Ready_for_This.mid</td>\n",
              "      <td>[ya, 'll, ready, for, this, get, down, with, t...</td>\n",
              "      <td>[[-0.0010476017, -1.958512e-05, -0.00026946786...</td>\n",
              "      <td>[0.0, 0.0, 0.0, 0.0, 0.0, 0.0, 0.0, 0.0, 0.0, ...</td>\n",
              "    </tr>\n",
              "  </tbody>\n",
              "</table>\n",
              "</div>\n",
              "      <button class=\"colab-df-convert\" onclick=\"convertToInteractive('df-9637867b-42c1-4499-9e7c-5ae26873f063')\"\n",
              "              title=\"Convert this dataframe to an interactive table.\"\n",
              "              style=\"display:none;\">\n",
              "        \n",
              "  <svg xmlns=\"http://www.w3.org/2000/svg\" height=\"24px\"viewBox=\"0 0 24 24\"\n",
              "       width=\"24px\">\n",
              "    <path d=\"M0 0h24v24H0V0z\" fill=\"none\"/>\n",
              "    <path d=\"M18.56 5.44l.94 2.06.94-2.06 2.06-.94-2.06-.94-.94-2.06-.94 2.06-2.06.94zm-11 1L8.5 8.5l.94-2.06 2.06-.94-2.06-.94L8.5 2.5l-.94 2.06-2.06.94zm10 10l.94 2.06.94-2.06 2.06-.94-2.06-.94-.94-2.06-.94 2.06-2.06.94z\"/><path d=\"M17.41 7.96l-1.37-1.37c-.4-.4-.92-.59-1.43-.59-.52 0-1.04.2-1.43.59L10.3 9.45l-7.72 7.72c-.78.78-.78 2.05 0 2.83L4 21.41c.39.39.9.59 1.41.59.51 0 1.02-.2 1.41-.59l7.78-7.78 2.81-2.81c.8-.78.8-2.07 0-2.86zM5.41 20L4 18.59l7.72-7.72 1.47 1.35L5.41 20z\"/>\n",
              "  </svg>\n",
              "      </button>\n",
              "      \n",
              "  <style>\n",
              "    .colab-df-container {\n",
              "      display:flex;\n",
              "      flex-wrap:wrap;\n",
              "      gap: 12px;\n",
              "    }\n",
              "\n",
              "    .colab-df-convert {\n",
              "      background-color: #E8F0FE;\n",
              "      border: none;\n",
              "      border-radius: 50%;\n",
              "      cursor: pointer;\n",
              "      display: none;\n",
              "      fill: #1967D2;\n",
              "      height: 32px;\n",
              "      padding: 0 0 0 0;\n",
              "      width: 32px;\n",
              "    }\n",
              "\n",
              "    .colab-df-convert:hover {\n",
              "      background-color: #E2EBFA;\n",
              "      box-shadow: 0px 1px 2px rgba(60, 64, 67, 0.3), 0px 1px 3px 1px rgba(60, 64, 67, 0.15);\n",
              "      fill: #174EA6;\n",
              "    }\n",
              "\n",
              "    [theme=dark] .colab-df-convert {\n",
              "      background-color: #3B4455;\n",
              "      fill: #D2E3FC;\n",
              "    }\n",
              "\n",
              "    [theme=dark] .colab-df-convert:hover {\n",
              "      background-color: #434B5C;\n",
              "      box-shadow: 0px 1px 3px 1px rgba(0, 0, 0, 0.15);\n",
              "      filter: drop-shadow(0px 1px 2px rgba(0, 0, 0, 0.3));\n",
              "      fill: #FFFFFF;\n",
              "    }\n",
              "  </style>\n",
              "\n",
              "      <script>\n",
              "        const buttonEl =\n",
              "          document.querySelector('#df-9637867b-42c1-4499-9e7c-5ae26873f063 button.colab-df-convert');\n",
              "        buttonEl.style.display =\n",
              "          google.colab.kernel.accessAllowed ? 'block' : 'none';\n",
              "\n",
              "        async function convertToInteractive(key) {\n",
              "          const element = document.querySelector('#df-9637867b-42c1-4499-9e7c-5ae26873f063');\n",
              "          const dataTable =\n",
              "            await google.colab.kernel.invokeFunction('convertToInteractive',\n",
              "                                                     [key], {});\n",
              "          if (!dataTable) return;\n",
              "\n",
              "          const docLinkHtml = 'Like what you see? Visit the ' +\n",
              "            '<a target=\"_blank\" href=https://colab.research.google.com/notebooks/data_table.ipynb>data table notebook</a>'\n",
              "            + ' to learn more about interactive tables.';\n",
              "          element.innerHTML = '';\n",
              "          dataTable['output_type'] = 'display_data';\n",
              "          await google.colab.output.renderOutput(dataTable, element);\n",
              "          const docLink = document.createElement('div');\n",
              "          docLink.innerHTML = docLinkHtml;\n",
              "          element.appendChild(docLink);\n",
              "        }\n",
              "      </script>\n",
              "    </div>\n",
              "  </div>\n",
              "  "
            ]
          },
          "metadata": {},
          "execution_count": 222
        }
      ]
    },
    {
      "cell_type": "markdown",
      "source": [
        "#### Split melody into segments"
      ],
      "metadata": {
        "id": "_Im0WjLgMuh6"
      }
    },
    {
      "cell_type": "code",
      "source": [
        "ast=np.lib.index_tricks.as_strided\n",
        "def generate_sliding_window_2d(arr, window_size=5, window_stride=1, last_window=False):\n",
        "    last_window = 1 if last_window else 0\n",
        "    arr = np.ascontiguousarray(arr)\n",
        "    l0, l1 = arr.shape\n",
        "    s0, s1 = arr.strides\n",
        "    windows_num = ((l0-window_size)//window_stride) + last_window\n",
        "    \n",
        "    return ast(arr, (windows_num, window_size, l1), (s0*window_stride, s0, s1))"
      ],
      "metadata": {
        "id": "ueQ09K-8Mts4"
      },
      "execution_count": null,
      "outputs": []
    },
    {
      "cell_type": "code",
      "source": [
        "ast=np.lib.index_tricks.as_strided\n",
        "def generate_sliding_window(arr, window_size=5, window_stride=1, last_window=False):\n",
        "    last_window = 1 if last_window else 0\n",
        "    arr = np.ascontiguousarray(arr)\n",
        "    arr_len = arr.shape[0]\n",
        "    s, = arr.strides\n",
        "    windows_num = ((arr_len-window_size)//window_stride) + last_window\n",
        "    \n",
        "    return ast(arr, (windows_num, window_size), (s*window_stride, s))"
      ],
      "metadata": {
        "id": "LVrVNwZAPe6b"
      },
      "execution_count": null,
      "outputs": []
    },
    {
      "cell_type": "code",
      "source": [
        "def preprocess_melody_file_slided(midi_name, fs=5, max_piano_val=100, fpw=4, window_size=10):\n",
        "    pm = pretty_midi.PrettyMIDI(midis_path+midi_name)\n",
        "    pm.remove_invalid_notes()\n",
        "    \n",
        "    # Sum all notes from all instruments\n",
        "    piano_all = pm.get_piano_roll(fs=fs)\n",
        "    piano_shape = piano_all.shape\n",
        "\n",
        "    # Normalize by the number of played instruments in the same time and note\n",
        "    counter = np.zeros(piano_shape)\n",
        "    for inst in pm.instruments:\n",
        "        curr_piano = inst.get_piano_roll(fs=fs)\n",
        "\n",
        "        counter[:, :curr_piano.shape[1]] += (curr_piano > 0).astype(int)\n",
        "\n",
        "    counter[counter == 0] = 1\n",
        "    piano_all /= counter\n",
        "    \n",
        "    # Normalize by the maximum value of a note\n",
        "    piano_all = piano_all / max_piano_val\n",
        "    \n",
        "    # Normalize by the number of played notes in the same time\n",
        "    count_notes = (piano_all > 0).sum(axis=0)\n",
        "    count_notes[count_notes == 0] = 1\n",
        "    melody = piano_all.sum(axis=0) / count_notes\n",
        "    del piano_all\n",
        "    \n",
        "    # Split Melody's notes into words\n",
        "    melody_per_word = generate_sliding_window(melody[(melody > 0).argmax():], window_size=fpw, window_stride=(fpw*4)//5, last_window=True)\n",
        "    # Split Melody's words into windows\n",
        "    # melody_windows = generate_sliding_window_2d(melody_per_word, window_size=window_size, last_window=True)\n",
        "    \n",
        "    return melody_per_word"
      ],
      "metadata": {
        "id": "K_9x35ywM9IL"
      },
      "execution_count": null,
      "outputs": []
    },
    {
      "cell_type": "code",
      "source": [
        "def melody_per_word(df):\n",
        "  return [preprocess_melody_file_slided(x, window_size=1) for x in df['Midi File']]\n",
        "\n",
        "train_set['melody_per_word'] = melody_per_word(train_set) \n",
        "test_set['melody_per_word'] = melody_per_word(test_set) \n",
        "train_set"
      ],
      "metadata": {
        "colab": {
          "base_uri": "https://localhost:8080/",
          "height": 1000
        },
        "id": "ETjE4N5iNkAl",
        "outputId": "ae41a1fe-9555-4a92-d485-dd6b8c6b68ab"
      },
      "execution_count": null,
      "outputs": [
        {
          "output_type": "stream",
          "name": "stderr",
          "text": [
            "/usr/local/lib/python3.7/dist-packages/pretty_midi/pretty_midi.py:101: RuntimeWarning: Tempo, Key or Time signature change events found on non-zero tracks.  This is not a valid type 0 or type 1 MIDI file.  Tempo, Key or Time Signature may be wrong.\n",
            "  RuntimeWarning)\n"
          ]
        },
        {
          "output_type": "execute_result",
          "data": {
            "text/plain": [
              "             Singer                       Song Name  \\\n",
              "0    gerry rafferty                    baker street   \n",
              "1    gerry rafferty             right down the line   \n",
              "2       2 unlimited                    tribal dance   \n",
              "3       2 unlimited  let the beat control your body   \n",
              "4       2 unlimited              get ready for this   \n",
              "..              ...                             ...   \n",
              "594      don henley                   dirty laundry   \n",
              "595      don henley                 new york minute   \n",
              "596       bob dylan     subterranean homesick blues   \n",
              "597      goldfinger                           mable   \n",
              "598          dr dre                forgot about dre   \n",
              "\n",
              "                                                Lyrics  \\\n",
              "0    winding your way down on baker street & lite i...   \n",
              "1    you know i need your love & you've got that ho...   \n",
              "2    come on check it out ya'll & (come on come on!...   \n",
              "3    let the beat control your body & let the beat ...   \n",
              "4    ya'll ready for this? & get down with the styl...   \n",
              "..                                                 ...   \n",
              "594  i make my living off the evening news & just g...   \n",
              "595  harry got up & dressed all in black & went dow...   \n",
              "596  johnny's in the basement & mixing up the medic...   \n",
              "597  i met her sunday that was yesterday & the girl...   \n",
              "598  y'all know me still the same o.g. but i been l...   \n",
              "\n",
              "                                            Midi File  \\\n",
              "0                   Gerry_Rafferty_-_Baker_Street.mid   \n",
              "1            Gerry_Rafferty_-_Right_Down_the_Line.mid   \n",
              "2                      2_Unlimited_-_Tribal_Dance.mid   \n",
              "3    2_Unlimited_-_Let_the_Beat_Control_Your_Body.mid   \n",
              "4                2_Unlimited_-_Get_Ready_for_This.mid   \n",
              "..                                                ...   \n",
              "594                    Don_Henley_-_Dirty_Laundry.mid   \n",
              "595                  Don_Henley_-_New_York_Minute.mid   \n",
              "596       Bob_Dylan_-_Subterranean_Homesick_Blues.mid   \n",
              "597                            Goldfinger_-_Mable.mid   \n",
              "598                     Dr_Dre_-_Forgot_About_Dre.mid   \n",
              "\n",
              "                                      tokenized_lyrics  \\\n",
              "0    [winding, your, way, down, on, baker, street, ...   \n",
              "1    [you, know, i, need, your, love, &, you, have,...   \n",
              "2    [come, on, check, it, out, ya, 'll, &, come, o...   \n",
              "3    [let, the, beat, control, your, body, &, let, ...   \n",
              "4    [ya, 'll, ready, for, this, &, get, down, with...   \n",
              "..                                                 ...   \n",
              "594  [i, make, my, living, off, the, evening, news,...   \n",
              "595  [harry, got, up, &, dressed, all, in, black, &...   \n",
              "596  [johnny, 's, in, the, basement, &, mixing, up,...   \n",
              "597  [i, met, her, sunday, that, was, yesterday, &,...   \n",
              "598  [you, all, know, me, still, the, same, o.g, bu...   \n",
              "\n",
              "                                             embeddins  \\\n",
              "0    [[0.0013030592, -0.004090269, 0.0008233587, -0...   \n",
              "1    [[0.21775734, -0.4504746, 0.49830502, -0.32945...   \n",
              "2    [[0.44903523, -0.6026171, 0.012530835, -0.4995...   \n",
              "3    [[0.44092643, -0.5675243, 0.2601113, -0.216100...   \n",
              "4    [[0.00923968, -0.15556464, 0.10145177, -0.5820...   \n",
              "..                                                 ...   \n",
              "594  [[0.06159106, -0.3643866, 0.43834803, -0.46954...   \n",
              "595  [[-0.003911188, -0.001092173, 6.470319e-05, -0...   \n",
              "596  [[-0.0044127405, -0.002254767, -0.0017805406, ...   \n",
              "597  [[0.06159106, -0.3643866, 0.43834803, -0.46954...   \n",
              "598  [[0.21775734, -0.4504746, 0.49830502, -0.32945...   \n",
              "\n",
              "                                           full_melody  \\\n",
              "0    [0.0, 0.0, 0.0, 0.0, 0.0, 0.0, 0.0, 0.0, 0.0, ...   \n",
              "1    [0.0, 0.0, 0.0, 0.0, 0.0, 0.0, 0.0, 0.0, 0.0, ...   \n",
              "2    [0.0, 0.0, 0.0, 0.0, 0.0, 0.0, 0.0, 0.0, 0.0, ...   \n",
              "3    [0.0, 0.0, 0.0, 0.0, 0.0, 0.0, 0.0, 0.0, 0.0, ...   \n",
              "4    [0.0, 0.0, 0.0, 0.0, 0.0, 0.0, 0.0, 0.0, 0.0, ...   \n",
              "..                                                 ...   \n",
              "594  [0.0, 0.0, 0.0, 0.0, 0.0, 0.0, 0.0, 0.0, 0.0, ...   \n",
              "595  [0.0, 0.0, 0.0, 0.0, 0.0, 0.0, 0.0, 0.0, 0.0, ...   \n",
              "596  [0.0, 0.0, 0.0, 0.0, 0.0, 0.0, 0.0, 0.0, 0.0, ...   \n",
              "597  [0.0, 0.0, 0.0, 0.0, 0.0, 0.0, 0.0, 0.0, 0.0, ...   \n",
              "598  [0.0, 0.0, 0.0, 0.0, 0.0, 0.0, 0.0, 0.0, 0.0, ...   \n",
              "\n",
              "                                       melody_per_word  \n",
              "0    [[0.8671428571428572, 0.88, 0.9000000000000001...  \n",
              "1    [[0.83, 0.83, 0.8260000000000002, 0.845], [0.8...  \n",
              "2    [[0.44, 0.0, 0.46, 0.54], [0.54, 0.5, 0.47, 0....  \n",
              "3    [[0.83, 0.0, 0.83, 0.82], [0.82, 0.82, 0.82, 0...  \n",
              "4    [[0.3692818509615385, 0.3692818509615385, 0.36...  \n",
              "..                                                 ...  \n",
              "594  [[0.79, 0.79, 0.79, 0.79], [0.79, 0.79, 0.79, ...  \n",
              "595  [[0.5549999999999999, 0.5549999999999999, 0.55...  \n",
              "596  [[1.0233333333333334, 1.0233333333333334, 1.02...  \n",
              "597  [[1.0, 1.0, 1.0, 1.0], [1.0, 1.0, 1.0, 1.0], [...  \n",
              "598  [[1.0, 1.0, 1.0, 1.0], [1.0, 1.0, 0.0, 1.0], [...  \n",
              "\n",
              "[589 rows x 8 columns]"
            ],
            "text/html": [
              "\n",
              "  <div id=\"df-dae41826-ad64-49ea-8aee-aa88a9c14070\">\n",
              "    <div class=\"colab-df-container\">\n",
              "      <div>\n",
              "<style scoped>\n",
              "    .dataframe tbody tr th:only-of-type {\n",
              "        vertical-align: middle;\n",
              "    }\n",
              "\n",
              "    .dataframe tbody tr th {\n",
              "        vertical-align: top;\n",
              "    }\n",
              "\n",
              "    .dataframe thead th {\n",
              "        text-align: right;\n",
              "    }\n",
              "</style>\n",
              "<table border=\"1\" class=\"dataframe\">\n",
              "  <thead>\n",
              "    <tr style=\"text-align: right;\">\n",
              "      <th></th>\n",
              "      <th>Singer</th>\n",
              "      <th>Song Name</th>\n",
              "      <th>Lyrics</th>\n",
              "      <th>Midi File</th>\n",
              "      <th>tokenized_lyrics</th>\n",
              "      <th>embeddins</th>\n",
              "      <th>full_melody</th>\n",
              "      <th>melody_per_word</th>\n",
              "    </tr>\n",
              "  </thead>\n",
              "  <tbody>\n",
              "    <tr>\n",
              "      <th>0</th>\n",
              "      <td>gerry rafferty</td>\n",
              "      <td>baker street</td>\n",
              "      <td>winding your way down on baker street &amp; lite i...</td>\n",
              "      <td>Gerry_Rafferty_-_Baker_Street.mid</td>\n",
              "      <td>[winding, your, way, down, on, baker, street, ...</td>\n",
              "      <td>[[0.0013030592, -0.004090269, 0.0008233587, -0...</td>\n",
              "      <td>[0.0, 0.0, 0.0, 0.0, 0.0, 0.0, 0.0, 0.0, 0.0, ...</td>\n",
              "      <td>[[0.8671428571428572, 0.88, 0.9000000000000001...</td>\n",
              "    </tr>\n",
              "    <tr>\n",
              "      <th>1</th>\n",
              "      <td>gerry rafferty</td>\n",
              "      <td>right down the line</td>\n",
              "      <td>you know i need your love &amp; you've got that ho...</td>\n",
              "      <td>Gerry_Rafferty_-_Right_Down_the_Line.mid</td>\n",
              "      <td>[you, know, i, need, your, love, &amp;, you, have,...</td>\n",
              "      <td>[[0.21775734, -0.4504746, 0.49830502, -0.32945...</td>\n",
              "      <td>[0.0, 0.0, 0.0, 0.0, 0.0, 0.0, 0.0, 0.0, 0.0, ...</td>\n",
              "      <td>[[0.83, 0.83, 0.8260000000000002, 0.845], [0.8...</td>\n",
              "    </tr>\n",
              "    <tr>\n",
              "      <th>2</th>\n",
              "      <td>2 unlimited</td>\n",
              "      <td>tribal dance</td>\n",
              "      <td>come on check it out ya'll &amp; (come on come on!...</td>\n",
              "      <td>2_Unlimited_-_Tribal_Dance.mid</td>\n",
              "      <td>[come, on, check, it, out, ya, 'll, &amp;, come, o...</td>\n",
              "      <td>[[0.44903523, -0.6026171, 0.012530835, -0.4995...</td>\n",
              "      <td>[0.0, 0.0, 0.0, 0.0, 0.0, 0.0, 0.0, 0.0, 0.0, ...</td>\n",
              "      <td>[[0.44, 0.0, 0.46, 0.54], [0.54, 0.5, 0.47, 0....</td>\n",
              "    </tr>\n",
              "    <tr>\n",
              "      <th>3</th>\n",
              "      <td>2 unlimited</td>\n",
              "      <td>let the beat control your body</td>\n",
              "      <td>let the beat control your body &amp; let the beat ...</td>\n",
              "      <td>2_Unlimited_-_Let_the_Beat_Control_Your_Body.mid</td>\n",
              "      <td>[let, the, beat, control, your, body, &amp;, let, ...</td>\n",
              "      <td>[[0.44092643, -0.5675243, 0.2601113, -0.216100...</td>\n",
              "      <td>[0.0, 0.0, 0.0, 0.0, 0.0, 0.0, 0.0, 0.0, 0.0, ...</td>\n",
              "      <td>[[0.83, 0.0, 0.83, 0.82], [0.82, 0.82, 0.82, 0...</td>\n",
              "    </tr>\n",
              "    <tr>\n",
              "      <th>4</th>\n",
              "      <td>2 unlimited</td>\n",
              "      <td>get ready for this</td>\n",
              "      <td>ya'll ready for this? &amp; get down with the styl...</td>\n",
              "      <td>2_Unlimited_-_Get_Ready_for_This.mid</td>\n",
              "      <td>[ya, 'll, ready, for, this, &amp;, get, down, with...</td>\n",
              "      <td>[[0.00923968, -0.15556464, 0.10145177, -0.5820...</td>\n",
              "      <td>[0.0, 0.0, 0.0, 0.0, 0.0, 0.0, 0.0, 0.0, 0.0, ...</td>\n",
              "      <td>[[0.3692818509615385, 0.3692818509615385, 0.36...</td>\n",
              "    </tr>\n",
              "    <tr>\n",
              "      <th>...</th>\n",
              "      <td>...</td>\n",
              "      <td>...</td>\n",
              "      <td>...</td>\n",
              "      <td>...</td>\n",
              "      <td>...</td>\n",
              "      <td>...</td>\n",
              "      <td>...</td>\n",
              "      <td>...</td>\n",
              "    </tr>\n",
              "    <tr>\n",
              "      <th>594</th>\n",
              "      <td>don henley</td>\n",
              "      <td>dirty laundry</td>\n",
              "      <td>i make my living off the evening news &amp; just g...</td>\n",
              "      <td>Don_Henley_-_Dirty_Laundry.mid</td>\n",
              "      <td>[i, make, my, living, off, the, evening, news,...</td>\n",
              "      <td>[[0.06159106, -0.3643866, 0.43834803, -0.46954...</td>\n",
              "      <td>[0.0, 0.0, 0.0, 0.0, 0.0, 0.0, 0.0, 0.0, 0.0, ...</td>\n",
              "      <td>[[0.79, 0.79, 0.79, 0.79], [0.79, 0.79, 0.79, ...</td>\n",
              "    </tr>\n",
              "    <tr>\n",
              "      <th>595</th>\n",
              "      <td>don henley</td>\n",
              "      <td>new york minute</td>\n",
              "      <td>harry got up &amp; dressed all in black &amp; went dow...</td>\n",
              "      <td>Don_Henley_-_New_York_Minute.mid</td>\n",
              "      <td>[harry, got, up, &amp;, dressed, all, in, black, &amp;...</td>\n",
              "      <td>[[-0.003911188, -0.001092173, 6.470319e-05, -0...</td>\n",
              "      <td>[0.0, 0.0, 0.0, 0.0, 0.0, 0.0, 0.0, 0.0, 0.0, ...</td>\n",
              "      <td>[[0.5549999999999999, 0.5549999999999999, 0.55...</td>\n",
              "    </tr>\n",
              "    <tr>\n",
              "      <th>596</th>\n",
              "      <td>bob dylan</td>\n",
              "      <td>subterranean homesick blues</td>\n",
              "      <td>johnny's in the basement &amp; mixing up the medic...</td>\n",
              "      <td>Bob_Dylan_-_Subterranean_Homesick_Blues.mid</td>\n",
              "      <td>[johnny, 's, in, the, basement, &amp;, mixing, up,...</td>\n",
              "      <td>[[-0.0044127405, -0.002254767, -0.0017805406, ...</td>\n",
              "      <td>[0.0, 0.0, 0.0, 0.0, 0.0, 0.0, 0.0, 0.0, 0.0, ...</td>\n",
              "      <td>[[1.0233333333333334, 1.0233333333333334, 1.02...</td>\n",
              "    </tr>\n",
              "    <tr>\n",
              "      <th>597</th>\n",
              "      <td>goldfinger</td>\n",
              "      <td>mable</td>\n",
              "      <td>i met her sunday that was yesterday &amp; the girl...</td>\n",
              "      <td>Goldfinger_-_Mable.mid</td>\n",
              "      <td>[i, met, her, sunday, that, was, yesterday, &amp;,...</td>\n",
              "      <td>[[0.06159106, -0.3643866, 0.43834803, -0.46954...</td>\n",
              "      <td>[0.0, 0.0, 0.0, 0.0, 0.0, 0.0, 0.0, 0.0, 0.0, ...</td>\n",
              "      <td>[[1.0, 1.0, 1.0, 1.0], [1.0, 1.0, 1.0, 1.0], [...</td>\n",
              "    </tr>\n",
              "    <tr>\n",
              "      <th>598</th>\n",
              "      <td>dr dre</td>\n",
              "      <td>forgot about dre</td>\n",
              "      <td>y'all know me still the same o.g. but i been l...</td>\n",
              "      <td>Dr_Dre_-_Forgot_About_Dre.mid</td>\n",
              "      <td>[you, all, know, me, still, the, same, o.g, bu...</td>\n",
              "      <td>[[0.21775734, -0.4504746, 0.49830502, -0.32945...</td>\n",
              "      <td>[0.0, 0.0, 0.0, 0.0, 0.0, 0.0, 0.0, 0.0, 0.0, ...</td>\n",
              "      <td>[[1.0, 1.0, 1.0, 1.0], [1.0, 1.0, 0.0, 1.0], [...</td>\n",
              "    </tr>\n",
              "  </tbody>\n",
              "</table>\n",
              "<p>589 rows × 8 columns</p>\n",
              "</div>\n",
              "      <button class=\"colab-df-convert\" onclick=\"convertToInteractive('df-dae41826-ad64-49ea-8aee-aa88a9c14070')\"\n",
              "              title=\"Convert this dataframe to an interactive table.\"\n",
              "              style=\"display:none;\">\n",
              "        \n",
              "  <svg xmlns=\"http://www.w3.org/2000/svg\" height=\"24px\"viewBox=\"0 0 24 24\"\n",
              "       width=\"24px\">\n",
              "    <path d=\"M0 0h24v24H0V0z\" fill=\"none\"/>\n",
              "    <path d=\"M18.56 5.44l.94 2.06.94-2.06 2.06-.94-2.06-.94-.94-2.06-.94 2.06-2.06.94zm-11 1L8.5 8.5l.94-2.06 2.06-.94-2.06-.94L8.5 2.5l-.94 2.06-2.06.94zm10 10l.94 2.06.94-2.06 2.06-.94-2.06-.94-.94-2.06-.94 2.06-2.06.94z\"/><path d=\"M17.41 7.96l-1.37-1.37c-.4-.4-.92-.59-1.43-.59-.52 0-1.04.2-1.43.59L10.3 9.45l-7.72 7.72c-.78.78-.78 2.05 0 2.83L4 21.41c.39.39.9.59 1.41.59.51 0 1.02-.2 1.41-.59l7.78-7.78 2.81-2.81c.8-.78.8-2.07 0-2.86zM5.41 20L4 18.59l7.72-7.72 1.47 1.35L5.41 20z\"/>\n",
              "  </svg>\n",
              "      </button>\n",
              "      \n",
              "  <style>\n",
              "    .colab-df-container {\n",
              "      display:flex;\n",
              "      flex-wrap:wrap;\n",
              "      gap: 12px;\n",
              "    }\n",
              "\n",
              "    .colab-df-convert {\n",
              "      background-color: #E8F0FE;\n",
              "      border: none;\n",
              "      border-radius: 50%;\n",
              "      cursor: pointer;\n",
              "      display: none;\n",
              "      fill: #1967D2;\n",
              "      height: 32px;\n",
              "      padding: 0 0 0 0;\n",
              "      width: 32px;\n",
              "    }\n",
              "\n",
              "    .colab-df-convert:hover {\n",
              "      background-color: #E2EBFA;\n",
              "      box-shadow: 0px 1px 2px rgba(60, 64, 67, 0.3), 0px 1px 3px 1px rgba(60, 64, 67, 0.15);\n",
              "      fill: #174EA6;\n",
              "    }\n",
              "\n",
              "    [theme=dark] .colab-df-convert {\n",
              "      background-color: #3B4455;\n",
              "      fill: #D2E3FC;\n",
              "    }\n",
              "\n",
              "    [theme=dark] .colab-df-convert:hover {\n",
              "      background-color: #434B5C;\n",
              "      box-shadow: 0px 1px 3px 1px rgba(0, 0, 0, 0.15);\n",
              "      filter: drop-shadow(0px 1px 2px rgba(0, 0, 0, 0.3));\n",
              "      fill: #FFFFFF;\n",
              "    }\n",
              "  </style>\n",
              "\n",
              "      <script>\n",
              "        const buttonEl =\n",
              "          document.querySelector('#df-dae41826-ad64-49ea-8aee-aa88a9c14070 button.colab-df-convert');\n",
              "        buttonEl.style.display =\n",
              "          google.colab.kernel.accessAllowed ? 'block' : 'none';\n",
              "\n",
              "        async function convertToInteractive(key) {\n",
              "          const element = document.querySelector('#df-dae41826-ad64-49ea-8aee-aa88a9c14070');\n",
              "          const dataTable =\n",
              "            await google.colab.kernel.invokeFunction('convertToInteractive',\n",
              "                                                     [key], {});\n",
              "          if (!dataTable) return;\n",
              "\n",
              "          const docLinkHtml = 'Like what you see? Visit the ' +\n",
              "            '<a target=\"_blank\" href=https://colab.research.google.com/notebooks/data_table.ipynb>data table notebook</a>'\n",
              "            + ' to learn more about interactive tables.';\n",
              "          element.innerHTML = '';\n",
              "          dataTable['output_type'] = 'display_data';\n",
              "          await google.colab.output.renderOutput(dataTable, element);\n",
              "          const docLink = document.createElement('div');\n",
              "          docLink.innerHTML = docLinkHtml;\n",
              "          element.appendChild(docLink);\n",
              "        }\n",
              "      </script>\n",
              "    </div>\n",
              "  </div>\n",
              "  "
            ]
          },
          "metadata": {},
          "execution_count": 17
        }
      ]
    },
    {
      "cell_type": "markdown",
      "source": [
        "Split data"
      ],
      "metadata": {
        "id": "lAuP3rEh5XZg"
      }
    },
    {
      "cell_type": "code",
      "source": [
        "# split into train and validation\n",
        "\n",
        "train_index = np.random.rand(len(train_set)) > VALIDATION_FRAC\n",
        "\n",
        "train = train_set[train_index]\n",
        "val = train_set[~train_index]\n",
        "\n",
        "train.shape"
      ],
      "metadata": {
        "colab": {
          "base_uri": "https://localhost:8080/"
        },
        "id": "Vn5vRh_J-G9D",
        "outputId": "ab2d23df-141d-48ca-eaff-44a02321e59b"
      },
      "execution_count": null,
      "outputs": [
        {
          "output_type": "execute_result",
          "data": {
            "text/plain": [
              "(470, 8)"
            ]
          },
          "metadata": {},
          "execution_count": 18
        }
      ]
    },
    {
      "cell_type": "code",
      "source": [
        "tokens_encoding_dict = {}\n",
        "inverse_tokens_encoding_dict = {}\n",
        "for i, token in enumerate(sorted(unique_tokwns)):\n",
        "  tokens_encoding_dict[token] = i\n",
        "  inverse_tokens_encoding_dict[i] = token"
      ],
      "metadata": {
        "id": "SEnR8YJ0kAwc"
      },
      "execution_count": null,
      "outputs": []
    },
    {
      "cell_type": "code",
      "source": [
        "def get_one_hot_for_y(data, i, j, vocab_size):\n",
        "  y = np.zeros(vocab_size)\n",
        "  lyric = data.iloc[i]['tokenized_lyrics']\n",
        "  word = lyric[j]\n",
        "  y[tokens_encoding_dict[word]] = 1\n",
        "  return y"
      ],
      "metadata": {
        "id": "HOJfxvh8h64h"
      },
      "execution_count": null,
      "outputs": []
    },
    {
      "cell_type": "code",
      "source": [
        "# melody_type: string, 'full_melody' or 'melody_per_word' \n",
        "\n",
        "def get_X_Y(data, vocab_size, melody_type):\n",
        "  X_e, X_m, Y = [],[], []\n",
        "  embeddings = data['embeddins']\n",
        "  melodies = data[melody_type]\n",
        "  for i, e in enumerate(embeddings):\n",
        "    for j, word in enumerate(e):\n",
        "      if j+1 < len(e):\n",
        "        if melody_type == 'melody_per_word':\n",
        "          if j < melodies.iloc[i].shape[0]:\n",
        "            X_e.append(np.array(word))\n",
        "            X_m.append(np.array(melodies.iloc[i][j]))\n",
        "            Y.append(get_one_hot_for_y(data, i, j+1, vocab_size))\n",
        "        else:\n",
        "          X_e.append(np.array(word))\n",
        "          X_m.append(np.array(melodies.iloc[i]))\n",
        "          Y.append(get_one_hot_for_y(data, i, j+1, vocab_size))\n",
        "        \n",
        "  return (np.array(X_e), np.array(X_m)), np.array(Y)\n"
      ],
      "metadata": {
        "id": "Q2LBBy1lRjfE"
      },
      "execution_count": null,
      "outputs": []
    },
    {
      "cell_type": "markdown",
      "source": [
        "# Model"
      ],
      "metadata": {
        "id": "yeU_OXHvOr7D"
      }
    },
    {
      "cell_type": "code",
      "source": [
        "def creat_model(melody_vec_size, window_size,lyrics_vec_size, max_num_of_words, vec_size=None, embeddings=None, dropout=0.2):\n",
        "  melody_input = Input(shape=(window_size, melody_vec_size), name='melody')\n",
        "  input_lyrics = Input(shape=(window_size, lyrics_vec_size), name='lyrics')\n",
        "\n",
        "  concat = Concatenate(axis=2, name='concatenate')([melody_input, input_lyrics])\n",
        "  \n",
        "  X = LSTM(64, return_sequences=True, dropout=dropout)(concat)\n",
        "  X = LSTM(64, dropout=dropout)(X)\n",
        "  X = Dense(128, activation=\"relu\")(X)\n",
        "  X = Dropout(dropout)(X)\n",
        "  # X = Flatten()(X)\n",
        "  out = Dense(max_num_of_words, activation=\"softmax\", name = 'out')(X)\n",
        "\n",
        "  model = Model([melody_input, input_lyrics], out)\n",
        "  model.compile(loss='categorical_crossentropy', optimizer=Adam())\n",
        "    \n",
        "  return model\n"
      ],
      "metadata": {
        "id": "DX4jiGpZOwbA"
      },
      "execution_count": null,
      "outputs": []
    },
    {
      "cell_type": "code",
      "source": [
        "def creat_model_2(melody_vec_size, window_size,lyrics_vec_size, max_num_of_words, vec_size=None, embeddings=None, dropout=0.3):\n",
        "  melody_input = Input(shape=(window_size, melody_vec_size), name='melody')\n",
        "  input_lyrics = Input(shape=(window_size, lyrics_vec_size), name='lyrics')\n",
        "\n",
        "  concat = Concatenate(axis=2, name='concatenate')([melody_input, input_lyrics])\n",
        "  \n",
        "  X = LSTM(64, return_sequences=True, dropout=dropout)(concat)\n",
        "  X = LSTM(64, return_sequences=True, dropout=dropout)(X)\n",
        "  X = LSTM(64, dropout=dropout)(X)\n",
        "  X = Dense(128, activation=\"relu\")(X)\n",
        "  X = Dropout(dropout)(X)\n",
        "  # X = Flatten()(X)\n",
        "  out = Dense(max_num_of_words, activation=\"softmax\", name = 'out')(X)\n",
        "\n",
        "  model = Model([melody_input, input_lyrics], out)\n",
        "  model.compile(loss='categorical_crossentropy', optimizer=Adam())\n",
        "    \n",
        "  return model\n"
      ],
      "metadata": {
        "id": "TyE4u6YFwnkD"
      },
      "execution_count": null,
      "outputs": []
    },
    {
      "cell_type": "code",
      "source": [
        "def get_callbacks(model_name):\n",
        "    metric = 'val_loss'\n",
        "    metric_mode = 'min'\n",
        "    earlystop = EarlyStopping(monitor=metric, mode=metric_mode, verbose=1, patience=20)\n",
        "    reduceLR = ReduceLROnPlateau(monitor = metric, mode = metric_mode, patience = 5,factor = 0.5, min_lr = 1e-6, verbose = 1)\n",
        "    checkpoint = ModelCheckpoint(fr'./models/{model_name}.h5', monitor=metric, save_best_only=True, mode=metric_mode)\n",
        "\n",
        "    return checkpoint, reduceLR, earlystop\n",
        "\n",
        "def train_model(model_name, model, train_data, val_data, params_dict=None):\n",
        "    os.makedirs('./models', exist_ok=True)\n",
        "    params = ''\n",
        "    if params_dict is not None:\n",
        "        params = '_'.join(f'{key}_{val}' for key,val in params_dict.items())\n",
        "    model_name = f'_{model_name}' + f'_{params}'\n",
        "        \n",
        "    callbacks = get_callbacks(model_name)\n",
        "  \n",
        "    (train_x_embedding, train_x_melody), train_y = train_data\n",
        "    (val_x_embedding, val_x_melody), val_y = val_data\n",
        "\n",
        "    # model_gen = model_gen(*train_x_melody.shape[1:],*train_x_embedding.shape[1:] ) # melody size\n",
        "    history = model.fit(\n",
        "                        x=(\n",
        "                            train_x_melody.reshape(train_x_melody.shape[0],1, train_x_melody.shape[1]),\n",
        "                            train_x_embedding.reshape(train_x_embedding.shape[0],1, train_x_embedding.shape[1]),\n",
        "                        ),\n",
        "                        y=train_y,\n",
        "                        validation_data=[\n",
        "                                         (val_x_melody.reshape(val_x_melody.shape[0],1, val_x_melody.shape[1]), \n",
        "                                          val_x_embedding.reshape(val_x_embedding.shape[0],1, val_x_embedding.shape[1])),\n",
        "                                          val_y],\n",
        "                        batch_size=params_dict['batch_size'],\n",
        "                        epochs=params_dict['epochs'],\n",
        "\n",
        "                        callbacks=callbacks,\n",
        "                        verbose=1\n",
        "                        )\n",
        "        \n",
        "    history = history.history\n",
        "\n",
        "    return model, history"
      ],
      "metadata": {
        "id": "1bujYiVRYnFL"
      },
      "execution_count": null,
      "outputs": []
    },
    {
      "cell_type": "code",
      "source": [
        "def plot_loss(history):\n",
        "    ncols = 1\n",
        "    for k in ['val_loss', 'loss']:\n",
        "      plt.plot(history[k])\n",
        "\n",
        "    plt.title(\"Model's loss over epochs- loss metric: binary crossentropy\")\n",
        "    plt.xlabel(\"epochs\")\n",
        "    plt.ylabel(\"loss\")\n",
        "    plt.legend(['validation loss', 'train loss'])    \n",
        "    plt.show()"
      ],
      "metadata": {
        "id": "zxwnMgahh0sV"
      },
      "execution_count": null,
      "outputs": []
    },
    {
      "cell_type": "markdown",
      "source": [
        "### Full melody model"
      ],
      "metadata": {
        "id": "cr7Hx4wb9JWo"
      }
    },
    {
      "cell_type": "code",
      "source": [
        "model_full = creat_model(melody_vec_size=128, window_size=1, lyrics_vec_size=w2v_size, max_num_of_words=num_of_words)\n",
        "print(model_full.summary())\n",
        "plot_model(model_full)\n",
        "plt.show()\n",
        "params = {'batch_size': 32, 'epochs': 50}\n",
        "train_x_y = get_X_Y(train, num_of_words ,'full_melody')\n",
        "val_x_y = get_X_Y(val, num_of_words,'full_melody')\n",
        "model_entire_melody, history_entire_melody = train_model('entire_melody',\n",
        "                                                         model_full, \n",
        "                                                         train_x_y, \n",
        "                                                         val_x_y, \n",
        "                                                         params_dict=params)\n",
        "del(train_x_y)\n",
        "del(val_x_y)\n",
        "\n",
        "plot_loss(history_entire_melody)"
      ],
      "metadata": {
        "colab": {
          "base_uri": "https://localhost:8080/",
          "height": 1000
        },
        "id": "TnWbOrrM8426",
        "outputId": "663c1eb9-4771-46c1-d59a-65be744692a4"
      },
      "execution_count": null,
      "outputs": [
        {
          "output_type": "stream",
          "name": "stdout",
          "text": [
            "Model: \"model\"\n",
            "__________________________________________________________________________________________________\n",
            " Layer (type)                   Output Shape         Param #     Connected to                     \n",
            "==================================================================================================\n",
            " melody (InputLayer)            [(None, 1, 128)]     0           []                               \n",
            "                                                                                                  \n",
            " lyrics (InputLayer)            [(None, 1, 300)]     0           []                               \n",
            "                                                                                                  \n",
            " concatenate (Concatenate)      (None, 1, 428)       0           ['melody[0][0]',                 \n",
            "                                                                  'lyrics[0][0]']                 \n",
            "                                                                                                  \n",
            " lstm (LSTM)                    (None, 1, 64)        126208      ['concatenate[0][0]']            \n",
            "                                                                                                  \n",
            " lstm_1 (LSTM)                  (None, 1, 64)        33024       ['lstm[0][0]']                   \n",
            "                                                                                                  \n",
            " lstm_2 (LSTM)                  (None, 64)           33024       ['lstm_1[0][0]']                 \n",
            "                                                                                                  \n",
            " dense (Dense)                  (None, 128)          8320        ['lstm_2[0][0]']                 \n",
            "                                                                                                  \n",
            " dropout (Dropout)              (None, 128)          0           ['dense[0][0]']                  \n",
            "                                                                                                  \n",
            " out (Dense)                    (None, 7387)         952923      ['dropout[0][0]']                \n",
            "                                                                                                  \n",
            "==================================================================================================\n",
            "Total params: 1,153,499\n",
            "Trainable params: 1,153,499\n",
            "Non-trainable params: 0\n",
            "__________________________________________________________________________________________________\n",
            "None\n",
            "Epoch 1/50\n",
            "4716/4716 [==============================] - 54s 9ms/step - loss: 5.6730 - val_loss: 5.5558 - lr: 0.0010\n",
            "Epoch 2/50\n",
            "4716/4716 [==============================] - 40s 9ms/step - loss: 5.2981 - val_loss: 5.4830 - lr: 0.0010\n",
            "Epoch 3/50\n",
            "4716/4716 [==============================] - 40s 9ms/step - loss: 5.1409 - val_loss: 5.5019 - lr: 0.0010\n",
            "Epoch 4/50\n",
            "4716/4716 [==============================] - 40s 9ms/step - loss: 5.0351 - val_loss: 5.5118 - lr: 0.0010\n",
            "Epoch 5/50\n",
            "4716/4716 [==============================] - 41s 9ms/step - loss: 4.9646 - val_loss: 5.5605 - lr: 0.0010\n",
            "Epoch 6/50\n",
            "4716/4716 [==============================] - 40s 9ms/step - loss: 4.9087 - val_loss: 5.5549 - lr: 0.0010\n",
            "Epoch 7/50\n",
            "4713/4716 [============================>.] - ETA: 0s - loss: 4.8666\n",
            "Epoch 7: ReduceLROnPlateau reducing learning rate to 0.0005000000237487257.\n",
            "4716/4716 [==============================] - 40s 9ms/step - loss: 4.8667 - val_loss: 5.5500 - lr: 0.0010\n",
            "Epoch 8/50\n",
            "4716/4716 [==============================] - 40s 9ms/step - loss: 4.8188 - val_loss: 5.5576 - lr: 5.0000e-04\n",
            "Epoch 9/50\n",
            "4716/4716 [==============================] - 40s 9ms/step - loss: 4.7953 - val_loss: 5.5604 - lr: 5.0000e-04\n",
            "Epoch 10/50\n",
            "4716/4716 [==============================] - 40s 9ms/step - loss: 4.7774 - val_loss: 5.5405 - lr: 5.0000e-04\n",
            "Epoch 11/50\n",
            "4716/4716 [==============================] - 40s 9ms/step - loss: 4.7616 - val_loss: 5.5405 - lr: 5.0000e-04\n",
            "Epoch 12/50\n",
            "4715/4716 [============================>.] - ETA: 0s - loss: 4.7433\n",
            "Epoch 12: ReduceLROnPlateau reducing learning rate to 0.0002500000118743628.\n",
            "4716/4716 [==============================] - 40s 9ms/step - loss: 4.7432 - val_loss: 5.5520 - lr: 5.0000e-04\n",
            "Epoch 13/50\n",
            "4716/4716 [==============================] - 41s 9ms/step - loss: 4.7209 - val_loss: 5.5699 - lr: 2.5000e-04\n",
            "Epoch 14/50\n",
            "4716/4716 [==============================] - 41s 9ms/step - loss: 4.7140 - val_loss: 5.5703 - lr: 2.5000e-04\n",
            "Epoch 15/50\n",
            "4716/4716 [==============================] - 40s 9ms/step - loss: 4.7096 - val_loss: 5.5593 - lr: 2.5000e-04\n",
            "Epoch 16/50\n",
            "4716/4716 [==============================] - 40s 9ms/step - loss: 4.7008 - val_loss: 5.5753 - lr: 2.5000e-04\n",
            "Epoch 17/50\n",
            "4716/4716 [==============================] - ETA: 0s - loss: 4.6927\n",
            "Epoch 17: ReduceLROnPlateau reducing learning rate to 0.0001250000059371814.\n",
            "4716/4716 [==============================] - 40s 9ms/step - loss: 4.6927 - val_loss: 5.5684 - lr: 2.5000e-04\n",
            "Epoch 18/50\n",
            "4716/4716 [==============================] - 40s 9ms/step - loss: 4.6824 - val_loss: 5.5715 - lr: 1.2500e-04\n",
            "Epoch 19/50\n",
            "4716/4716 [==============================] - 40s 9ms/step - loss: 4.6778 - val_loss: 5.5731 - lr: 1.2500e-04\n",
            "Epoch 20/50\n",
            "4716/4716 [==============================] - 40s 9ms/step - loss: 4.6753 - val_loss: 5.5653 - lr: 1.2500e-04\n",
            "Epoch 21/50\n",
            "4716/4716 [==============================] - 41s 9ms/step - loss: 4.6724 - val_loss: 5.5797 - lr: 1.2500e-04\n",
            "Epoch 22/50\n",
            "4716/4716 [==============================] - ETA: 0s - loss: 4.6688\n",
            "Epoch 22: ReduceLROnPlateau reducing learning rate to 6.25000029685907e-05.\n",
            "4716/4716 [==============================] - 41s 9ms/step - loss: 4.6688 - val_loss: 5.5798 - lr: 1.2500e-04\n",
            "Epoch 22: early stopping\n"
          ]
        },
        {
          "output_type": "display_data",
          "data": {
            "text/plain": [
              "<Figure size 432x288 with 1 Axes>"
            ],
            "image/png": "[encoded data removed]"
          },
          "metadata": {
            "needs_background": "light"
          }
        }
      ]
    },
    {
      "cell_type": "markdown",
      "source": [
        "### Model per word"
      ],
      "metadata": {
        "id": "fPf4ZVlX9QW4"
      }
    },
    {
      "cell_type": "code",
      "source": [
        "train_x_y = get_X_Y(train, num_of_words ,'melody_per_word')\n",
        "val_x_y = get_X_Y(val, num_of_words,'melody_per_word')\n",
        "model_per_word = creat_model(melody_vec_size=4, window_size=1, lyrics_vec_size=w2v_size, max_num_of_words=num_of_words)\n",
        "model_melody_per_word, history_melody_per_word = train_model('melody_per_word',\n",
        "                                                         model_per_word, \n",
        "                                                         train_x_y, \n",
        "                                                         val_x_y, \n",
        "                                                         params_dict=params)\n",
        "del(train_x_y)\n",
        "del(val_x_y)\n",
        "\n",
        "plot_loss(history_melody_per_word)"
      ],
      "metadata": {
        "colab": {
          "base_uri": "https://localhost:8080/",
          "height": 1000
        },
        "id": "pBS66VbaESfw",
        "outputId": "2ee53075-d2d0-4fa3-86bb-b92d0767009c"
      },
      "execution_count": null,
      "outputs": [
        {
          "output_type": "stream",
          "name": "stdout",
          "text": [
            "Epoch 1/50\n",
            "4122/4122 [==============================] - 36s 8ms/step - loss: 5.6066 - val_loss: 5.4908 - lr: 0.0010\n",
            "Epoch 2/50\n",
            "4122/4122 [==============================] - 29s 7ms/step - loss: 5.2062 - val_loss: 5.3979 - lr: 0.0010\n",
            "Epoch 3/50\n",
            "4122/4122 [==============================] - 29s 7ms/step - loss: 4.9971 - val_loss: 5.3862 - lr: 0.0010\n",
            "Epoch 4/50\n",
            "4122/4122 [==============================] - 29s 7ms/step - loss: 4.8509 - val_loss: 5.4008 - lr: 0.0010\n",
            "Epoch 5/50\n",
            "4122/4122 [==============================] - 29s 7ms/step - loss: 4.7473 - val_loss: 5.4174 - lr: 0.0010\n",
            "Epoch 6/50\n",
            "4122/4122 [==============================] - 30s 7ms/step - loss: 4.6736 - val_loss: 5.4285 - lr: 0.0010\n",
            "Epoch 7/50\n",
            "4122/4122 [==============================] - 30s 7ms/step - loss: 4.6119 - val_loss: 5.4371 - lr: 0.0010\n",
            "Epoch 8/50\n",
            "4115/4122 [============================>.] - ETA: 0s - loss: 4.5646\n",
            "Epoch 8: ReduceLROnPlateau reducing learning rate to 0.0005000000237487257.\n",
            "4122/4122 [==============================] - 30s 7ms/step - loss: 4.5646 - val_loss: 5.4697 - lr: 0.0010\n",
            "Epoch 9/50\n",
            "4122/4122 [==============================] - 30s 7ms/step - loss: 4.5114 - val_loss: 5.4844 - lr: 5.0000e-04\n",
            "Epoch 10/50\n",
            "4122/4122 [==============================] - 30s 7ms/step - loss: 4.4880 - val_loss: 5.5049 - lr: 5.0000e-04\n",
            "Epoch 11/50\n",
            "4122/4122 [==============================] - 30s 7ms/step - loss: 4.4710 - val_loss: 5.5197 - lr: 5.0000e-04\n",
            "Epoch 12/50\n",
            "4122/4122 [==============================] - 29s 7ms/step - loss: 4.4559 - val_loss: 5.5473 - lr: 5.0000e-04\n",
            "Epoch 13/50\n",
            "4116/4122 [============================>.] - ETA: 0s - loss: 4.4398\n",
            "Epoch 13: ReduceLROnPlateau reducing learning rate to 0.0002500000118743628.\n",
            "4122/4122 [==============================] - 30s 7ms/step - loss: 4.4396 - val_loss: 5.5202 - lr: 5.0000e-04\n",
            "Epoch 14/50\n",
            "4122/4122 [==============================] - 30s 7ms/step - loss: 4.4158 - val_loss: 5.5460 - lr: 2.5000e-04\n",
            "Epoch 15/50\n",
            "4122/4122 [==============================] - 29s 7ms/step - loss: 4.4086 - val_loss: 5.5320 - lr: 2.5000e-04\n",
            "Epoch 16/50\n",
            "4122/4122 [==============================] - 29s 7ms/step - loss: 4.4008 - val_loss: 5.5502 - lr: 2.5000e-04\n",
            "Epoch 17/50\n",
            "4122/4122 [==============================] - 29s 7ms/step - loss: 4.3946 - val_loss: 5.5541 - lr: 2.5000e-04\n",
            "Epoch 18/50\n",
            "4116/4122 [============================>.] - ETA: 0s - loss: 4.3871\n",
            "Epoch 18: ReduceLROnPlateau reducing learning rate to 0.0001250000059371814.\n",
            "4122/4122 [==============================] - 29s 7ms/step - loss: 4.3869 - val_loss: 5.5623 - lr: 2.5000e-04\n",
            "Epoch 19/50\n",
            "4122/4122 [==============================] - 29s 7ms/step - loss: 4.3760 - val_loss: 5.5741 - lr: 1.2500e-04\n",
            "Epoch 20/50\n",
            "4122/4122 [==============================] - 29s 7ms/step - loss: 4.3727 - val_loss: 5.5645 - lr: 1.2500e-04\n",
            "Epoch 21/50\n",
            "4122/4122 [==============================] - 29s 7ms/step - loss: 4.3691 - val_loss: 5.5628 - lr: 1.2500e-04\n",
            "Epoch 22/50\n",
            "4122/4122 [==============================] - 29s 7ms/step - loss: 4.3662 - val_loss: 5.5731 - lr: 1.2500e-04\n",
            "Epoch 23/50\n",
            "4115/4122 [============================>.] - ETA: 0s - loss: 4.3651\n",
            "Epoch 23: ReduceLROnPlateau reducing learning rate to 6.25000029685907e-05.\n",
            "4122/4122 [==============================] - 29s 7ms/step - loss: 4.3655 - val_loss: 5.5722 - lr: 1.2500e-04\n",
            "Epoch 23: early stopping\n"
          ]
        },
        {
          "output_type": "display_data",
          "data": {
            "text/plain": [
              "<Figure size 432x288 with 1 Axes>"
            ],
            "image/png": "[encoded data removed]"
          },
          "metadata": {
            "needs_background": "light"
          }
        }
      ]
    },
    {
      "cell_type": "markdown",
      "source": [
        "# Songs Generator"
      ],
      "metadata": {
        "id": "-PDo2rpcYA0K"
      }
    },
    {
      "cell_type": "code",
      "source": [
        "from keras.preprocessing.text import Tokenizer\n",
        "tokenizer = Tokenizer()\n",
        "tokenizer.fit_on_texts(tokenized_lyrics)"
      ],
      "metadata": {
        "id": "8L1_RJpPzehI"
      },
      "execution_count": null,
      "outputs": []
    },
    {
      "cell_type": "code",
      "source": [
        "def generate_next_word(model, word, melody_vec, num_of_words):\n",
        "    embedding = w2v_model.wv[word]\n",
        "    probs = model.predict((melody_vec.reshape(1, 1, melody_vec.shape[0]), embedding.reshape(1, 1, embedding.shape[0])))\n",
        "    probs = np.asarray(probs).astype('float64')\n",
        "    probs /= np.sum(probs)\n",
        "    chosen_idx = np.random.choice(range(0, num_of_words), p=probs[0])\n",
        "    # chosen_idx = np.argmax(probs)\n",
        "    chosen_word = inverse_tokens_encoding_dict[chosen_idx]\n",
        "    return chosen_idx, chosen_word\n",
        "\n",
        "def get_melody_vec(preprocess_type, idx, melody):\n",
        "  # if preprocess_type == \"entire_melody\":\n",
        "  return melody[idx]\n",
        "  # else:\n",
        "    # return None\n",
        "\n",
        "def generate_song(model, melody, word, window_size, tokenizer, max_song_len, preprocess_type=\"entire_melody\"):\n",
        "  word = preprocess_word(word.lower())[0]\n",
        "  song = []\n",
        "\n",
        "  i = 0\n",
        "\n",
        "  while i < max_song_len:\n",
        "      song.append(word)\n",
        "      i+=1\n",
        "      melody_vec = get_melody_vec(preprocess_type, i, melody)\n",
        "      idx, word = generate_next_word(model, word, melody_vec, num_of_words)\n",
        "  return ' '.join(song)"
      ],
      "metadata": {
        "id": "PSNv3QtuycKD"
      },
      "execution_count": null,
      "outputs": []
    },
    {
      "cell_type": "code",
      "source": [
        "def generate_songs_test(model, test_set, first_word=None, melody_type='melody_per_word'):\n",
        "  for index, row in test_set.iterrows():\n",
        "    init_word = first_word if first_word else row['Lyrics'].split()[0]\n",
        "    (embedding, melody_vec), y = get_X_Y(pd.DataFrame(row).T, num_of_words, melody_type)\n",
        "    song = generate_song(model, melody_vec, init_word, window_size=1, tokenizer=tokenizer, max_song_len=50, preprocess_type=\"entire_melody\")\n",
        "    pretty_song = pretty_lyrics(song)\n",
        "    print(row)\n",
        "    print(pretty_song)\n",
        "    print(\"#######\")"
      ],
      "metadata": {
        "id": "2Pf1NAo1RKSG"
      },
      "execution_count": null,
      "outputs": []
    },
    {
      "cell_type": "code",
      "source": [
        ""
      ],
      "metadata": {
        "id": "GuZJbyUN1z__"
      },
      "execution_count": null,
      "outputs": []
    },
    {
      "cell_type": "markdown",
      "source": [
        "## melody representation - the entire melody\n"
      ],
      "metadata": {
        "id": "3fDVbXtbfenI"
      }
    },
    {
      "cell_type": "code",
      "source": [
        "word = \"your\"\n",
        "(embedding, melody_vec), y = get_X_Y(pd.DataFrame(val.iloc[0]).T, num_of_words,'full_melody')\n",
        "generate_song(model_entire_melody, melody_vec, word, window_size=1, tokenizer=tokenizer, max_song_len=50, preprocess_type=\"entire_melody\")"
      ],
      "metadata": {
        "id": "mMsXMFTJcA3h",
        "colab": {
          "base_uri": "https://localhost:8080/",
          "height": 53
        },
        "outputId": "e798d81c-1cb0-4242-b70d-3fa20dd3b17a"
      },
      "execution_count": null,
      "outputs": [
        {
          "output_type": "execute_result",
          "data": {
            "text/plain": [
              "'your cares for the air & old lives to see i play to make again i are put them all by i turn this to talk you one is killing think you own in this all around what they are like born & now & all it times that do'"
            ],
            "application/vnd.google.colaboratory.intrinsic+json": {
              "type": "string"
            }
          },
          "metadata": {},
          "execution_count": 30
        }
      ]
    },
    {
      "cell_type": "markdown",
      "source": [
        "### First word: the original one\n",
        "\n"
      ],
      "metadata": {
        "id": "D8gYAIjnfmL4"
      }
    },
    {
      "cell_type": "code",
      "source": [
        "generate_songs_test(model_entire_melody, test_set, first_word=None, melody_type='full_melody')"
      ],
      "metadata": {
        "id": "LIZs_hCmcNjh",
        "colab": {
          "base_uri": "https://localhost:8080/"
        },
        "outputId": "57c9d2fe-ac85-4ae3-9d63-4bb4ad1b972d"
      },
      "execution_count": null,
      "outputs": [
        {
          "output_type": "stream",
          "name": "stdout",
          "text": [
            "close to \n",
            "\n",
            " i am you \n",
            "\n",
            " so mellow christmas bitch \n",
            "\n",
            " it quite you can be the air your lips \n",
            "\n",
            " my voice of time \n",
            "\n",
            " tonight \n",
            "\n",
            " there is looking baby baby yeah \n",
            "\n",
            " no more tears strong \n",
            "\n",
            " what i give me every \n",
            "\n",
            " i did notSinger                                                    the bangles\n",
            "Song Name                                               eternal flame\n",
            "Lyrics               close your eyes give me your hand darling & d...\n",
            "Midi File                             The_Bangles_-_Eternal_Flame.mid\n",
            "tokenized_lyrics    [close, your, eyes, give, me, your, hand, darl...\n",
            "embeddins           [[0.05264265, -0.17516586, 0.09501888, -0.2266...\n",
            "full_melody         [0.0, 0.0, 0.0, 0.0, 0.0, 0.0, 0.0, 0.0, 0.0, ...\n",
            "melody_per_word     [[1.18, 1.13, 1.13, 1.18], [1.18, 1.18, 1.06, ...\n",
            "Name: 0, dtype: object\n",
            "None\n",
            "#######\n",
            "if do \n",
            "\n",
            " in life through his apartment \n",
            "\n",
            " laugh \n",
            "\n",
            " better i am want out in mine \n",
            "\n",
            " five \n",
            "\n",
            " what you all with \n",
            "\n",
            " you just fallen and left to the desert \n",
            "\n",
            " it \n",
            "\n",
            " another gold teacher about who bad \n",
            "\n",
            " we are you believe they turnSinger                                                     billy joel\n",
            "Song Name                                                     honesty\n",
            "Lyrics               if you search for tenderness & it isn't hard ...\n",
            "Midi File                                    Billy_Joel_-_Honesty.mid\n",
            "tokenized_lyrics    [if, you, search, for, tenderness, &, it, is, ...\n",
            "embeddins           [[0.22641602, -0.44396758, 0.38840818, -0.3736...\n",
            "full_melody         [0.0, 0.0, 0.0, 0.0, 0.0, 0.0, 0.0, 0.0, 0.0, ...\n",
            "melody_per_word     [[0.79, 0.79, 0.79, 0.79], [0.79, 0.0, 0.0, 0....\n",
            "Name: 1, dtype: object\n",
            "None\n",
            "#######\n",
            "dear your mind is your time \n",
            "\n",
            " victim and soon you mister we make me \n",
            "\n",
            " ooh \n",
            "\n",
            " i was you needed let me \n",
            "\n",
            " i am one \n",
            "\n",
            " and i am \n",
            "\n",
            " all he be home money \n",
            "\n",
            " that ole and that will not show i will save thatSinger                                                      cardigans\n",
            "Song Name                                                    lovefool\n",
            "Lyrics               dear i fear we're facing a problem & you love...\n",
            "Midi File                                    Cardigans_-_Lovefool.mid\n",
            "tokenized_lyrics    [dear, i, fear, we, are, facing, a, problem, &...\n",
            "embeddins           [[0.011011937, -0.07535408, 0.031103957, -0.14...\n",
            "full_melody         [0.0, 0.0, 0.0, 0.0, 0.0, 0.0, 0.0, 0.0, 0.0, ...\n",
            "melody_per_word     [[0.7873333333333334, 0.7975, 0.78733333333333...\n",
            "Name: 2, dtype: object\n",
            "None\n",
            "#######\n",
            "hiya your way you feel you \n",
            "\n",
            " and the indecisions 's the sun \n",
            "\n",
            " on oh \n",
            "\n",
            " for \n",
            "\n",
            " and i were i want to really takes tonight \n",
            "\n",
            " you are all i can not really i love to show \n",
            "\n",
            " the roof on his fun that you just weSinger                                                           aqua\n",
            "Song Name                                                 barbie girl\n",
            "Lyrics               hiya barbie & hi ken! & do you want to go for...\n",
            "Midi File                                      Aqua_-_Barbie_Girl.mid\n",
            "tokenized_lyrics    [hiya, barbie, &, hi, ken, &, do, you, want, t...\n",
            "embeddins           [[-0.0024244355, -0.0012489, -0.0011380677, -0...\n",
            "full_melody         [0.0, 0.0, 0.0, 0.0, 0.0, 0.0, 0.0, 0.0, 0.0, ...\n",
            "melody_per_word     [[0.64, 0.64, 0.64, 0.715], [0.715, 0.6725, 0....\n",
            "Name: 3, dtype: object\n",
            "None\n",
            "#######\n",
            "all it is free \n",
            "\n",
            " c'mon \n",
            "\n",
            " let me them i will hold again \n",
            "\n",
            " trying \n",
            "\n",
            " run the same you home \n",
            "\n",
            " let me up \n",
            "\n",
            " a woman on your ass smoke \n",
            "\n",
            " every dimension breaking die much your living baby \n",
            "\n",
            " and me \n",
            "\n",
            " it are startin \n",
            "\n",
            "Singer                                                      blink 182\n",
            "Song Name                                        all the small things\n",
            "Lyrics               all the small things & true care truth brings...\n",
            "Midi File                        Blink_182_-_All_the_Small_Things.mid\n",
            "tokenized_lyrics    [all, the, small, things, &, true, care, truth...\n",
            "embeddins           [[0.099970095, -0.44439435, 0.1953827, -0.4839...\n",
            "full_melody         [0.0, 0.0, 0.0, 0.0, 0.0, 0.0, 0.0, 0.0, 0.0, ...\n",
            "melody_per_word     [[1.27, 1.27, 1.27, 1.27], [1.27, 1.27, 1.27, ...\n",
            "Name: 4, dtype: object\n",
            "None\n",
            "#######\n"
          ]
        }
      ]
    },
    {
      "cell_type": "markdown",
      "source": [
        "### First word: \"love\""
      ],
      "metadata": {
        "id": "rcA5mAWMghsg"
      }
    },
    {
      "cell_type": "code",
      "source": [
        "generate_songs_test(model_entire_melody, test_set, first_word=\"Love\",melody_type='full_melody')"
      ],
      "metadata": {
        "id": "JmZTzI1RfpRB",
        "colab": {
          "base_uri": "https://localhost:8080/"
        },
        "outputId": "77469eaa-8c53-4494-f761-35be31ef2b7a"
      },
      "execution_count": null,
      "outputs": [
        {
          "output_type": "stream",
          "name": "stdout",
          "text": [
            "love i am like the dream \n",
            "\n",
            " see is dear it you are going to feel me somebody when you have you could be i think a letter to lean to say \n",
            "\n",
            " the keys days coz \n",
            "\n",
            " true you do not you this hot before \n",
            "\n",
            " you what isSinger                                                    the bangles\n",
            "Song Name                                               eternal flame\n",
            "Lyrics               close your eyes give me your hand darling & d...\n",
            "Midi File                             The_Bangles_-_Eternal_Flame.mid\n",
            "tokenized_lyrics    [close, your, eyes, give, me, your, hand, darl...\n",
            "embeddins           [[0.05264265, -0.17516586, 0.09501888, -0.2266...\n",
            "full_melody         [0.0, 0.0, 0.0, 0.0, 0.0, 0.0, 0.0, 0.0, 0.0, ...\n",
            "melody_per_word     [[1.18, 1.13, 1.13, 1.18], [1.18, 1.18, 1.06, ...\n",
            "Name: 0, dtype: object\n",
            "None\n",
            "#######\n",
            "love was always be the game with the line \n",
            "\n",
            " when bad \n",
            "\n",
            " people stall in his room \n",
            "\n",
            " you reach \n",
            "\n",
            " because i got wrong i want to try like many closer oh oh yeah \n",
            "\n",
            " you in the times this color in my life \n",
            "\n",
            " and i willSinger                                                     billy joel\n",
            "Song Name                                                     honesty\n",
            "Lyrics               if you search for tenderness & it isn't hard ...\n",
            "Midi File                                    Billy_Joel_-_Honesty.mid\n",
            "tokenized_lyrics    [if, you, search, for, tenderness, &, it, is, ...\n",
            "embeddins           [[0.22641602, -0.44396758, 0.38840818, -0.3736...\n",
            "full_melody         [0.0, 0.0, 0.0, 0.0, 0.0, 0.0, 0.0, 0.0, 0.0, ...\n",
            "melody_per_word     [[0.79, 0.79, 0.79, 0.79], [0.79, 0.0, 0.0, 0....\n",
            "Name: 1, dtype: object\n",
            "None\n",
            "#######\n",
            "love to not found for that i see i have to me i swear to dance in all looked is been what happens is the ground \n",
            "\n",
            " oh just his to turn but you might \n",
            "\n",
            " is not ever it does you smile \n",
            "\n",
            " but i believe i have toSinger                                                      cardigans\n",
            "Song Name                                                    lovefool\n",
            "Lyrics               dear i fear we're facing a problem & you love...\n",
            "Midi File                                    Cardigans_-_Lovefool.mid\n",
            "tokenized_lyrics    [dear, i, fear, we, are, facing, a, problem, &...\n",
            "embeddins           [[0.011011937, -0.07535408, 0.031103957, -0.14...\n",
            "full_melody         [0.0, 0.0, 0.0, 0.0, 0.0, 0.0, 0.0, 0.0, 0.0, ...\n",
            "melody_per_word     [[0.7873333333333334, 0.7975, 0.78733333333333...\n",
            "Name: 2, dtype: object\n",
            "None\n",
            "#######\n",
            "love the mornin would be feel it is no can not do not even we \n",
            "\n",
            " we will far of town with you \n",
            "\n",
            " i am the \n",
            "\n",
            " hear say that we call \n",
            "\n",
            " it is bad me \n",
            "\n",
            " it are only job my life \n",
            "\n",
            " i do the tropicSinger                                                           aqua\n",
            "Song Name                                                 barbie girl\n",
            "Lyrics               hiya barbie & hi ken! & do you want to go for...\n",
            "Midi File                                      Aqua_-_Barbie_Girl.mid\n",
            "tokenized_lyrics    [hiya, barbie, &, hi, ken, &, do, you, want, t...\n",
            "embeddins           [[-0.0024244355, -0.0012489, -0.0011380677, -0...\n",
            "full_melody         [0.0, 0.0, 0.0, 0.0, 0.0, 0.0, 0.0, 0.0, 0.0, ...\n",
            "melody_per_word     [[0.64, 0.64, 0.64, 0.715], [0.715, 0.6725, 0....\n",
            "Name: 3, dtype: object\n",
            "None\n",
            "#######\n",
            "love a open places \n",
            "\n",
            " now \n",
            "\n",
            " of \n",
            "\n",
            " are where \n",
            "\n",
            " mr. to be with baby do it \n",
            "\n",
            " oh you \n",
            "\n",
            " check \n",
            "\n",
            " tell me be came \n",
            "\n",
            " we heard not matter what love it was standin of low i said some you in me go you andSinger                                                      blink 182\n",
            "Song Name                                        all the small things\n",
            "Lyrics               all the small things & true care truth brings...\n",
            "Midi File                        Blink_182_-_All_the_Small_Things.mid\n",
            "tokenized_lyrics    [all, the, small, things, &, true, care, truth...\n",
            "embeddins           [[0.099970095, -0.44439435, 0.1953827, -0.4839...\n",
            "full_melody         [0.0, 0.0, 0.0, 0.0, 0.0, 0.0, 0.0, 0.0, 0.0, ...\n",
            "melody_per_word     [[1.27, 1.27, 1.27, 1.27], [1.27, 1.27, 1.27, ...\n",
            "Name: 4, dtype: object\n",
            "None\n",
            "#######\n"
          ]
        }
      ]
    },
    {
      "cell_type": "markdown",
      "source": [
        "### First word: \"baby\""
      ],
      "metadata": {
        "id": "VBZV5LKQf4Q6"
      }
    },
    {
      "cell_type": "code",
      "source": [
        "generate_songs_test(model_entire_melody, test_set, first_word=\"baby\",melody_type='full_melody')"
      ],
      "metadata": {
        "id": "Q-3yHoW3gA0d",
        "colab": {
          "base_uri": "https://localhost:8080/"
        },
        "outputId": "6fba1dba-f446-4ceb-aa07-7081ba0dfe86"
      },
      "execution_count": null,
      "outputs": [
        {
          "output_type": "stream",
          "name": "stdout",
          "text": [
            "baby again it will not a apartment i am right she ever i want it late girl everything to dance under like they wonder a song right we both \n",
            "\n",
            " and i will be it snow and if i just your do not so not hurt here just no isSinger                                                    the bangles\n",
            "Song Name                                               eternal flame\n",
            "Lyrics               close your eyes give me your hand darling & d...\n",
            "Midi File                             The_Bangles_-_Eternal_Flame.mid\n",
            "tokenized_lyrics    [close, your, eyes, give, me, your, hand, darl...\n",
            "embeddins           [[0.05264265, -0.17516586, 0.09501888, -0.2266...\n",
            "full_melody         [0.0, 0.0, 0.0, 0.0, 0.0, 0.0, 0.0, 0.0, 0.0, ...\n",
            "melody_per_word     [[1.18, 1.13, 1.13, 1.18], [1.18, 1.18, 1.06, ...\n",
            "Name: 0, dtype: object\n",
            "None\n",
            "#######\n",
            "baby i do you got hard again \n",
            "\n",
            " from day \n",
            "\n",
            " ja me cut by until then love it for me tell divides \n",
            "\n",
            " alright in the years was thing my door way it that for comin \n",
            "\n",
            " does we saw in hell \n",
            "\n",
            " crept door me \n",
            "\n",
            " singing \n",
            "\n",
            "Singer                                                     billy joel\n",
            "Song Name                                                     honesty\n",
            "Lyrics               if you search for tenderness & it isn't hard ...\n",
            "Midi File                                    Billy_Joel_-_Honesty.mid\n",
            "tokenized_lyrics    [if, you, search, for, tenderness, &, it, is, ...\n",
            "embeddins           [[0.22641602, -0.44396758, 0.38840818, -0.3736...\n",
            "full_melody         [0.0, 0.0, 0.0, 0.0, 0.0, 0.0, 0.0, 0.0, 0.0, ...\n",
            "melody_per_word     [[0.79, 0.79, 0.79, 0.79], [0.79, 0.0, 0.0, 0....\n",
            "Name: 1, dtype: object\n",
            "None\n",
            "#######\n",
            "baby i have want to show she was i will be would another side to hear you could of the cake \n",
            "\n",
            " we do not you already \n",
            "\n",
            " it \n",
            "\n",
            " and it for me \n",
            "\n",
            " uptown your body would buy \n",
            "\n",
            " and i do not be free oh yeah yeahSinger                                                      cardigans\n",
            "Song Name                                                    lovefool\n",
            "Lyrics               dear i fear we're facing a problem & you love...\n",
            "Midi File                                    Cardigans_-_Lovefool.mid\n",
            "tokenized_lyrics    [dear, i, fear, we, are, facing, a, problem, &...\n",
            "embeddins           [[0.011011937, -0.07535408, 0.031103957, -0.14...\n",
            "full_melody         [0.0, 0.0, 0.0, 0.0, 0.0, 0.0, 0.0, 0.0, 0.0, ...\n",
            "melody_per_word     [[0.7873333333333334, 0.7975, 0.78733333333333...\n",
            "Name: 2, dtype: object\n",
            "None\n",
            "#######\n",
            "baby this long \n",
            "\n",
            " still by night \n",
            "\n",
            " you \n",
            "\n",
            " to answer cold boys of my daisy you happy inside \n",
            "\n",
            " you were now that do not nothing you oh \n",
            "\n",
            " lost it all again it \n",
            "\n",
            " we feel the clouds \n",
            "\n",
            " with my heart we drank you give ifSinger                                                           aqua\n",
            "Song Name                                                 barbie girl\n",
            "Lyrics               hiya barbie & hi ken! & do you want to go for...\n",
            "Midi File                                      Aqua_-_Barbie_Girl.mid\n",
            "tokenized_lyrics    [hiya, barbie, &, hi, ken, &, do, you, want, t...\n",
            "embeddins           [[-0.0024244355, -0.0012489, -0.0011380677, -0...\n",
            "full_melody         [0.0, 0.0, 0.0, 0.0, 0.0, 0.0, 0.0, 0.0, 0.0, ...\n",
            "melody_per_word     [[0.64, 0.64, 0.64, 0.715], [0.715, 0.6725, 0....\n",
            "Name: 3, dtype: object\n",
            "None\n",
            "#######\n",
            "baby i do \n",
            "\n",
            " nitro what not sit foot \n",
            "\n",
            " slim planetary that you only bad of me baby your shoulder stormy so \n",
            "\n",
            " to you do not talk that would be is going to know the workin drop \n",
            "\n",
            " there because i feel you know i make it isSinger                                                      blink 182\n",
            "Song Name                                        all the small things\n",
            "Lyrics               all the small things & true care truth brings...\n",
            "Midi File                        Blink_182_-_All_the_Small_Things.mid\n",
            "tokenized_lyrics    [all, the, small, things, &, true, care, truth...\n",
            "embeddins           [[0.099970095, -0.44439435, 0.1953827, -0.4839...\n",
            "full_melody         [0.0, 0.0, 0.0, 0.0, 0.0, 0.0, 0.0, 0.0, 0.0, ...\n",
            "melody_per_word     [[1.27, 1.27, 1.27, 1.27], [1.27, 1.27, 1.27, ...\n",
            "Name: 4, dtype: object\n",
            "None\n",
            "#######\n"
          ]
        }
      ]
    },
    {
      "cell_type": "markdown",
      "source": [
        "### First word: \"happy\""
      ],
      "metadata": {
        "id": "BAqJJ3bUgGis"
      }
    },
    {
      "cell_type": "code",
      "source": [
        "generate_songs_test(model_entire_melody, test_set, first_word=\"happy\", melody_type='full_melody')"
      ],
      "metadata": {
        "colab": {
          "base_uri": "https://localhost:8080/"
        },
        "id": "vjjGvPv4gOhg",
        "outputId": "5d9e49fd-bd09-4146-ecae-f4cb48c09f93"
      },
      "execution_count": null,
      "outputs": [
        {
          "output_type": "stream",
          "name": "stdout",
          "text": [
            "happy they want to your clown to provide and believe in a genie more times same \n",
            "\n",
            " i ever afraid me \n",
            "\n",
            " duke \n",
            "\n",
            " two to pay is clear \n",
            "\n",
            " love me the line \n",
            "\n",
            " a trash he do not out of the world for me the thing \n",
            "\n",
            " iSinger                                                    the bangles\n",
            "Song Name                                               eternal flame\n",
            "Lyrics               close your eyes give me your hand darling & d...\n",
            "Midi File                             The_Bangles_-_Eternal_Flame.mid\n",
            "tokenized_lyrics    [close, your, eyes, give, me, your, hand, darl...\n",
            "embeddins           [[0.05264265, -0.17516586, 0.09501888, -0.2266...\n",
            "full_melody         [0.0, 0.0, 0.0, 0.0, 0.0, 0.0, 0.0, 0.0, 0.0, ...\n",
            "melody_per_word     [[1.18, 1.13, 1.13, 1.18], [1.18, 1.18, 1.06, ...\n",
            "Name: 0, dtype: object\n",
            "None\n",
            "#######\n",
            "happy i am the music are always looks \n",
            "\n",
            " it when the kiss \n",
            "\n",
            " we heard me up it all my mind \n",
            "\n",
            " ten need me to try \n",
            "\n",
            " i need a victim \n",
            "\n",
            " quit to take to pray me \n",
            "\n",
            " to hold stand \n",
            "\n",
            " there never you see muchSinger                                                     billy joel\n",
            "Song Name                                                     honesty\n",
            "Lyrics               if you search for tenderness & it isn't hard ...\n",
            "Midi File                                    Billy_Joel_-_Honesty.mid\n",
            "tokenized_lyrics    [if, you, search, for, tenderness, &, it, is, ...\n",
            "embeddins           [[0.22641602, -0.44396758, 0.38840818, -0.3736...\n",
            "full_melody         [0.0, 0.0, 0.0, 0.0, 0.0, 0.0, 0.0, 0.0, 0.0, ...\n",
            "melody_per_word     [[0.79, 0.79, 0.79, 0.79], [0.79, 0.0, 0.0, 0....\n",
            "Name: 1, dtype: object\n",
            "None\n",
            "#######\n",
            "happy this something fallen a love \n",
            "\n",
            " i want to take you cried the levee up your hands days on the day life right with love that \n",
            "\n",
            " with i have i feel that scared \n",
            "\n",
            " i will talk it is got for the days \n",
            "\n",
            " she is die allSinger                                                      cardigans\n",
            "Song Name                                                    lovefool\n",
            "Lyrics               dear i fear we're facing a problem & you love...\n",
            "Midi File                                    Cardigans_-_Lovefool.mid\n",
            "tokenized_lyrics    [dear, i, fear, we, are, facing, a, problem, &...\n",
            "embeddins           [[0.011011937, -0.07535408, 0.031103957, -0.14...\n",
            "full_melody         [0.0, 0.0, 0.0, 0.0, 0.0, 0.0, 0.0, 0.0, 0.0, ...\n",
            "melody_per_word     [[0.7873333333333334, 0.7975, 0.78733333333333...\n",
            "Name: 2, dtype: object\n",
            "None\n",
            "#######\n",
            "happy our aubrey \n",
            "\n",
            " west singen and you will have alone believe not seem money and i am here \n",
            "\n",
            " if you are given \n",
            "\n",
            " no the side \n",
            "\n",
            " i am going to me \n",
            "\n",
            " i do ... good go ... \n",
            "\n",
            " just mine the days \n",
            "\n",
            " you happy ofSinger                                                           aqua\n",
            "Song Name                                                 barbie girl\n",
            "Lyrics               hiya barbie & hi ken! & do you want to go for...\n",
            "Midi File                                      Aqua_-_Barbie_Girl.mid\n",
            "tokenized_lyrics    [hiya, barbie, &, hi, ken, &, do, you, want, t...\n",
            "embeddins           [[-0.0024244355, -0.0012489, -0.0011380677, -0...\n",
            "full_melody         [0.0, 0.0, 0.0, 0.0, 0.0, 0.0, 0.0, 0.0, 0.0, ...\n",
            "melody_per_word     [[0.64, 0.64, 0.64, 0.715], [0.715, 0.6725, 0....\n",
            "Name: 3, dtype: object\n",
            "None\n",
            "#######\n",
            "happy at \n",
            "\n",
            " ooh whey woman with your love they are going to everyone upon another things \n",
            "\n",
            " because it is not belong your time else to be you got me \n",
            "\n",
            " got her loved \n",
            "\n",
            " myself \n",
            "\n",
            " i want you alone your lips it i read in the funkSinger                                                      blink 182\n",
            "Song Name                                        all the small things\n",
            "Lyrics               all the small things & true care truth brings...\n",
            "Midi File                        Blink_182_-_All_the_Small_Things.mid\n",
            "tokenized_lyrics    [all, the, small, things, &, true, care, truth...\n",
            "embeddins           [[0.099970095, -0.44439435, 0.1953827, -0.4839...\n",
            "full_melody         [0.0, 0.0, 0.0, 0.0, 0.0, 0.0, 0.0, 0.0, 0.0, ...\n",
            "melody_per_word     [[1.27, 1.27, 1.27, 1.27], [1.27, 1.27, 1.27, ...\n",
            "Name: 4, dtype: object\n",
            "None\n",
            "#######\n"
          ]
        }
      ]
    },
    {
      "cell_type": "markdown",
      "source": [
        "## melody representation - Melody per word"
      ],
      "metadata": {
        "id": "W9_yPrHIgZUz"
      }
    },
    {
      "cell_type": "code",
      "source": [
        "word = \"your\"\n",
        "(embedding, melody_vec), y = get_X_Y(pd.DataFrame(val.iloc[0]).T, num_of_words,'melody_per_word')\n",
        "generate_song(model_melody_per_word, melody_vec, word, window_size=1, tokenizer=tokenizer, max_song_len=50, preprocess_type=\"\")"
      ],
      "metadata": {
        "colab": {
          "base_uri": "https://localhost:8080/",
          "height": 53
        },
        "id": "9M2ngP3ftmT2",
        "outputId": "58bf695e-1201-492d-eae3-1b29d35b38a5"
      },
      "execution_count": null,
      "outputs": [
        {
          "output_type": "execute_result",
          "data": {
            "text/plain": [
              "\"your lover you & born & this is not think my lover i want to have a new 's killing & & the heart & take you think this world & can be given & i miss you i have to have changed was real & well you all the\""
            ],
            "application/vnd.google.colaboratory.intrinsic+json": {
              "type": "string"
            }
          },
          "metadata": {},
          "execution_count": 55
        }
      ]
    },
    {
      "cell_type": "markdown",
      "source": [
        "### First word: the original one\n",
        "\n"
      ],
      "metadata": {
        "id": "BULcUStNgem-"
      }
    },
    {
      "cell_type": "code",
      "source": [
        "generate_songs_test(model_melody_per_word, test_set, first_word=None, melody_type='melody_per_word')"
      ],
      "metadata": {
        "colab": {
          "base_uri": "https://localhost:8080/"
        },
        "id": "mVRL06NPg27t",
        "outputId": "ff36ced3-bf97-4e4c-e548-21b267d1663b"
      },
      "execution_count": null,
      "outputs": [
        {
          "output_type": "stream",
          "name": "stdout",
          "text": [
            "close \n",
            "\n",
            " wrap cupid on and fine to pray that i am a brother \n",
            "\n",
            " woah \n",
            "\n",
            " with evil \n",
            "\n",
            " in your that he will start happy that is like you for it do not killing \n",
            "\n",
            " is nothing let it feels \n",
            "\n",
            " every \n",
            "\n",
            " west doing you could beSinger                                                    the bangles\n",
            "Song Name                                               eternal flame\n",
            "Lyrics               close your eyes give me your hand darling & d...\n",
            "Midi File                             The_Bangles_-_Eternal_Flame.mid\n",
            "tokenized_lyrics    [close, your, eyes, give, me, your, hand, darl...\n",
            "embeddins           [[-0.034162007, 0.030340679, 0.009093242, 0.05...\n",
            "full_melody         [0.0, 0.0, 0.0, 0.0, 0.0, 0.0, 0.0, 0.0, 0.0, ...\n",
            "melody_per_word     [[1.18, 1.13, 1.13, 1.18], [1.18, 1.18, 1.06, ...\n",
            "Name: 0, dtype: object\n",
            "None\n",
            "#######\n",
            "if a feel i like more just find niggas listen to thank \n",
            "\n",
            " and buy please love is fine has window to know \n",
            "\n",
            " throw \n",
            "\n",
            " i know you cry through \n",
            "\n",
            " hunger can get us \n",
            "\n",
            " blue and now the city on the same to mean when i haveSinger                                                     billy joel\n",
            "Song Name                                                     honesty\n",
            "Lyrics               if you search for tenderness & it isn't hard ...\n",
            "Midi File                                    Billy_Joel_-_Honesty.mid\n",
            "tokenized_lyrics    [if, you, search, for, tenderness, &, it, is, ...\n",
            "embeddins           [[-0.08674358, -0.18673103, 0.12404695, 0.2389...\n",
            "full_melody         [0.0, 0.0, 0.0, 0.0, 0.0, 0.0, 0.0, 0.0, 0.0, ...\n",
            "melody_per_word     [[0.79, 0.79, 0.79, 0.79], [0.79, 0.0, 0.0, 0....\n",
            "Name: 1, dtype: object\n",
            "None\n",
            "#######\n",
            "dear says anywhere kind of my mind \n",
            "\n",
            " shoe \n",
            "\n",
            " i stand along no guard before a ghost \n",
            "\n",
            " it will be \n",
            "\n",
            " as the laughter \n",
            "\n",
            " you \n",
            "\n",
            " and take it so missing of all a moment here \n",
            "\n",
            " i was \n",
            "\n",
            " some should there is you are sureSinger                                                      cardigans\n",
            "Song Name                                                    lovefool\n",
            "Lyrics               dear i fear we're facing a problem & you love...\n",
            "Midi File                                    Cardigans_-_Lovefool.mid\n",
            "tokenized_lyrics    [dear, i, fear, we, are, facing, a, problem, &...\n",
            "embeddins           [[-0.02592472, 0.057766758, -0.01583256, 0.017...\n",
            "full_melody         [0.0, 0.0, 0.0, 0.0, 0.0, 0.0, 0.0, 0.0, 0.0, ...\n",
            "melody_per_word     [[0.7873333333333334, 0.7975, 0.78733333333333...\n",
            "Name: 2, dtype: object\n",
            "None\n",
            "#######\n",
            "hiya each a damn once to stay to come you blind to you know can do de down around \n",
            "\n",
            " said the a new world \n",
            "\n",
            " but is it away \n",
            "\n",
            " copa \n",
            "\n",
            " just let your sweet left of a game dreams \n",
            "\n",
            " let me \n",
            "\n",
            " it \n",
            "\n",
            " i doSinger                                                           aqua\n",
            "Song Name                                                 barbie girl\n",
            "Lyrics               hiya barbie & hi ken! & do you want to go for...\n",
            "Midi File                                      Aqua_-_Barbie_Girl.mid\n",
            "tokenized_lyrics    [hiya, barbie, &, hi, ken, &, do, you, want, t...\n",
            "embeddins           [[-0.00088816835, 0.0030492202, -0.0027459438,...\n",
            "full_melody         [0.0, 0.0, 0.0, 0.0, 0.0, 0.0, 0.0, 0.0, 0.0, ...\n",
            "melody_per_word     [[0.64, 0.64, 0.64, 0.715], [0.715, 0.6725, 0....\n",
            "Name: 3, dtype: object\n",
            "None\n",
            "#######\n",
            "all around \n",
            "\n",
            " ahhh only off when you know \n",
            "\n",
            " seem it up bag and it as a drink yeah i thought to my heart \n",
            "\n",
            " sha bop \n",
            "\n",
            " closer \n",
            "\n",
            " his friend \n",
            "\n",
            " in this sister her could will feel i am a hero style to me rock youSinger                                                      blink 182\n",
            "Song Name                                        all the small things\n",
            "Lyrics               all the small things & true care truth brings...\n",
            "Midi File                        Blink_182_-_All_the_Small_Things.mid\n",
            "tokenized_lyrics    [all, the, small, things, &, true, care, truth...\n",
            "embeddins           [[-0.07933161, 0.08157549, 0.03230519, 0.12845...\n",
            "full_melody         [0.0, 0.0, 0.0, 0.0, 0.0, 0.0, 0.0, 0.0, 0.0, ...\n",
            "melody_per_word     [[1.27, 1.27, 1.27, 1.27], [1.27, 1.27, 1.27, ...\n",
            "Name: 4, dtype: object\n",
            "None\n",
            "#######\n"
          ]
        }
      ]
    },
    {
      "cell_type": "markdown",
      "source": [
        "### First word: \"love\""
      ],
      "metadata": {
        "id": "MM6PtfnFgkT_"
      }
    },
    {
      "cell_type": "code",
      "source": [
        "generate_songs_test(model_melody_per_word, test_set, first_word=\"Love\",melody_type='melody_per_word')"
      ],
      "metadata": {
        "colab": {
          "base_uri": "https://localhost:8080/"
        },
        "id": "hxvG7Tu5hBcE",
        "outputId": "7ab2ef61-ed8e-4fa3-a613-cb67792cc5f5"
      },
      "execution_count": null,
      "outputs": [
        {
          "output_type": "stream",
          "name": "stdout",
          "text": [
            "love you \n",
            "\n",
            " i was you with you are not i was tha \n",
            "\n",
            " i would not get it is all you took like right \n",
            "\n",
            " and baby did you do not get to hide \n",
            "\n",
            " look by brother through the course are going for i got to the danceSinger                                                    the bangles\n",
            "Song Name                                               eternal flame\n",
            "Lyrics               close your eyes give me your hand darling & d...\n",
            "Midi File                             The_Bangles_-_Eternal_Flame.mid\n",
            "tokenized_lyrics    [close, your, eyes, give, me, your, hand, darl...\n",
            "embeddins           [[-0.034162007, 0.030340679, 0.009093242, 0.05...\n",
            "full_melody         [0.0, 0.0, 0.0, 0.0, 0.0, 0.0, 0.0, 0.0, 0.0, ...\n",
            "melody_per_word     [[1.18, 1.13, 1.13, 1.18], [1.18, 1.18, 1.06, ...\n",
            "Name: 0, dtype: object\n",
            "None\n",
            "#######\n",
            "love tonight with the pieces is just the name of life \n",
            "\n",
            " but my arms \n",
            "\n",
            " but please \n",
            "\n",
            " kick \n",
            "\n",
            " abacab \n",
            "\n",
            " take it was i am \n",
            "\n",
            " you are so to let me would time \n",
            "\n",
            " shoe in your \n",
            "\n",
            " she is love you say a new partSinger                                                     billy joel\n",
            "Song Name                                                     honesty\n",
            "Lyrics               if you search for tenderness & it isn't hard ...\n",
            "Midi File                                    Billy_Joel_-_Honesty.mid\n",
            "tokenized_lyrics    [if, you, search, for, tenderness, &, it, is, ...\n",
            "embeddins           [[-0.08674358, -0.18673103, 0.12404695, 0.2389...\n",
            "full_melody         [0.0, 0.0, 0.0, 0.0, 0.0, 0.0, 0.0, 0.0, 0.0, ...\n",
            "melody_per_word     [[0.79, 0.79, 0.79, 0.79], [0.79, 0.0, 0.0, 0....\n",
            "Name: 1, dtype: object\n",
            "None\n",
            "#######\n",
            "love means \n",
            "\n",
            " i waited you \n",
            "\n",
            " you please and jitterbug night the painful on you \n",
            "\n",
            " i could be \n",
            "\n",
            " riot \n",
            "\n",
            " and i love to live as i feel the angels woman nigga feel me now \n",
            "\n",
            " and the past skies of dawn \n",
            "\n",
            " and lupe incredible aSinger                                                      cardigans\n",
            "Song Name                                                    lovefool\n",
            "Lyrics               dear i fear we're facing a problem & you love...\n",
            "Midi File                                    Cardigans_-_Lovefool.mid\n",
            "tokenized_lyrics    [dear, i, fear, we, are, facing, a, problem, &...\n",
            "embeddins           [[-0.02592472, 0.057766758, -0.01583256, 0.017...\n",
            "full_melody         [0.0, 0.0, 0.0, 0.0, 0.0, 0.0, 0.0, 0.0, 0.0, ...\n",
            "melody_per_word     [[0.7873333333333334, 0.7975, 0.78733333333333...\n",
            "Name: 2, dtype: object\n",
            "None\n",
            "#######\n",
            "love that to spend you said and all so this way i moved in the move me that must \n",
            "\n",
            " then i want to spend on hurting \n",
            "\n",
            " anyone for you breathe back by 's one so you \n",
            "\n",
            " a price only time is too you do ron-ron-ron da doSinger                                                           aqua\n",
            "Song Name                                                 barbie girl\n",
            "Lyrics               hiya barbie & hi ken! & do you want to go for...\n",
            "Midi File                                      Aqua_-_Barbie_Girl.mid\n",
            "tokenized_lyrics    [hiya, barbie, &, hi, ken, &, do, you, want, t...\n",
            "embeddins           [[-0.00088816835, 0.0030492202, -0.0027459438,...\n",
            "full_melody         [0.0, 0.0, 0.0, 0.0, 0.0, 0.0, 0.0, 0.0, 0.0, ...\n",
            "melody_per_word     [[0.64, 0.64, 0.64, 0.715], [0.715, 0.6725, 0....\n",
            "Name: 3, dtype: object\n",
            "None\n",
            "#######\n",
            "love \n",
            "\n",
            " and it is from \n",
            "\n",
            " simple and and just your \n",
            "\n",
            " stay why do not speak more a song \n",
            "\n",
            " for the children watch x4 you like a bottle queen on his soul to hide \n",
            "\n",
            " when we can understand \n",
            "\n",
            " the sun pum pum ha now \n",
            "\n",
            "Singer                                                      blink 182\n",
            "Song Name                                        all the small things\n",
            "Lyrics               all the small things & true care truth brings...\n",
            "Midi File                        Blink_182_-_All_the_Small_Things.mid\n",
            "tokenized_lyrics    [all, the, small, things, &, true, care, truth...\n",
            "embeddins           [[-0.07933161, 0.08157549, 0.03230519, 0.12845...\n",
            "full_melody         [0.0, 0.0, 0.0, 0.0, 0.0, 0.0, 0.0, 0.0, 0.0, ...\n",
            "melody_per_word     [[1.27, 1.27, 1.27, 1.27], [1.27, 1.27, 1.27, ...\n",
            "Name: 4, dtype: object\n",
            "None\n",
            "#######\n"
          ]
        }
      ]
    },
    {
      "cell_type": "markdown",
      "source": [
        "### First word: \"baby\""
      ],
      "metadata": {
        "id": "MFqZp5o4gqoI"
      }
    },
    {
      "cell_type": "code",
      "source": [
        "generate_songs_test(model_melody_per_word, test_set, first_word=\"baby\",melody_type='melody_per_word')"
      ],
      "metadata": {
        "colab": {
          "base_uri": "https://localhost:8080/"
        },
        "id": "rpqYESsGhEZC",
        "outputId": "2ac16e28-ebb6-4d07-d0b2-8a487a67b8ea"
      },
      "execution_count": null,
      "outputs": [
        {
          "output_type": "stream",
          "name": "stdout",
          "text": [
            "baby \n",
            "\n",
            " in the old a lot me \n",
            "\n",
            " just want to \n",
            "\n",
            " she always them that you did i got a \n",
            "\n",
            " and give me when i turned \n",
            "\n",
            " i will drag just sit \n",
            "\n",
            " no \n",
            "\n",
            " i could go if i do not even that one \n",
            "\n",
            " becauseSinger                                                    the bangles\n",
            "Song Name                                               eternal flame\n",
            "Lyrics               close your eyes give me your hand darling & d...\n",
            "Midi File                             The_Bangles_-_Eternal_Flame.mid\n",
            "tokenized_lyrics    [close, your, eyes, give, me, your, hand, darl...\n",
            "embeddins           [[-0.034162007, 0.030340679, 0.009093242, 0.05...\n",
            "full_melody         [0.0, 0.0, 0.0, 0.0, 0.0, 0.0, 0.0, 0.0, 0.0, ...\n",
            "melody_per_word     [[1.18, 1.13, 1.13, 1.18], [1.18, 1.18, 1.06, ...\n",
            "Name: 0, dtype: object\n",
            "None\n",
            "#######\n",
            "baby \n",
            "\n",
            " a place \n",
            "\n",
            " it is so come on your shoes through you cry you got in the church my loneliness \n",
            "\n",
            " girl \n",
            "\n",
            " around let me help khan or me because i feel them from these \n",
            "\n",
            " there is crazy make baby about waits falling loving it doSinger                                                     billy joel\n",
            "Song Name                                                     honesty\n",
            "Lyrics               if you search for tenderness & it isn't hard ...\n",
            "Midi File                                    Billy_Joel_-_Honesty.mid\n",
            "tokenized_lyrics    [if, you, search, for, tenderness, &, it, is, ...\n",
            "embeddins           [[-0.08674358, -0.18673103, 0.12404695, 0.2389...\n",
            "full_melody         [0.0, 0.0, 0.0, 0.0, 0.0, 0.0, 0.0, 0.0, 0.0, ...\n",
            "melody_per_word     [[0.79, 0.79, 0.79, 0.79], [0.79, 0.0, 0.0, 0....\n",
            "Name: 1, dtype: object\n",
            "None\n",
            "#######\n",
            "baby baby \n",
            "\n",
            " him you babe while how to know them just beginning you are not talk girl a fool forever apart \n",
            "\n",
            " and when i saw \n",
            "\n",
            " and you can always should \n",
            "\n",
            " in your mind \n",
            "\n",
            " and drinks on me \n",
            "\n",
            " they are riding of love around \n",
            "\n",
            "Singer                                                      cardigans\n",
            "Song Name                                                    lovefool\n",
            "Lyrics               dear i fear we're facing a problem & you love...\n",
            "Midi File                                    Cardigans_-_Lovefool.mid\n",
            "tokenized_lyrics    [dear, i, fear, we, are, facing, a, problem, &...\n",
            "embeddins           [[-0.02592472, 0.057766758, -0.01583256, 0.017...\n",
            "full_melody         [0.0, 0.0, 0.0, 0.0, 0.0, 0.0, 0.0, 0.0, 0.0, ...\n",
            "melody_per_word     [[0.7873333333333334, 0.7975, 0.78733333333333...\n",
            "Name: 2, dtype: object\n",
            "None\n",
            "#######\n",
            "baby should \n",
            "\n",
            " my here on the knife with you so unkind \n",
            "\n",
            " while that you hardly my heart \n",
            "\n",
            " slow in to get her lives you with my hopes everything you the speed bonny \n",
            "\n",
            " i will be love you \n",
            "\n",
            " i am \n",
            "\n",
            " i am right \n",
            "\n",
            " inSinger                                                           aqua\n",
            "Song Name                                                 barbie girl\n",
            "Lyrics               hiya barbie & hi ken! & do you want to go for...\n",
            "Midi File                                      Aqua_-_Barbie_Girl.mid\n",
            "tokenized_lyrics    [hiya, barbie, &, hi, ken, &, do, you, want, t...\n",
            "embeddins           [[-0.00088816835, 0.0030492202, -0.0027459438,...\n",
            "full_melody         [0.0, 0.0, 0.0, 0.0, 0.0, 0.0, 0.0, 0.0, 0.0, ...\n",
            "melody_per_word     [[0.64, 0.64, 0.64, 0.715], [0.715, 0.6725, 0....\n",
            "Name: 3, dtype: object\n",
            "None\n",
            "#######\n",
            "baby and who the way i am the hand you are fed that makes of our mind \n",
            "\n",
            " mental in the oh oh \n",
            "\n",
            " oh \n",
            "\n",
            " you are cryin \n",
            "\n",
            " do not pass \n",
            "\n",
            " \n",
            "\n",
            " it is another freak the sand \n",
            "\n",
            " the the time \n",
            "\n",
            " that it is aSinger                                                      blink 182\n",
            "Song Name                                        all the small things\n",
            "Lyrics               all the small things & true care truth brings...\n",
            "Midi File                        Blink_182_-_All_the_Small_Things.mid\n",
            "tokenized_lyrics    [all, the, small, things, &, true, care, truth...\n",
            "embeddins           [[-0.07933161, 0.08157549, 0.03230519, 0.12845...\n",
            "full_melody         [0.0, 0.0, 0.0, 0.0, 0.0, 0.0, 0.0, 0.0, 0.0, ...\n",
            "melody_per_word     [[1.27, 1.27, 1.27, 1.27], [1.27, 1.27, 1.27, ...\n",
            "Name: 4, dtype: object\n",
            "None\n",
            "#######\n"
          ]
        }
      ]
    },
    {
      "cell_type": "markdown",
      "source": [
        "### First word: \"happy\""
      ],
      "metadata": {
        "id": "B2NsBVPYgsQv"
      }
    },
    {
      "cell_type": "code",
      "source": [
        "generate_songs_test(model_melody_per_word, test_set, first_word=\"happy\", melody_type='melody_per_word')"
      ],
      "metadata": {
        "colab": {
          "base_uri": "https://localhost:8080/"
        },
        "id": "KoJf-QPIhHc8",
        "outputId": "2d6bd389-87ba-4569-8c9e-132e83c66b85"
      },
      "execution_count": null,
      "outputs": [
        {
          "output_type": "stream",
          "name": "stdout",
          "text": [
            "happy \n",
            "\n",
            " on the route \n",
            "\n",
            " all you can not hear \n",
            "\n",
            " because i can feel her said you know what they got as new wish \n",
            "\n",
            " and your place for the end are losing \n",
            "\n",
            " on the blinds at you do not give me the end of hollywood ofSinger                                                    the bangles\n",
            "Song Name                                               eternal flame\n",
            "Lyrics               close your eyes give me your hand darling & d...\n",
            "Midi File                             The_Bangles_-_Eternal_Flame.mid\n",
            "tokenized_lyrics    [close, your, eyes, give, me, your, hand, darl...\n",
            "embeddins           [[-0.034162007, 0.030340679, 0.009093242, 0.05...\n",
            "full_melody         [0.0, 0.0, 0.0, 0.0, 0.0, 0.0, 0.0, 0.0, 0.0, ...\n",
            "melody_per_word     [[1.18, 1.13, 1.13, 1.18], [1.18, 1.18, 1.06, ...\n",
            "Name: 0, dtype: object\n",
            "None\n",
            "#######\n",
            "happy i would be the city all around me \n",
            "\n",
            " but i am you that i will never \n",
            "\n",
            " do not you are going to dance from all the dub to my car on my oh yeah yeah yeah \n",
            "\n",
            " when i will want to take forever it home theSinger                                                     billy joel\n",
            "Song Name                                                     honesty\n",
            "Lyrics               if you search for tenderness & it isn't hard ...\n",
            "Midi File                                    Billy_Joel_-_Honesty.mid\n",
            "tokenized_lyrics    [if, you, search, for, tenderness, &, it, is, ...\n",
            "embeddins           [[-0.08674358, -0.18673103, 0.12404695, 0.2389...\n",
            "full_melody         [0.0, 0.0, 0.0, 0.0, 0.0, 0.0, 0.0, 0.0, 0.0, ...\n",
            "melody_per_word     [[0.79, 0.79, 0.79, 0.79], [0.79, 0.0, 0.0, 0....\n",
            "Name: 1, dtype: object\n",
            "None\n",
            "#######\n",
            "happy are to \n",
            "\n",
            " he is on \n",
            "\n",
            " i pulled the finest along i rang \n",
            "\n",
            " waterloo people the one late to hold mission again \n",
            "\n",
            " but if it is gone i will see \n",
            "\n",
            " and at the savior on now they have got times the devil and then theSinger                                                      cardigans\n",
            "Song Name                                                    lovefool\n",
            "Lyrics               dear i fear we're facing a problem & you love...\n",
            "Midi File                                    Cardigans_-_Lovefool.mid\n",
            "tokenized_lyrics    [dear, i, fear, we, are, facing, a, problem, &...\n",
            "embeddins           [[-0.02592472, 0.057766758, -0.01583256, 0.017...\n",
            "full_melody         [0.0, 0.0, 0.0, 0.0, 0.0, 0.0, 0.0, 0.0, 0.0, ...\n",
            "melody_per_word     [[0.7873333333333334, 0.7975, 0.78733333333333...\n",
            "Name: 2, dtype: object\n",
            "None\n",
            "#######\n",
            "happy let the neighborhood of us be the cold all my beautiful \n",
            "\n",
            " right about you are not easy as time from your loving until room sing \n",
            "\n",
            " you were the wonders \n",
            "\n",
            " i need you \n",
            "\n",
            " and turn together and get your sleep to go \n",
            "\n",
            " the poison placeSinger                                                           aqua\n",
            "Song Name                                                 barbie girl\n",
            "Lyrics               hiya barbie & hi ken! & do you want to go for...\n",
            "Midi File                                      Aqua_-_Barbie_Girl.mid\n",
            "tokenized_lyrics    [hiya, barbie, &, hi, ken, &, do, you, want, t...\n",
            "embeddins           [[-0.00088816835, 0.0030492202, -0.0027459438,...\n",
            "full_melody         [0.0, 0.0, 0.0, 0.0, 0.0, 0.0, 0.0, 0.0, 0.0, ...\n",
            "melody_per_word     [[0.64, 0.64, 0.64, 0.715], [0.715, 0.6725, 0....\n",
            "Name: 3, dtype: object\n",
            "None\n",
            "#######\n",
            "happy to go \n",
            "\n",
            " my good times there could lost i wish do \n",
            "\n",
            " kick me take on forever i am my war beat \n",
            "\n",
            " what we have \n",
            "\n",
            " tells and i let me \n",
            "\n",
            " i have to hurt \n",
            "\n",
            " what you \n",
            "\n",
            " well as i got to meet upSinger                                                      blink 182\n",
            "Song Name                                        all the small things\n",
            "Lyrics               all the small things & true care truth brings...\n",
            "Midi File                        Blink_182_-_All_the_Small_Things.mid\n",
            "tokenized_lyrics    [all, the, small, things, &, true, care, truth...\n",
            "embeddins           [[-0.07933161, 0.08157549, 0.03230519, 0.12845...\n",
            "full_melody         [0.0, 0.0, 0.0, 0.0, 0.0, 0.0, 0.0, 0.0, 0.0, ...\n",
            "melody_per_word     [[1.27, 1.27, 1.27, 1.27], [1.27, 1.27, 1.27, ...\n",
            "Name: 4, dtype: object\n",
            "None\n",
            "#######\n"
          ]
        }
      ]
    }
  ]
}